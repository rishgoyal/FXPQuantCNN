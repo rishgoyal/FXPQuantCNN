{
 "cells": [
  {
   "cell_type": "code",
   "execution_count": 1,
   "metadata": {
    "ExecuteTime": {
     "end_time": "2019-08-19T18:51:47.164453Z",
     "start_time": "2019-08-19T18:51:36.382179Z"
    }
   },
   "outputs": [
    {
     "name": "stderr",
     "output_type": "stream",
     "text": [
      "Using TensorFlow backend.\n"
     ]
    }
   ],
   "source": [
    "import sys\n",
    "sys.path.append('C:/Users/320060820/experiments/')\n",
    "import fxp_quantize\n",
    "import model_data\n",
    "import fixed_bitwidth\n",
    "from model_gen import keras_cnn, inception_cnn\n",
    "from algorithms.optimized_search import OptimizedSearch\n",
    "\n",
    "import keras\n",
    "import tensorflow as tf\n",
    "import numpy as np\n",
    "%matplotlib inline\n",
    "import matplotlib.pyplot as plt\n",
    "import seaborn as sns\n",
    "\n",
    "# to restart layer numbering\n",
    "from keras import backend as K\n",
    "K.clear_session()"
   ]
  },
  {
   "cell_type": "code",
   "execution_count": 2,
   "metadata": {
    "ExecuteTime": {
     "end_time": "2019-08-19T08:37:24.332818Z",
     "start_time": "2019-08-19T08:37:20.486126Z"
    }
   },
   "outputs": [
    {
     "name": "stdout",
     "output_type": "stream",
     "text": [
      "WARNING:tensorflow:From C:\\Users\\320060820\\Anaconda3\\envs\\tf_gpu\\lib\\site-packages\\tensorflow\\python\\framework\\op_def_library.py:263: colocate_with (from tensorflow.python.framework.ops) is deprecated and will be removed in a future version.\n",
      "Instructions for updating:\n",
      "Colocations handled automatically by placer.\n",
      "WARNING:tensorflow:From C:\\Users\\320060820\\Anaconda3\\envs\\tf_gpu\\lib\\site-packages\\keras\\backend\\tensorflow_backend.py:3445: calling dropout (from tensorflow.python.ops.nn_ops) with keep_prob is deprecated and will be removed in a future version.\n",
      "Instructions for updating:\n",
      "Please use `rate` instead of `keep_prob`. Rate should be set to `rate = 1 - keep_prob`.\n"
     ]
    }
   ],
   "source": [
    "input_shape = (28, 28, 1)\n",
    "num_outputs = 10 # number of classes\n",
    "path_trained_weights = 'C:/Users/320060820/experiments/test_models/mnist_custom/mnist_keras_w.h5'\n",
    "name = 'mnist_keras'\n",
    "\n",
    "from test_models.mnist_custom import data\n",
    "_, test_data = data.get_data()\n",
    "\n",
    "model_arch = keras_cnn.KerasCNN(input_shape, num_outputs, path_trained_weights)\n",
    "keras_model = model_data.Model(name, test_data, model=model_arch.get_float_model())\n",
    "float_model_acc = keras_model.evaluate_accuracy()[1]"
   ]
  },
  {
   "cell_type": "code",
   "execution_count": null,
   "metadata": {
    "ExecuteTime": {
     "end_time": "2019-08-19T07:20:14.436787Z",
     "start_time": "2019-08-19T07:20:02.390Z"
    }
   },
   "outputs": [],
   "source": [
    "input_shape = (32, 32, 3)\n",
    "num_outputs = 10 # number of classes\n",
    "path_trained_weights = 'C:/Users/320060820/experiments/test_models/svhn_keras/svhn_keras_w.h5'\n",
    "name = 'svhn_keras'\n",
    "\n",
    "from test_models.svhn_keras import data\n",
    "_, test_data = data.get_data()\n",
    "\n",
    "model_arch = keras_cnn.KerasCNN(input_shape, num_outputs, path_trained_weights)\n",
    "model_obj = model_data.Model(name, test_data, model=model_arch.get_float_model())\n",
    "float_model_acc = model_obj.evaluate_accuracy()[1]"
   ]
  },
  {
   "cell_type": "code",
   "execution_count": 11,
   "metadata": {
    "ExecuteTime": {
     "end_time": "2019-08-19T19:03:44.807531Z",
     "start_time": "2019-08-19T19:03:28.729588Z"
    }
   },
   "outputs": [],
   "source": [
    "input_shape = (96, 96, 1)\n",
    "num_outputs = 10 # number of classes\n",
    "path_trained_weights = 'C:/Users/320060820/experiments/test_models/fashion_df/fashion_df_w.h5'\n",
    "name = 'fashion_df'\n",
    "\n",
    "from test_models.fashion_df import data\n",
    "_, test_data = data.get_data()\n",
    "\n",
    "model_arch = inception_cnn.InceptionCNN(input_shape, num_outputs, path_trained_weights, dropout=True, \n",
    "                                        pool_layer_type='max')\n",
    "model_obj = model_data.Model(name, test_data, model=model_arch.get_float_model())\n",
    "float_model_acc = model_obj.evaluate_accuracy()[1]"
   ]
  },
  {
   "cell_type": "code",
   "execution_count": null,
   "metadata": {
    "ExecuteTime": {
     "end_time": "2019-08-20T07:57:04.020405Z",
     "start_time": "2019-08-20T07:56:43.172920Z"
    },
    "scrolled": false
   },
   "outputs": [],
   "source": [
    "# weights\n",
    "opts = OptimizedSearch(0.003, model_arch, name, test_data, float_model_acc)\n",
    "scores, opt_params = opts.run('weights', start_bw = 8)\n",
    "scores_dict = {i: scores[i] for i in scores.keys()}\n",
    "\n",
    "print(f'Floating point model accuracy: {float_model_acc * 100 :.3f} %')\n",
    "\n",
    "model_obj = model_data.Model(name, test_data, model=model_arch.get_float_model())\n",
    "model_obj = fxp_quantize.fix_weights_quantization(model_obj, opt_params)\n",
    "fxp_model_acc = model_obj.evaluate_accuracy()[1]\n",
    "print(f'Quantized model accuracy: {fxp_model_acc * 100 :.3f} %')\n",
    "print(f'Accuracy drop of {(float_model_acc - fxp_model_acc) / float_model_acc * 100 :.3f} %')\n",
    "\n",
    "opts.plot_scores_matrix(scores_dict, 12, 2, (20, 75))"
   ]
  },
  {
   "cell_type": "code",
   "execution_count": 93,
   "metadata": {
    "ExecuteTime": {
     "end_time": "2019-08-14T09:05:29.971676Z",
     "start_time": "2019-08-14T09:05:27.293825Z"
    }
   },
   "outputs": [
    {
     "name": "stdout",
     "output_type": "stream",
     "text": [
      "Floating point model accuracy: 0.9911\n",
      "Quantized model accuracy: 0.9908\n",
      "Accuracy drop of 0.030269397638983654 %\n"
     ]
    }
   ],
   "source": [
    "# biases\n",
    "opts = OptimizedSearch(0.003, model_arch, name, test_data, float_model_acc)\n",
    "scores, opt_params = opts.run('biases', start_bw = 8)\n",
    "scores_dict = {i: scores[i] for i in scores.keys()}\n",
    "\n",
    "print(f'Floating point model accuracy: {float_model_acc * 100 :.3f} %')\n",
    "\n",
    "model_obj = model_data.Model(name, test_data, model=model_arch.get_float_model())\n",
    "model_obj = fxp_quantize.fix_biases_quantization(model_obj, opt_params)\n",
    "fxp_model_acc = model_obj.evaluate_accuracy()[1]\n",
    "print(f'Quantized model accuracy: {fxp_model_acc * 100 :.3f} %')\n",
    "print(f'Accuracy drop of {(float_model_acc - fxp_model_acc) / float_model_acc * 100 :.3f} %')\n",
    "\n",
    "opts.plot_scores_matrix(scores_dict, 3, 2, (20, 15))"
   ]
  },
  {
   "cell_type": "code",
   "execution_count": 42,
   "metadata": {
    "ExecuteTime": {
     "end_time": "2019-08-14T13:02:16.222125Z",
     "start_time": "2019-08-14T13:02:12.429236Z"
    }
   },
   "outputs": [
    {
     "name": "stdout",
     "output_type": "stream",
     "text": [
      "Floating point model accuracy: 0.9911\n",
      "Quantized model accuracy: 0.9873\n",
      "Accuracy drop of 0.3834123700938377 %\n"
     ]
    }
   ],
   "source": [
    "# activations\n",
    "opts = OptimizedSearch(0.003, model_arch, name, test_data, float_model_acc)\n",
    "scores, opt_params = opts.run('activations', start_bw = 8)\n",
    "scores_dict = {i: scores[i] for i in scores.keys()}\n",
    "\n",
    "print(f'Floating point model accuracy: {float_model_acc * 100 :.3f} %')\n",
    "\n",
    "model_obj = model_data.Model(name, test_data, model=model_arch.get_fxp_model(opt_params))\n",
    "fxp_model_acc = model_obj.evaluate_accuracy()[1]\n",
    "print(f'Quantized model accuracy: {fxp_model_acc * 100 :.3f} %')\n",
    "print(f'Accuracy drop of {(float_model_acc - fxp_model_acc) / float_model_acc * 100 :.3f} %')\n",
    "\n",
    "opts.plot_scores_matrix(scores_dict, 3, 2, (20, 15))"
   ]
  },
  {
   "cell_type": "code",
   "execution_count": null,
   "metadata": {},
   "outputs": [],
   "source": []
  }
 ],
 "metadata": {
  "kernelspec": {
   "display_name": "Python 3",
   "language": "python",
   "name": "python3"
  },
  "language_info": {
   "codemirror_mode": {
    "name": "ipython",
    "version": 3
   },
   "file_extension": ".py",
   "mimetype": "text/x-python",
   "name": "python",
   "nbconvert_exporter": "python",
   "pygments_lexer": "ipython3",
   "version": "3.7.3"
  },
  "varInspector": {
   "cols": {
    "lenName": 16,
    "lenType": 16,
    "lenVar": 40
   },
   "kernels_config": {
    "python": {
     "delete_cmd_postfix": "",
     "delete_cmd_prefix": "del ",
     "library": "var_list.py",
     "varRefreshCmd": "print(var_dic_list())"
    },
    "r": {
     "delete_cmd_postfix": ") ",
     "delete_cmd_prefix": "rm(",
     "library": "var_list.r",
     "varRefreshCmd": "cat(var_dic_list()) "
    }
   },
   "types_to_exclude": [
    "module",
    "function",
    "builtin_function_or_method",
    "instance",
    "_Feature"
   ],
   "window_display": false
  }
 },
 "nbformat": 4,
 "nbformat_minor": 2
}
