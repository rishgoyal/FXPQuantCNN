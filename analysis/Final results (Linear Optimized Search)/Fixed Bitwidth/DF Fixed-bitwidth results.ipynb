{
 "cells": [
  {
   "cell_type": "code",
   "execution_count": 1,
   "metadata": {
    "ExecuteTime": {
     "end_time": "2019-09-27T18:15:03.090937Z",
     "start_time": "2019-09-27T18:14:59.965253Z"
    }
   },
   "outputs": [
    {
     "name": "stderr",
     "output_type": "stream",
     "text": [
      "Using TensorFlow backend.\n"
     ]
    }
   ],
   "source": [
    "import sys\n",
    "sys.path.append('C:/Users/320060820/experiments/')\n",
    "import fxp_quantize\n",
    "import model_data\n",
    "from algorithms import fixed_bitwidth\n",
    "from model_gen import inception_cnn\n",
    "\n",
    "import keras\n",
    "import tensorflow as tf\n",
    "import numpy as np\n",
    "%matplotlib inline\n",
    "import matplotlib.pyplot as plt\n",
    "import seaborn as sns\n",
    "import itertools\n",
    "import pandas as pd\n",
    "import pickle\n",
    "\n",
    "# to restart layer numbering\n",
    "from keras import backend as K\n",
    "K.clear_session()"
   ]
  },
  {
   "cell_type": "code",
   "execution_count": 2,
   "metadata": {
    "ExecuteTime": {
     "end_time": "2019-09-27T16:42:50.950658Z",
     "start_time": "2019-09-27T16:42:21.561995Z"
    },
    "scrolled": true
   },
   "outputs": [
    {
     "name": "stdout",
     "output_type": "stream",
     "text": [
      "WARNING:tensorflow:From C:\\Users\\320060820\\Anaconda3\\envs\\tf_gpu\\lib\\site-packages\\tensorflow\\python\\framework\\op_def_library.py:263: colocate_with (from tensorflow.python.framework.ops) is deprecated and will be removed in a future version.\n",
      "Instructions for updating:\n",
      "Colocations handled automatically by placer.\n",
      "WARNING:tensorflow:From C:\\Users\\320060820\\Anaconda3\\envs\\tf_gpu\\lib\\site-packages\\keras\\backend\\tensorflow_backend.py:3445: calling dropout (from tensorflow.python.ops.nn_ops) with keep_prob is deprecated and will be removed in a future version.\n",
      "Instructions for updating:\n",
      "Please use `rate` instead of `keep_prob`. Rate should be set to `rate = 1 - keep_prob`.\n",
      "0.7452\n"
     ]
    }
   ],
   "source": [
    "input_shape = (96, 96, 3)\n",
    "num_outputs = 10 # number of classes\n",
    "path_trained_weights = 'C:/Users/320060820/experiments/test_models/cifar_df2/model_32_0.75_w.h5'\n",
    "output_path = 'C:/Users/320060820/experiments/outputs/Comp_Dependent_Optimized_Search/DF CIFAR10/'\n",
    "name = 'cifar_df'\n",
    "\n",
    "from test_models.cifar_df2 import data\n",
    "_, test_data = data.get_data()\n",
    "\n",
    "model_arch = inception_cnn.InceptionCNN(input_shape, num_outputs, dropout=True, \n",
    "                                        pool_layer_type='max', path_trained_weights=path_trained_weights)\n",
    "model_obj = model_data.Model(name, test_data, model=model_arch.get_float_model())\n",
    "float_model_acc = model_obj.evaluate_accuracy()[1]\n",
    "print(float_model_acc)"
   ]
  },
  {
   "cell_type": "code",
   "execution_count": 3,
   "metadata": {
    "ExecuteTime": {
     "end_time": "2019-09-27T16:43:28.339752Z",
     "start_time": "2019-09-27T16:42:51.094275Z"
    }
   },
   "outputs": [
    {
     "name": "stdout",
     "output_type": "stream",
     "text": [
      "Original network's accuracy: 0.7452\n",
      "Quantized network's accuracy: 0.7434\n",
      "Accuracy drop: 0.242 %\n",
      "Calculating fractional offsets for weights of the network\n",
      "Original network's accuracy: 0.7452\n",
      "Quantized network's accuracy: 0.7418\n",
      "Accuracy drop: 0.456 %\n",
      "Calculating fractional offsets for the biases of the network\n",
      "Quantized network's accuracy: 0.7434\n",
      "Accuracy drop: 0.242 %\n",
      "{'activations': 0.24154589371980997, 'weights': 0.4562533548040739, 'biases': 0.24154589371980997}\n"
     ]
    }
   ],
   "source": [
    "opt_params = {}\n",
    "quant_model, opt_params['activations'], acc_drop = fixed_bitwidth.evaluate_quantized_activations(model_arch, name, \n",
    "                                                                                                 test_data, \n",
    "                                                                                                 float_model_acc,\n",
    "                                                                                                 bitwidth=8)\n",
    "\n",
    "quant_model, opt_params['weights'], opt_params['biases'], a = fixed_bitwidth.evaluate_quantized_weights(quant_model, \n",
    "                                                                                                        float_model_acc, \n",
    "                                                                                                        bitwidth=8)\n",
    "acc_drop = {**acc_drop, **a}\n",
    "print(acc_drop)"
   ]
  },
  {
   "cell_type": "code",
   "execution_count": 4,
   "metadata": {
    "ExecuteTime": {
     "end_time": "2019-09-27T16:43:44.793783Z",
     "start_time": "2019-09-27T16:43:28.495336Z"
    }
   },
   "outputs": [
    {
     "name": "stdout",
     "output_type": "stream",
     "text": [
      "0.9106\n"
     ]
    }
   ],
   "source": [
    "input_shape = (96, 96, 1)\n",
    "num_outputs = 10 # number of classes\n",
    "path_trained_weights = 'C:/Users/320060820/experiments/test_models/fashion_df/fashion_df.h5'\n",
    "output_path = 'C:/Users/320060820/experiments/outputs/Comp_Dependent_Optimized_Search/DF Fashion/'\n",
    "name = 'fashion_df'\n",
    "\n",
    "from test_models.fashion_df import data\n",
    "_, test_data = data.get_data()\n",
    "\n",
    "model_arch = inception_cnn.InceptionCNN(input_shape, num_outputs, dropout=True, \n",
    "                                        pool_layer_type='max', path_trained_weights=path_trained_weights)\n",
    "model_obj = model_data.Model(name, test_data, model=model_arch.get_float_model())\n",
    "float_model_acc = model_obj.evaluate_accuracy()[1]\n",
    "print(float_model_acc)"
   ]
  },
  {
   "cell_type": "code",
   "execution_count": 5,
   "metadata": {
    "ExecuteTime": {
     "end_time": "2019-09-27T16:44:16.914949Z",
     "start_time": "2019-09-27T16:43:44.895511Z"
    }
   },
   "outputs": [
    {
     "name": "stdout",
     "output_type": "stream",
     "text": [
      "Original network's accuracy: 0.9106\n",
      "Quantized network's accuracy: 0.9105\n",
      "Accuracy drop: 0.011 %\n",
      "Calculating fractional offsets for weights of the network\n",
      "Original network's accuracy: 0.9106\n",
      "Quantized network's accuracy: 0.9064\n",
      "Accuracy drop: 0.461 %\n",
      "Calculating fractional offsets for the biases of the network\n",
      "Quantized network's accuracy: 0.905\n",
      "Accuracy drop: 0.615 %\n",
      "{'activations': 0.010981770261364925, 'weights': 0.4612343509773756, 'biases': 0.6149791346364966}\n"
     ]
    }
   ],
   "source": [
    "opt_params = {}\n",
    "quant_model, opt_params['activations'], acc_drop = fixed_bitwidth.evaluate_quantized_activations(model_arch, name, \n",
    "                                                                                                 test_data, \n",
    "                                                                                                 float_model_acc,\n",
    "                                                                                                 bitwidth=8)\n",
    "\n",
    "quant_model, opt_params['weights'], opt_params['biases'], a = fixed_bitwidth.evaluate_quantized_weights(quant_model, \n",
    "                                                                                                        float_model_acc, \n",
    "                                                                                                        bitwidth=8)\n",
    "acc_drop = {**acc_drop, **a}\n",
    "print(acc_drop)"
   ]
  },
  {
   "cell_type": "code",
   "execution_count": 6,
   "metadata": {
    "ExecuteTime": {
     "end_time": "2019-09-27T16:44:32.973070Z",
     "start_time": "2019-09-27T16:44:17.025653Z"
    }
   },
   "outputs": [
    {
     "name": "stdout",
     "output_type": "stream",
     "text": [
      "0.9808\n"
     ]
    }
   ],
   "source": [
    "input_shape = (96, 96, 1)\n",
    "num_outputs = 10 # number of classes\n",
    "path_trained_weights = 'C:/Users/320060820/experiments/test_models/mnist_df/inception_v3_model_batchnorm_w.h5'\n",
    "output_path = 'C:/Users/320060820/experiments/outputs/Comp_Dependent_Optimized_Search/DF MNIST/'\n",
    "name = 'mnist_df'\n",
    "total_acc_drop = 0.005\n",
    "\n",
    "from test_models.mnist_df import data\n",
    "_, test_data = data.get_data()\n",
    "\n",
    "model_arch = inception_cnn.InceptionCNN(input_shape, num_outputs, dropout=False, \n",
    "                                        pool_layer_type='average', path_trained_weights=path_trained_weights)\n",
    "model_obj = model_data.Model(name, test_data, model=model_arch.get_float_model())\n",
    "float_model_acc = model_obj.evaluate_accuracy()[1]\n",
    "print(float_model_acc)"
   ]
  },
  {
   "cell_type": "code",
   "execution_count": 7,
   "metadata": {
    "ExecuteTime": {
     "end_time": "2019-09-27T16:45:05.215692Z",
     "start_time": "2019-09-27T16:44:33.096708Z"
    }
   },
   "outputs": [
    {
     "name": "stdout",
     "output_type": "stream",
     "text": [
      "Original network's accuracy: 0.9808\n",
      "Quantized network's accuracy: 0.9808\n",
      "Accuracy drop: 0.000 %\n",
      "Calculating fractional offsets for weights of the network\n",
      "Original network's accuracy: 0.9808\n",
      "Quantized network's accuracy: 0.9802\n",
      "Accuracy drop: 0.061 %\n",
      "Calculating fractional offsets for the biases of the network\n",
      "Quantized network's accuracy: 0.9807\n",
      "Accuracy drop: 0.010 %\n",
      "{'activations': 0.0, 'weights': 0.061174551386627744, 'biases': 0.010195758564436072}\n"
     ]
    }
   ],
   "source": [
    "opt_params = {}\n",
    "quant_model, opt_params['activations'], acc_drop = fixed_bitwidth.evaluate_quantized_activations(model_arch, name, \n",
    "                                                                                                 test_data, \n",
    "                                                                                                 float_model_acc,\n",
    "                                                                                                 bitwidth=8)\n",
    "\n",
    "quant_model, opt_params['weights'], opt_params['biases'], a = fixed_bitwidth.evaluate_quantized_weights(quant_model, \n",
    "                                                                                                        float_model_acc, \n",
    "                                                                                                        bitwidth=8)\n",
    "acc_drop = {**acc_drop, **a}\n",
    "print(acc_drop)"
   ]
  },
  {
   "cell_type": "code",
   "execution_count": 8,
   "metadata": {
    "ExecuteTime": {
     "end_time": "2019-09-27T16:46:07.237031Z",
     "start_time": "2019-09-27T16:45:05.323404Z"
    }
   },
   "outputs": [
    {
     "name": "stdout",
     "output_type": "stream",
     "text": [
      "0.921980639213276\n"
     ]
    }
   ],
   "source": [
    "input_shape = (96, 96, 3)\n",
    "num_outputs = 10 # number of classes\n",
    "path_trained_weights = 'C:/Users/320060820/experiments/test_models/svhn_df/svhn_df_w.h5'\n",
    "output_path = 'C:/Users/320060820/experiments/outputs/Comp_Dependent_Optimized_Search/DF SVHN/'\n",
    "name = 'svhn_df'\n",
    "total_acc_drop = 0.005\n",
    "\n",
    "from test_models.svhn_df import data\n",
    "_, test_data = data.get_data()\n",
    "\n",
    "model_arch = inception_cnn.InceptionCNN(input_shape, num_outputs, dropout=True, \n",
    "                                        pool_layer_type='max', path_trained_weights=path_trained_weights)\n",
    "model_obj = model_data.Model(name, test_data, model=model_arch.get_float_model())\n",
    "float_model_acc = model_obj.evaluate_accuracy()[1]\n",
    "print(float_model_acc)"
   ]
  },
  {
   "cell_type": "code",
   "execution_count": 9,
   "metadata": {
    "ExecuteTime": {
     "end_time": "2019-09-27T16:47:19.843139Z",
     "start_time": "2019-09-27T16:46:07.386600Z"
    }
   },
   "outputs": [
    {
     "name": "stdout",
     "output_type": "stream",
     "text": [
      "Original network's accuracy: 0.921980639213276\n",
      "Quantized network's accuracy: 0.9140288875230486\n",
      "Accuracy drop: 0.862 %\n",
      "Calculating fractional offsets for weights of the network\n",
      "Original network's accuracy: 0.921980639213276\n",
      "Quantized network's accuracy: 0.9158343577135832\n",
      "Accuracy drop: 0.667 %\n",
      "Calculating fractional offsets for the biases of the network\n",
      "Quantized network's accuracy: 0.9141441303011678\n",
      "Accuracy drop: 0.850 %\n",
      "{'activations': 0.8624640639973362, 'weights': 0.6666388900462563, 'biases': 0.8499645848089675}\n"
     ]
    }
   ],
   "source": [
    "opt_params = {}\n",
    "quant_model, opt_params['activations'], acc_drop = fixed_bitwidth.evaluate_quantized_activations(model_arch, name, \n",
    "                                                                                                 test_data, \n",
    "                                                                                                 float_model_acc,\n",
    "                                                                                                 bitwidth=8)\n",
    "\n",
    "quant_model, opt_params['weights'], opt_params['biases'], a = fixed_bitwidth.evaluate_quantized_weights(quant_model, \n",
    "                                                                                                        float_model_acc, \n",
    "                                                                                                        bitwidth=8)\n",
    "acc_drop = {**acc_drop, **a}\n",
    "print(acc_drop)"
   ]
  },
  {
   "cell_type": "code",
   "execution_count": 2,
   "metadata": {
    "ExecuteTime": {
     "end_time": "2019-09-27T18:15:08.247073Z",
     "start_time": "2019-09-27T18:15:08.242091Z"
    }
   },
   "outputs": [],
   "source": [
    "keys = ['DF CIFAR10', 'DF Fashion', 'DF MNIST', 'DF SVHN', 'Sequential CIFAR10', 'Sequential Fashion',\n",
    "        'Sequential MNIST', 'Sequential SVHN']\n",
    "opts_results = np.array([0.009930220075147562, 0.009663957830002108, 0.00988988580750412, \n",
    "                         0.00995791842006585, 0.0077641635326944946, 0.009084027252081716,\n",
    "                         0.00984924623115581, 0.009779852698514871]) * 100\n",
    "fbw_results = np.array([0.0024154589371980997, 0.006149791346364966, 0.00010195758564436072, 0.008499645848089675,\n",
    "                        0.003396821545553833, 0.001946577268303139, -0.000100502512562803, 0.0014488670664465875]) * 100"
   ]
  },
  {
   "cell_type": "code",
   "execution_count": 14,
   "metadata": {
    "ExecuteTime": {
     "end_time": "2019-09-27T18:27:08.857171Z",
     "start_time": "2019-09-27T18:27:08.559934Z"
    }
   },
   "outputs": [
    {
     "data": {
      "image/png": "[encoded data removed]",
      "text/plain": [
       "<Figure size 864x648 with 1 Axes>"
      ]
     },
     "metadata": {
      "needs_background": "light"
     },
     "output_type": "display_data"
    }
   ],
   "source": [
    "global_save = 'C:/Users/320060820/OneDrive - Philips/Thesis docs/Thesis/Images/Final results/'\n",
    "plt.rcParams.update({'font.size': 12, 'font.weight':520})\n",
    "plt.figure(figsize=(12, 9))\n",
    "x1 = np.arange(1, 9, 1)\n",
    "width = 0.35\n",
    "x2 = x1 + width + 0.05\n",
    "plt.bar(x1, opts_results, width, color='tab:blue', label='Optimized Search')\n",
    "plt.bar(x2, fbw_results, width, color='tab:orange', label='Fixed-bitwidth (8-bit)')\n",
    "\n",
    "x3 = x1 + (width + 0.05) / 2\n",
    "lab = [('(S) ' + x.split(' ')[1]) if x.startswith('Sequential') else ('(B) ' + x.split(' ')[1]) for x in keys]\n",
    "plt.xticks(x3, lab)\n",
    "plt.grid()\n",
    "plt.legend()\n",
    "plt.ylim(fbw_results.min()-0.03, 1.1)\n",
    "plt.xlabel('Models')\n",
    "plt.ylabel('Inference Accuracy loss (%)')\n",
    "plt.savefig(global_save + 'acc_loss_comp.png', bbox_inches='tight')"
   ]
  },
  {
   "cell_type": "code",
   "execution_count": null,
   "metadata": {},
   "outputs": [],
   "source": []
  }
 ],
 "metadata": {
  "kernelspec": {
   "display_name": "Python 3",
   "language": "python",
   "name": "python3"
  },
  "language_info": {
   "codemirror_mode": {
    "name": "ipython",
    "version": 3
   },
   "file_extension": ".py",
   "mimetype": "text/x-python",
   "name": "python",
   "nbconvert_exporter": "python",
   "pygments_lexer": "ipython3",
   "version": "3.7.3"
  },
  "varInspector": {
   "cols": {
    "lenName": 16,
    "lenType": 16,
    "lenVar": 40
   },
   "kernels_config": {
    "python": {
     "delete_cmd_postfix": "",
     "delete_cmd_prefix": "del ",
     "library": "var_list.py",
     "varRefreshCmd": "print(var_dic_list())"
    },
    "r": {
     "delete_cmd_postfix": ") ",
     "delete_cmd_prefix": "rm(",
     "library": "var_list.r",
     "varRefreshCmd": "cat(var_dic_list()) "
    }
   },
   "types_to_exclude": [
    "module",
    "function",
    "builtin_function_or_method",
    "instance",
    "_Feature"
   ],
   "window_display": false
  }
 },
 "nbformat": 4,
 "nbformat_minor": 2
}
