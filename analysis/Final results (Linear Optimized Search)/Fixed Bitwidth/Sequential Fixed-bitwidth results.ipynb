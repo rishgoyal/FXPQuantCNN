{
 "cells": [
  {
   "cell_type": "code",
   "execution_count": 1,
   "metadata": {
    "ExecuteTime": {
     "end_time": "2019-09-27T18:00:58.270220Z",
     "start_time": "2019-09-27T18:00:55.253238Z"
    }
   },
   "outputs": [
    {
     "name": "stderr",
     "output_type": "stream",
     "text": [
      "Using TensorFlow backend.\n"
     ]
    }
   ],
   "source": [
    "import sys\n",
    "sys.path.append('C:/Users/320060820/experiments/')\n",
    "import fxp_quantize\n",
    "import model_data\n",
    "from algorithms import fixed_bitwidth\n",
    "from model_gen import keras_cnn\n",
    "\n",
    "import keras\n",
    "import tensorflow as tf\n",
    "import numpy as np\n",
    "%matplotlib inline\n",
    "import matplotlib.pyplot as plt\n",
    "import seaborn as sns\n",
    "import itertools\n",
    "import pandas as pd\n",
    "import pickle\n",
    "\n",
    "# to restart layer numbering\n",
    "from keras import backend as K\n",
    "K.clear_session()"
   ]
  },
  {
   "cell_type": "code",
   "execution_count": 5,
   "metadata": {
    "ExecuteTime": {
     "end_time": "2019-09-27T18:07:13.359133Z",
     "start_time": "2019-09-27T18:07:08.017322Z"
    },
    "scrolled": true
   },
   "outputs": [],
   "source": [
    "input_shape = (32, 32, 3)\n",
    "num_outputs = 10\n",
    "num_kernels = 32\n",
    "num_stages = 7\n",
    "path_trained_weights = 'C:/Users/320060820/experiments/test_models/cifar_keras/cifar_seq_large_w.h5'\n",
    "name = 'cifar_seq_large'\n",
    "\n",
    "from test_models.cifar_keras import data\n",
    "_, test_data = data.get_data()\n",
    "\n",
    "model_arch = keras_cnn.KerasCNNLarge(input_shape, num_outputs, num_kernels, num_stages, pool_layer_interval = 2, \n",
    "                                     path_trained_weights = path_trained_weights)\n",
    "model_obj = model_data.Model(name, test_data, model=model_arch.get_float_model())\n",
    "float_model_acc = model_obj.evaluate_accuracy()[1]"
   ]
  },
  {
   "cell_type": "code",
   "execution_count": 6,
   "metadata": {
    "ExecuteTime": {
     "end_time": "2019-09-27T18:07:31.646184Z",
     "start_time": "2019-09-27T18:07:13.396917Z"
    }
   },
   "outputs": [
    {
     "name": "stdout",
     "output_type": "stream",
     "text": [
      "Original network's accuracy: 0.8243\n",
      "Quantized network's accuracy: 0.8232\n",
      "Accuracy drop: 0.133 %\n",
      "Calculating fractional offsets for weights of the network\n",
      "Original network's accuracy: 0.8243\n",
      "Quantized network's accuracy: 0.8225\n",
      "Accuracy drop: 0.218 %\n",
      "Calculating fractional offsets for the biases of the network\n",
      "Quantized network's accuracy: 0.8215\n",
      "Accuracy drop: 0.340 %\n",
      "{'activations': 0.1334465607181839, 'weights': 0.2183670993570331, 'biases': 0.3396821545553833}\n"
     ]
    }
   ],
   "source": [
    "opt_params = {}\n",
    "quant_model, opt_params['activations'], acc_drop = fixed_bitwidth.evaluate_quantized_activations(model_arch, name, \n",
    "                                                                                                 test_data,\n",
    "                                                                                                 float_model_acc,\n",
    "                                                                                                 bitwidth=8)\n",
    "\n",
    "quant_model, opt_params['weights'], opt_params['biases'], a = fixed_bitwidth.evaluate_quantized_weights(quant_model, \n",
    "                                                                                                        float_model_acc, \n",
    "                                                                                                        bitwidth=8)\n",
    "acc_drop = {**acc_drop, **a}\n",
    "print(acc_drop)"
   ]
  },
  {
   "cell_type": "code",
   "execution_count": 7,
   "metadata": {
    "ExecuteTime": {
     "end_time": "2019-09-27T18:07:36.740592Z",
     "start_time": "2019-09-27T18:07:31.688069Z"
    }
   },
   "outputs": [
    {
     "name": "stdout",
     "output_type": "stream",
     "text": [
      "0.9247\n"
     ]
    }
   ],
   "source": [
    "input_shape = (28, 28, 1)\n",
    "num_outputs = 10\n",
    "num_kernels = 32\n",
    "num_stages = 7\n",
    "path_trained_weights = 'C:/Users/320060820/experiments/test_models/fashion_keras/fashion_seq_large_w.h5'\n",
    "name = 'fashion_seq_large'\n",
    "\n",
    "from test_models.fashion_keras import data\n",
    "_, test_data = data.get_data()\n",
    "\n",
    "model_arch = keras_cnn.KerasCNNLarge(input_shape, num_outputs, num_kernels, num_stages, pool_layer_interval = 2, \n",
    "                                     path_trained_weights = path_trained_weights)\n",
    "model_obj = model_data.Model(name, test_data, model=model_arch.get_float_model())\n",
    "float_model_acc = model_obj.evaluate_accuracy()[1]\n",
    "print(float_model_acc)"
   ]
  },
  {
   "cell_type": "code",
   "execution_count": 8,
   "metadata": {
    "ExecuteTime": {
     "end_time": "2019-09-27T18:07:53.545127Z",
     "start_time": "2019-09-27T18:07:36.771510Z"
    }
   },
   "outputs": [
    {
     "name": "stdout",
     "output_type": "stream",
     "text": [
      "Original network's accuracy: 0.9247\n",
      "Quantized network's accuracy: 0.9227\n",
      "Accuracy drop: 0.216 %\n",
      "Calculating fractional offsets for weights of the network\n",
      "Original network's accuracy: 0.9247\n",
      "Quantized network's accuracy: 0.9216\n",
      "Accuracy drop: 0.335 %\n",
      "Calculating fractional offsets for the biases of the network\n",
      "Quantized network's accuracy: 0.9229\n",
      "Accuracy drop: 0.195 %\n",
      "{'activations': 0.21628636314480393, 'weights': 0.33524386287444485, 'biases': 0.1946577268303139}\n"
     ]
    }
   ],
   "source": [
    "opt_params = {}\n",
    "quant_model, opt_params['activations'], acc_drop = fixed_bitwidth.evaluate_quantized_activations(model_arch, name, \n",
    "                                                                                                 test_data, \n",
    "                                                                                                 float_model_acc,\n",
    "                                                                                                 bitwidth=8)\n",
    "\n",
    "quant_model, opt_params['weights'], opt_params['biases'], a = fixed_bitwidth.evaluate_quantized_weights(quant_model, \n",
    "                                                                                                        float_model_acc, \n",
    "                                                                                                        bitwidth=8)\n",
    "acc_drop = {**acc_drop, **a}\n",
    "print(acc_drop)"
   ]
  },
  {
   "cell_type": "code",
   "execution_count": 9,
   "metadata": {
    "ExecuteTime": {
     "end_time": "2019-09-27T18:07:58.144834Z",
     "start_time": "2019-09-27T18:07:53.575048Z"
    }
   },
   "outputs": [
    {
     "name": "stdout",
     "output_type": "stream",
     "text": [
      "0.995\n"
     ]
    }
   ],
   "source": [
    "input_shape = (28, 28, 1)\n",
    "num_outputs = 10\n",
    "num_kernels = 32\n",
    "num_stages = 7\n",
    "path_trained_weights = 'C:/Users/320060820/experiments/test_models/mnist_custom/mnist_seq_large_w.h5'\n",
    "name = 'mnist_seq_large'\n",
    "\n",
    "from test_models.mnist_custom import data\n",
    "_, test_data = data.get_data()\n",
    "\n",
    "model_arch = keras_cnn.KerasCNNLarge(input_shape, num_outputs, num_kernels, num_stages, pool_layer_interval = 2, \n",
    "                                     path_trained_weights = path_trained_weights)\n",
    "model_obj = model_data.Model(name, test_data, model=model_arch.get_float_model())\n",
    "float_model_acc = model_obj.evaluate_accuracy()[1]\n",
    "print(float_model_acc)"
   ]
  },
  {
   "cell_type": "code",
   "execution_count": 10,
   "metadata": {
    "ExecuteTime": {
     "end_time": "2019-09-27T18:08:14.141190Z",
     "start_time": "2019-09-27T18:07:58.173759Z"
    }
   },
   "outputs": [
    {
     "name": "stdout",
     "output_type": "stream",
     "text": [
      "Original network's accuracy: 0.995\n",
      "Quantized network's accuracy: 0.9951\n",
      "Accuracy drop: -0.010 %\n",
      "Calculating fractional offsets for weights of the network\n",
      "Original network's accuracy: 0.995\n",
      "Quantized network's accuracy: 0.9952\n",
      "Accuracy drop: -0.020 %\n",
      "Calculating fractional offsets for the biases of the network\n",
      "Quantized network's accuracy: 0.9951\n",
      "Accuracy drop: -0.010 %\n",
      "{'activations': -0.0100502512562803, 'weights': -0.0201005025125606, 'biases': -0.0100502512562803}\n"
     ]
    }
   ],
   "source": [
    "opt_params = {}\n",
    "quant_model, opt_params['activations'], acc_drop = fixed_bitwidth.evaluate_quantized_activations(model_arch, name, \n",
    "                                                                                                 test_data, \n",
    "                                                                                                 float_model_acc,\n",
    "                                                                                                 bitwidth=8)\n",
    "\n",
    "quant_model, opt_params['weights'], opt_params['biases'], a = fixed_bitwidth.evaluate_quantized_weights(quant_model, \n",
    "                                                                                                        float_model_acc, \n",
    "                                                                                                        bitwidth=8)\n",
    "acc_drop = {**acc_drop, **a}\n",
    "print(acc_drop)"
   ]
  },
  {
   "cell_type": "code",
   "execution_count": 11,
   "metadata": {
    "ExecuteTime": {
     "end_time": "2019-09-27T18:08:25.269492Z",
     "start_time": "2019-09-27T18:08:14.171111Z"
    }
   },
   "outputs": [
    {
     "name": "stdout",
     "output_type": "stream",
     "text": [
      "0.954479102642901\n"
     ]
    }
   ],
   "source": [
    "input_shape = (32, 32, 3)\n",
    "num_outputs = 10\n",
    "num_kernels = 32\n",
    "num_stages = 7\n",
    "path_trained_weights = 'C:/Users/320060820/experiments/test_models/svhn_keras/svhn_seq_large_w_2.h5'\n",
    "name = 'svhn_seq_large'\n",
    "\n",
    "from test_models.svhn_keras import data\n",
    "_, test_data = data.get_data()\n",
    "\n",
    "model_arch = keras_cnn.KerasCNNLarge(input_shape, num_outputs, num_kernels, num_stages, pool_layer_interval = 2, \n",
    "                                     path_trained_weights = path_trained_weights)\n",
    "model_obj = model_data.Model(name, test_data, model=model_arch.get_float_model())\n",
    "float_model_acc = model_obj.evaluate_accuracy()[1]\n",
    "print(float_model_acc)"
   ]
  },
  {
   "cell_type": "code",
   "execution_count": 12,
   "metadata": {
    "ExecuteTime": {
     "end_time": "2019-09-27T18:09:00.189141Z",
     "start_time": "2019-09-27T18:08:25.307352Z"
    }
   },
   "outputs": [
    {
     "name": "stdout",
     "output_type": "stream",
     "text": [
      "Original network's accuracy: 0.954479102642901\n",
      "Quantized network's accuracy: 0.9545559311616472\n",
      "Accuracy drop: -0.008 %\n",
      "Calculating fractional offsets for weights of the network\n",
      "Original network's accuracy: 0.954479102642901\n",
      "Quantized network's accuracy: 0.9536339889366933\n",
      "Accuracy drop: 0.089 %\n",
      "Calculating fractional offsets for the biases of the network\n",
      "Quantized network's accuracy: 0.9530961893054702\n",
      "Accuracy drop: 0.145 %\n",
      "{'activations': -0.008049261480256234, 'weights': 0.08854187628285347, 'biases': 0.14488670664465875}\n"
     ]
    }
   ],
   "source": [
    "opt_params = {}\n",
    "quant_model, opt_params['activations'], acc_drop = fixed_bitwidth.evaluate_quantized_activations(model_arch, name, \n",
    "                                                                                                 test_data, \n",
    "                                                                                                 float_model_acc,\n",
    "                                                                                                 bitwidth=8)\n",
    "\n",
    "quant_model, opt_params['weights'], opt_params['biases'], a = fixed_bitwidth.evaluate_quantized_weights(quant_model, \n",
    "                                                                                                        float_model_acc, \n",
    "                                                                                                        bitwidth=8)\n",
    "acc_drop = {**acc_drop, **a}\n",
    "print(acc_drop)"
   ]
  },
  {
   "cell_type": "code",
   "execution_count": null,
   "metadata": {},
   "outputs": [],
   "source": []
  }
 ],
 "metadata": {
  "kernelspec": {
   "display_name": "Python 3",
   "language": "python",
   "name": "python3"
  },
  "language_info": {
   "codemirror_mode": {
    "name": "ipython",
    "version": 3
   },
   "file_extension": ".py",
   "mimetype": "text/x-python",
   "name": "python",
   "nbconvert_exporter": "python",
   "pygments_lexer": "ipython3",
   "version": "3.7.3"
  },
  "varInspector": {
   "cols": {
    "lenName": 16,
    "lenType": 16,
    "lenVar": 40
   },
   "kernels_config": {
    "python": {
     "delete_cmd_postfix": "",
     "delete_cmd_prefix": "del ",
     "library": "var_list.py",
     "varRefreshCmd": "print(var_dic_list())"
    },
    "r": {
     "delete_cmd_postfix": ") ",
     "delete_cmd_prefix": "rm(",
     "library": "var_list.r",
     "varRefreshCmd": "cat(var_dic_list()) "
    }
   },
   "types_to_exclude": [
    "module",
    "function",
    "builtin_function_or_method",
    "instance",
    "_Feature"
   ],
   "window_display": false
  }
 },
 "nbformat": 4,
 "nbformat_minor": 2
}
