{
 "cells": [
  {
   "cell_type": "code",
   "execution_count": 1,
   "metadata": {
    "ExecuteTime": {
     "end_time": "2019-09-27T05:49:16.132534Z",
     "start_time": "2019-09-27T05:48:47.249884Z"
    }
   },
   "outputs": [
    {
     "name": "stderr",
     "output_type": "stream",
     "text": [
      "Using TensorFlow backend.\n"
     ]
    }
   ],
   "source": [
    "import sys\n",
    "sys.path.append('C:/Users/320060820/experiments/')\n",
    "import fxp_quantize\n",
    "import model_data\n",
    "from algorithms import fixed_bitwidth\n",
    "from model_gen import inception_cnn\n",
    "\n",
    "import keras\n",
    "import tensorflow as tf\n",
    "import numpy as np\n",
    "%matplotlib inline\n",
    "import matplotlib.pyplot as plt\n",
    "\n",
    "# to restart layer numbering\n",
    "from keras import backend as K\n",
    "K.clear_session()"
   ]
  },
  {
   "cell_type": "markdown",
   "metadata": {},
   "source": [
    "#### Aim: Changing the bitwidths for a fixed-bitwidth implementation on the dragonfly network"
   ]
  },
  {
   "cell_type": "markdown",
   "metadata": {},
   "source": [
    "# Weights"
   ]
  },
  {
   "cell_type": "code",
   "execution_count": 5,
   "metadata": {
    "ExecuteTime": {
     "end_time": "2019-09-27T05:52:31.016101Z",
     "start_time": "2019-09-27T05:51:59.292661Z"
    },
    "scrolled": true
   },
   "outputs": [],
   "source": [
    "save_path = 'C:/Users/320060820/experiments/test_models/'\n",
    "name = 'cifar_df'\n",
    "weights_path = 'cifar_df2/model_32_0.75_w.h5'\n",
    "\n",
    "from test_models.cifar_df2 import data\n",
    "_, test_data = data.get_data()\n",
    "\n",
    "model_arch = \n",
    "\n",
    "model_obj = model_data.Model(name, test_data, model=model_arch.get_float_model())\n",
    "float_model_acc = model_obj.evaluate_accuracy()[1]"
   ]
  },
  {
   "cell_type": "code",
   "execution_count": 6,
   "metadata": {
    "ExecuteTime": {
     "end_time": "2019-09-27T05:52:46.704518Z",
     "start_time": "2019-09-27T05:52:31.038925Z"
    },
    "scrolled": true
   },
   "outputs": [
    {
     "name": "stdout",
     "output_type": "stream",
     "text": [
      "Calculating fractional offsets for weights of the network\n",
      "Original network's accuracy: 0.7452\n",
      "Quantized network's accuracy: 0.1038\n",
      "Accuracy drop: 86.071 %\n",
      "Calculating fractional offsets for the biases of the network\n",
      "Quantized network's accuracy: 0.0981\n",
      "Accuracy drop: 86.836 %\n"
     ]
    },
    {
     "ename": "ValueError",
     "evalue": "too many values to unpack (expected 3)",
     "output_type": "error",
     "traceback": [
      "\u001b[1;31m---------------------------------------------------------------------------\u001b[0m",
      "\u001b[1;31mValueError\u001b[0m                                Traceback (most recent call last)",
      "\u001b[1;32m<ipython-input-6-7332a679dce1>\u001b[0m in \u001b[0;36m<module>\u001b[1;34m\u001b[0m\n\u001b[0;32m      1\u001b[0m \u001b[0maccuracy_cifar\u001b[0m \u001b[1;33m=\u001b[0m \u001b[1;33m[\u001b[0m\u001b[1;33m]\u001b[0m\u001b[1;33m\u001b[0m\u001b[1;33m\u001b[0m\u001b[0m\n\u001b[0;32m      2\u001b[0m \u001b[1;32mfor\u001b[0m \u001b[0mi\u001b[0m \u001b[1;32min\u001b[0m \u001b[0mrange\u001b[0m\u001b[1;33m(\u001b[0m\u001b[1;36m2\u001b[0m\u001b[1;33m,\u001b[0m \u001b[1;36m11\u001b[0m\u001b[1;33m)\u001b[0m\u001b[1;33m:\u001b[0m\u001b[1;33m\u001b[0m\u001b[1;33m\u001b[0m\u001b[0m\n\u001b[1;32m----> 3\u001b[1;33m     \u001b[0m_\u001b[0m\u001b[1;33m,\u001b[0m \u001b[0m_\u001b[0m\u001b[1;33m,\u001b[0m \u001b[0macc\u001b[0m \u001b[1;33m=\u001b[0m \u001b[0mfixed_bitwidth\u001b[0m\u001b[1;33m.\u001b[0m\u001b[0mevaluate_quantized_weights\u001b[0m\u001b[1;33m(\u001b[0m\u001b[0mmodel_obj\u001b[0m\u001b[1;33m,\u001b[0m \u001b[0mfloat_model_acc\u001b[0m\u001b[1;33m,\u001b[0m \u001b[0mi\u001b[0m\u001b[1;33m)\u001b[0m\u001b[1;33m\u001b[0m\u001b[1;33m\u001b[0m\u001b[0m\n\u001b[0m\u001b[0;32m      4\u001b[0m     \u001b[0maccuracy_cifar\u001b[0m\u001b[1;33m.\u001b[0m\u001b[0mappend\u001b[0m\u001b[1;33m(\u001b[0m\u001b[0macc\u001b[0m\u001b[1;33m)\u001b[0m\u001b[1;33m\u001b[0m\u001b[1;33m\u001b[0m\u001b[0m\n",
      "\u001b[1;31mValueError\u001b[0m: too many values to unpack (expected 3)"
     ]
    }
   ],
   "source": [
    "accuracy_cifar = []\n",
    "for i in range(2, 11):\n",
    "    \n",
    "    _, _, _, acc = fixed_bitwidth.evaluate_quantized_weights(model_obj, float_model_acc, i)\n",
    "    \n",
    "    accuracy_cifar.append(acc)"
   ]
  },
  {
   "cell_type": "code",
   "execution_count": null,
   "metadata": {
    "ExecuteTime": {
     "end_time": "2019-09-27T05:52:46.707504Z",
     "start_time": "2019-09-27T05:52:11.600Z"
    }
   },
   "outputs": [],
   "source": [
    "name = 'mnist_df'\n",
    "model_path = 'mnist_df/inception_v3_model_batchnorm.h5'\n",
    "\n",
    "from test_models.mnist_df import data\n",
    "_, test_data = data.get_data()\n",
    "\n",
    "model_obj = model_data.Model(name, test_data, path=save_path + model_path)\n",
    "float_model_acc = model_obj.evaluate_accuracy()[1]"
   ]
  },
  {
   "cell_type": "code",
   "execution_count": null,
   "metadata": {
    "ExecuteTime": {
     "end_time": "2019-09-27T05:52:46.708502Z",
     "start_time": "2019-09-27T05:52:18.807Z"
    },
    "scrolled": true
   },
   "outputs": [],
   "source": [
    "accuracy_mnist = []\n",
    "for i in range(2, 11):\n",
    "    _, _, acc = fixed_bitwidth.evaluate_quantized_weights(model_obj, float_model_acc, i)\n",
    "    accuracy_mnist.append(acc)"
   ]
  },
  {
   "cell_type": "code",
   "execution_count": null,
   "metadata": {
    "ExecuteTime": {
     "end_time": "2019-09-27T05:52:46.710497Z",
     "start_time": "2019-09-27T05:52:21.591Z"
    }
   },
   "outputs": [],
   "source": [
    "name = 'svhn_df'\n",
    "model_path = 'svhn_df/svhn_df.h5'\n",
    "\n",
    "from test_models.svhn_df import data\n",
    "_, test_data = data.get_data()\n",
    "\n",
    "model_obj = model_data.Model(name, test_data, path=save_path + model_path)\n",
    "float_model_acc = model_obj.evaluate_accuracy()[1]"
   ]
  },
  {
   "cell_type": "code",
   "execution_count": null,
   "metadata": {
    "ExecuteTime": {
     "end_time": "2019-09-27T05:52:46.714454Z",
     "start_time": "2019-09-27T05:52:27.626Z"
    },
    "scrolled": true
   },
   "outputs": [],
   "source": [
    "accuracy_svhn = []\n",
    "for i in range(2, 11):\n",
    "    _, _, acc = fixed_bitwidth.evaluate_quantized_weights(model_obj, float_model_acc, i)\n",
    "    accuracy_svhn.append(acc)"
   ]
  },
  {
   "cell_type": "code",
   "execution_count": null,
   "metadata": {
    "ExecuteTime": {
     "end_time": "2019-09-27T05:52:46.718446Z",
     "start_time": "2019-09-27T05:52:31.091Z"
    }
   },
   "outputs": [],
   "source": [
    "name = 'fashion_df'\n",
    "model_path = 'fashion_df/fashion_df.h5'\n",
    "\n",
    "from test_models.fashion_df import data\n",
    "_, test_data = data.get_data()\n",
    "\n",
    "model_obj = model_data.Model(name, test_data, path=save_path + model_path)"
   ]
  },
  {
   "cell_type": "code",
   "execution_count": null,
   "metadata": {
    "ExecuteTime": {
     "end_time": "2019-09-27T05:50:40.239365Z",
     "start_time": "2019-09-27T05:49:59.914Z"
    },
    "scrolled": true
   },
   "outputs": [],
   "source": [
    "accuracy_fashion = []\n",
    "for i in range(2, 11):\n",
    "    _, _, acc = fixed_bitwidth.evaluate_quantized_weights(model_obj, float_model_acc, i)\n",
    "    accuracy_fashion.append(acc)"
   ]
  },
  {
   "cell_type": "code",
   "execution_count": 16,
   "metadata": {
    "ExecuteTime": {
     "end_time": "2019-08-22T13:35:42.122862Z",
     "start_time": "2019-08-22T13:35:42.028067Z"
    }
   },
   "outputs": [
    {
     "data": {
      "image/png": "[encoded data removed]",
      "text/plain": [
       "<Figure size 432x288 with 1 Axes>"
      ]
     },
     "metadata": {
      "needs_background": "light"
     },
     "output_type": "display_data"
    }
   ],
   "source": [
    "plt.plot(np.arange(2, 13, 1), np.array(accuracy)*100, 'o-');\n",
    "plt.xlabel('Bitwidth')\n",
    "plt.ylabel('Accuracy drop compared to float model (%)');"
   ]
  },
  {
   "cell_type": "markdown",
   "metadata": {},
   "source": [
    "# Activations"
   ]
  },
  {
   "cell_type": "code",
   "execution_count": null,
   "metadata": {},
   "outputs": [],
   "source": []
  }
 ],
 "metadata": {
  "kernelspec": {
   "display_name": "Python 3",
   "language": "python",
   "name": "python3"
  },
  "language_info": {
   "codemirror_mode": {
    "name": "ipython",
    "version": 3
   },
   "file_extension": ".py",
   "mimetype": "text/x-python",
   "name": "python",
   "nbconvert_exporter": "python",
   "pygments_lexer": "ipython3",
   "version": "3.7.3"
  },
  "varInspector": {
   "cols": {
    "lenName": 16,
    "lenType": 16,
    "lenVar": 40
   },
   "kernels_config": {
    "python": {
     "delete_cmd_postfix": "",
     "delete_cmd_prefix": "del ",
     "library": "var_list.py",
     "varRefreshCmd": "print(var_dic_list())"
    },
    "r": {
     "delete_cmd_postfix": ") ",
     "delete_cmd_prefix": "rm(",
     "library": "var_list.r",
     "varRefreshCmd": "cat(var_dic_list()) "
    }
   },
   "types_to_exclude": [
    "module",
    "function",
    "builtin_function_or_method",
    "instance",
    "_Feature"
   ],
   "window_display": false
  }
 },
 "nbformat": 4,
 "nbformat_minor": 2
}
