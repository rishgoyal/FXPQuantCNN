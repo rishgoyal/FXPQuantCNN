{
 "cells": [
  {
   "cell_type": "code",
   "execution_count": 2,
   "metadata": {
    "ExecuteTime": {
     "end_time": "2019-08-08T11:49:02.265707Z",
     "start_time": "2019-08-08T11:49:02.218559Z"
    }
   },
   "outputs": [],
   "source": [
    "import sys\n",
    "sys.path.append('C:/Users/320060820/experiments/')\n",
    "import fxp_quantize\n",
    "import model_data\n",
    "from algorithms import fixed_bitwidth\n",
    "from model_gen import keras_cnn, inception_cnn\n",
    "\n",
    "import keras\n",
    "import tensorflow as tf\n",
    "import numpy as np\n",
    "%matplotlib inline\n",
    "import matplotlib.pyplot as pltP\n",
    "\n",
    "# to restart layer numbering\n",
    "from keras import backend as K\n",
    "K.clear_session()"
   ]
  },
  {
   "cell_type": "markdown",
   "metadata": {},
   "source": [
    "Observe results of reducing the bitwidth while choosing a fixed bitwidth for the entire network with no clipping"
   ]
  },
  {
   "cell_type": "code",
   "execution_count": 3,
   "metadata": {
    "ExecuteTime": {
     "end_time": "2019-08-08T11:49:03.959628Z",
     "start_time": "2019-08-08T11:49:03.956609Z"
    }
   },
   "outputs": [],
   "source": [
    "# config\n",
    "save_path = 'C:/Users/320060820/experiments/test_models/'"
   ]
  },
  {
   "cell_type": "code",
   "execution_count": 4,
   "metadata": {
    "ExecuteTime": {
     "end_time": "2019-08-08T11:49:06.591820Z",
     "start_time": "2019-08-08T11:49:04.355544Z"
    }
   },
   "outputs": [
    {
     "name": "stdout",
     "output_type": "stream",
     "text": [
      "WARNING:tensorflow:From C:\\Users\\320060820\\Anaconda3\\envs\\tf_gpu\\lib\\site-packages\\tensorflow\\python\\framework\\op_def_library.py:263: colocate_with (from tensorflow.python.framework.ops) is deprecated and will be removed in a future version.\n",
      "Instructions for updating:\n",
      "Colocations handled automatically by placer.\n",
      "WARNING:tensorflow:From C:\\Users\\320060820\\Anaconda3\\envs\\tf_gpu\\lib\\site-packages\\keras\\backend\\tensorflow_backend.py:3445: calling dropout (from tensorflow.python.ops.nn_ops) with keep_prob is deprecated and will be removed in a future version.\n",
      "Instructions for updating:\n",
      "Please use `rate` instead of `keep_prob`. Rate should be set to `rate = 1 - keep_prob`.\n"
     ]
    }
   ],
   "source": [
    "name = 'cifar_keras'\n",
    "model_path = 'cifar_keras/cifar_keras_new.h5'\n",
    "\n",
    "from test_models.cifar_keras import data\n",
    "_, test_data = data.get_data()\n",
    "\n",
    "keras_model = model_data.Model(name, test_data, path=save_path + model_path)"
   ]
  },
  {
   "cell_type": "code",
   "execution_count": 5,
   "metadata": {
    "ExecuteTime": {
     "end_time": "2019-08-08T11:49:06.749383Z",
     "start_time": "2019-08-08T11:49:06.620733Z"
    }
   },
   "outputs": [
    {
     "name": "stdout",
     "output_type": "stream",
     "text": [
      "1 {'conv2d_1': 2, 'conv2d_2': 1, 'conv2d_3': 1, 'conv2d_4': 1, 'dense_1': 0}\n",
      "2 {'conv2d_1': 3, 'conv2d_2': 2, 'conv2d_3': 2, 'conv2d_4': 2, 'dense_1': 1}\n",
      "3 {'conv2d_1': 4, 'conv2d_2': 3, 'conv2d_3': 3, 'conv2d_4': 3, 'dense_1': 2}\n",
      "4 {'conv2d_1': 5, 'conv2d_2': 4, 'conv2d_3': 4, 'conv2d_4': 4, 'dense_1': 3}\n",
      "5 {'conv2d_1': 6, 'conv2d_2': 5, 'conv2d_3': 5, 'conv2d_4': 5, 'dense_1': 4}\n",
      "6 {'conv2d_1': 7, 'conv2d_2': 6, 'conv2d_3': 6, 'conv2d_4': 6, 'dense_1': 5}\n",
      "7 {'conv2d_1': 8, 'conv2d_2': 7, 'conv2d_3': 7, 'conv2d_4': 7, 'dense_1': 6}\n",
      "8 {'conv2d_1': 9, 'conv2d_2': 8, 'conv2d_3': 8, 'conv2d_4': 8, 'dense_1': 7}\n",
      "9 {'conv2d_1': 10, 'conv2d_2': 9, 'conv2d_3': 9, 'conv2d_4': 9, 'dense_1': 8}\n",
      "10 {'conv2d_1': 11, 'conv2d_2': 10, 'conv2d_3': 10, 'conv2d_4': 10, 'dense_1': 9}\n"
     ]
    }
   ],
   "source": [
    "for i in range(1, 11):\n",
    "    print(i, fixed_bitwidth.find_offsets_for_model_weights(keras_model, 0, i))"
   ]
  },
  {
   "cell_type": "code",
   "execution_count": 6,
   "metadata": {
    "ExecuteTime": {
     "end_time": "2019-08-08T11:51:22.212514Z",
     "start_time": "2019-08-08T11:51:20.411366Z"
    }
   },
   "outputs": [
    {
     "name": "stdout",
     "output_type": "stream",
     "text": [
      "WARNING:tensorflow:From C:\\Users\\320060820\\Anaconda3\\envs\\tf_gpu\\lib\\site-packages\\tensorflow\\python\\ops\\math_ops.py:3066: to_int32 (from tensorflow.python.ops.math_ops) is deprecated and will be removed in a future version.\n",
      "Instructions for updating:\n",
      "Use tf.cast instead.\n",
      "WARNING:tensorflow:From C:\\Users\\320060820\\Anaconda3\\envs\\tf_gpu\\lib\\site-packages\\tensorflow\\python\\ops\\math_grad.py:102: div (from tensorflow.python.ops.math_ops) is deprecated and will be removed in a future version.\n",
      "Instructions for updating:\n",
      "Deprecated in favor of operator or tf.math.divide.\n"
     ]
    }
   ],
   "source": [
    "name = 'mnist_keras'\n",
    "model_path = 'mnist_custom/mnist_keras.h5'\n",
    "\n",
    "from test_models.mnist_custom import data\n",
    "_, test_data = data.get_data()\n",
    "\n",
    "keras_model = model_data.Model(name, test_data, path=save_path+model_path)"
   ]
  },
  {
   "cell_type": "code",
   "execution_count": 7,
   "metadata": {
    "ExecuteTime": {
     "end_time": "2019-08-08T11:51:22.355155Z",
     "start_time": "2019-08-08T11:51:22.235453Z"
    }
   },
   "outputs": [
    {
     "name": "stdout",
     "output_type": "stream",
     "text": [
      "1 {'conv2d_1': 2, 'conv2d_2': 2, 'conv2d_3': 2, 'conv2d_4': 2, 'dense_1': 1}\n",
      "2 {'conv2d_1': 3, 'conv2d_2': 3, 'conv2d_3': 3, 'conv2d_4': 3, 'dense_1': 2}\n",
      "3 {'conv2d_1': 4, 'conv2d_2': 4, 'conv2d_3': 4, 'conv2d_4': 4, 'dense_1': 3}\n",
      "4 {'conv2d_1': 5, 'conv2d_2': 5, 'conv2d_3': 5, 'conv2d_4': 5, 'dense_1': 4}\n",
      "5 {'conv2d_1': 6, 'conv2d_2': 6, 'conv2d_3': 6, 'conv2d_4': 6, 'dense_1': 5}\n",
      "6 {'conv2d_1': 7, 'conv2d_2': 7, 'conv2d_3': 7, 'conv2d_4': 7, 'dense_1': 6}\n",
      "7 {'conv2d_1': 8, 'conv2d_2': 8, 'conv2d_3': 8, 'conv2d_4': 8, 'dense_1': 7}\n",
      "8 {'conv2d_1': 9, 'conv2d_2': 9, 'conv2d_3': 9, 'conv2d_4': 9, 'dense_1': 8}\n",
      "9 {'conv2d_1': 10, 'conv2d_2': 10, 'conv2d_3': 10, 'conv2d_4': 10, 'dense_1': 9}\n",
      "10 {'conv2d_1': 11, 'conv2d_2': 11, 'conv2d_3': 11, 'conv2d_4': 11, 'dense_1': 10}\n"
     ]
    }
   ],
   "source": [
    "for i in range(1, 11):\n",
    "    print(i, fixed_bitwidth.find_offsets_for_model_weights(keras_model, 0, i))"
   ]
  },
  {
   "cell_type": "code",
   "execution_count": 14,
   "metadata": {
    "ExecuteTime": {
     "end_time": "2019-08-08T12:02:09.582315Z",
     "start_time": "2019-08-08T12:02:08.852229Z"
    }
   },
   "outputs": [],
   "source": [
    "input_shape = (32, 32, 3)\n",
    "num_outputs = 10 # number of classes\n",
    "path_trained_weights = 'C:/Users/320060820/experiments/test_models/cifar_keras/cifar_keras_w.h5'\n",
    "name = 'cifar_keras'\n",
    "\n",
    "from test_models.cifar_keras import data\n",
    "_, test_data = data.get_data()\n",
    "\n",
    "keras_arch = keras_cnn.KerasCNN(input_shape, num_outputs, path_trained_weights)"
   ]
  },
  {
   "cell_type": "code",
   "execution_count": 15,
   "metadata": {
    "ExecuteTime": {
     "end_time": "2019-08-08T12:02:21.503507Z",
     "start_time": "2019-08-08T12:02:09.616219Z"
    }
   },
   "outputs": [
    {
     "name": "stdout",
     "output_type": "stream",
     "text": [
      "1 {'conv2d_1': 0, 'conv2d_2': -3, 'conv2d_3': -5, 'conv2d_4': -5, 'dense_1': -6}\n",
      "2 {'conv2d_1': 1, 'conv2d_2': -2, 'conv2d_3': -4, 'conv2d_4': -4, 'dense_1': -5}\n",
      "3 {'conv2d_1': 2, 'conv2d_2': -1, 'conv2d_3': -3, 'conv2d_4': -3, 'dense_1': -4}\n",
      "4 {'conv2d_1': 3, 'conv2d_2': 0, 'conv2d_3': -2, 'conv2d_4': -2, 'dense_1': -3}\n",
      "5 {'conv2d_1': 4, 'conv2d_2': 1, 'conv2d_3': -1, 'conv2d_4': -1, 'dense_1': -2}\n",
      "6 {'conv2d_1': 5, 'conv2d_2': 2, 'conv2d_3': 0, 'conv2d_4': 0, 'dense_1': -1}\n",
      "7 {'conv2d_1': 6, 'conv2d_2': 3, 'conv2d_3': 1, 'conv2d_4': 1, 'dense_1': 0}\n",
      "8 {'conv2d_1': 7, 'conv2d_2': 4, 'conv2d_3': 2, 'conv2d_4': 2, 'dense_1': 1}\n",
      "9 {'conv2d_1': 8, 'conv2d_2': 5, 'conv2d_3': 3, 'conv2d_4': 3, 'dense_1': 2}\n",
      "10 {'conv2d_1': 9, 'conv2d_2': 6, 'conv2d_3': 4, 'conv2d_4': 4, 'dense_1': 3}\n"
     ]
    }
   ],
   "source": [
    "for i in range(1, 11):\n",
    "    print(i, fixed_bitwidth.find_offsets_for_model_activations(keras_arch, name, test_data, i))"
   ]
  },
  {
   "cell_type": "code",
   "execution_count": 8,
   "metadata": {
    "ExecuteTime": {
     "end_time": "2019-08-08T11:53:25.120473Z",
     "start_time": "2019-08-08T11:53:20.761007Z"
    }
   },
   "outputs": [],
   "source": [
    "name = 'svhn_keras'\n",
    "model_path = 'svhn_keras/svhn_keras.h5'\n",
    "\n",
    "from test_models.svhn_keras import data\n",
    "_, test_data = data.get_data()\n",
    "\n",
    "keras_model = model_data.Model(name, test_data, path=save_path+model_path)"
   ]
  },
  {
   "cell_type": "code",
   "execution_count": 9,
   "metadata": {
    "ExecuteTime": {
     "end_time": "2019-08-08T11:53:25.271950Z",
     "start_time": "2019-08-08T11:53:25.153286Z"
    }
   },
   "outputs": [
    {
     "name": "stdout",
     "output_type": "stream",
     "text": [
      "1 {'conv2d_1': 1, 'conv2d_2': 1, 'conv2d_3': 1, 'conv2d_4': 1, 'dense_1': 0}\n",
      "2 {'conv2d_1': 2, 'conv2d_2': 2, 'conv2d_3': 2, 'conv2d_4': 2, 'dense_1': 1}\n",
      "3 {'conv2d_1': 3, 'conv2d_2': 3, 'conv2d_3': 3, 'conv2d_4': 3, 'dense_1': 2}\n",
      "4 {'conv2d_1': 4, 'conv2d_2': 4, 'conv2d_3': 4, 'conv2d_4': 4, 'dense_1': 3}\n",
      "5 {'conv2d_1': 5, 'conv2d_2': 5, 'conv2d_3': 5, 'conv2d_4': 5, 'dense_1': 4}\n",
      "6 {'conv2d_1': 6, 'conv2d_2': 6, 'conv2d_3': 6, 'conv2d_4': 6, 'dense_1': 5}\n",
      "7 {'conv2d_1': 7, 'conv2d_2': 7, 'conv2d_3': 7, 'conv2d_4': 7, 'dense_1': 6}\n",
      "8 {'conv2d_1': 8, 'conv2d_2': 8, 'conv2d_3': 8, 'conv2d_4': 8, 'dense_1': 7}\n",
      "9 {'conv2d_1': 9, 'conv2d_2': 9, 'conv2d_3': 9, 'conv2d_4': 9, 'dense_1': 8}\n",
      "10 {'conv2d_1': 10, 'conv2d_2': 10, 'conv2d_3': 10, 'conv2d_4': 10, 'dense_1': 9}\n"
     ]
    }
   ],
   "source": [
    "for i in range(1, 11):\n",
    "    print(i, fixed_bitwidth.find_offsets_for_model_weights(keras_model, 0, i))"
   ]
  },
  {
   "cell_type": "code",
   "execution_count": 10,
   "metadata": {
    "ExecuteTime": {
     "end_time": "2019-08-08T11:53:48.537108Z",
     "start_time": "2019-08-08T11:53:46.476580Z"
    }
   },
   "outputs": [],
   "source": [
    "name = 'fashion_keras'\n",
    "model_path = 'fashion_keras/fashion_keras.h5'\n",
    "\n",
    "from test_models.fashion_keras import data\n",
    "_, test_data = data.get_data()\n",
    "\n",
    "keras_model = model_data.Model(name, test_data, path=save_path+model_path)"
   ]
  },
  {
   "cell_type": "code",
   "execution_count": 11,
   "metadata": {
    "ExecuteTime": {
     "end_time": "2019-08-08T11:53:48.679689Z",
     "start_time": "2019-08-08T11:53:48.560010Z"
    }
   },
   "outputs": [
    {
     "name": "stdout",
     "output_type": "stream",
     "text": [
      "1 {'conv2d_1': 0, 'conv2d_2': 1, 'conv2d_3': 1, 'conv2d_4': 2, 'dense_1': 0}\n",
      "2 {'conv2d_1': 1, 'conv2d_2': 2, 'conv2d_3': 2, 'conv2d_4': 3, 'dense_1': 1}\n",
      "3 {'conv2d_1': 2, 'conv2d_2': 3, 'conv2d_3': 3, 'conv2d_4': 4, 'dense_1': 2}\n",
      "4 {'conv2d_1': 3, 'conv2d_2': 4, 'conv2d_3': 4, 'conv2d_4': 5, 'dense_1': 3}\n",
      "5 {'conv2d_1': 4, 'conv2d_2': 5, 'conv2d_3': 5, 'conv2d_4': 6, 'dense_1': 4}\n",
      "6 {'conv2d_1': 5, 'conv2d_2': 6, 'conv2d_3': 6, 'conv2d_4': 7, 'dense_1': 5}\n",
      "7 {'conv2d_1': 6, 'conv2d_2': 7, 'conv2d_3': 7, 'conv2d_4': 8, 'dense_1': 6}\n",
      "8 {'conv2d_1': 7, 'conv2d_2': 8, 'conv2d_3': 8, 'conv2d_4': 9, 'dense_1': 7}\n",
      "9 {'conv2d_1': 8, 'conv2d_2': 9, 'conv2d_3': 9, 'conv2d_4': 10, 'dense_1': 8}\n",
      "10 {'conv2d_1': 9, 'conv2d_2': 10, 'conv2d_3': 10, 'conv2d_4': 11, 'dense_1': 9}\n"
     ]
    }
   ],
   "source": [
    "for i in range(1, 11):\n",
    "    print(i, fixed_bitwidth.find_offsets_for_model_weights(keras_model, 0, i))"
   ]
  },
  {
   "cell_type": "code",
   "execution_count": null,
   "metadata": {},
   "outputs": [],
   "source": [
    "name = 'cifar_df'\n",
    "model_path = 'cifar_df2/model_32_0.75.h5'\n",
    "\n",
    "from test_models.cifar_df2 import data\n",
    "_, test_data = data.get_data()\n",
    "\n",
    "keras_model = model_data.Model(name, test_data, path=save_path + model_path)"
   ]
  }
 ],
 "metadata": {
  "kernelspec": {
   "display_name": "Python 3",
   "language": "python",
   "name": "python3"
  },
  "language_info": {
   "codemirror_mode": {
    "name": "ipython",
    "version": 3
   },
   "file_extension": ".py",
   "mimetype": "text/x-python",
   "name": "python",
   "nbconvert_exporter": "python",
   "pygments_lexer": "ipython3",
   "version": "3.7.3"
  },
  "varInspector": {
   "cols": {
    "lenName": 16,
    "lenType": 16,
    "lenVar": 40
   },
   "kernels_config": {
    "python": {
     "delete_cmd_postfix": "",
     "delete_cmd_prefix": "del ",
     "library": "var_list.py",
     "varRefreshCmd": "print(var_dic_list())"
    },
    "r": {
     "delete_cmd_postfix": ") ",
     "delete_cmd_prefix": "rm(",
     "library": "var_list.r",
     "varRefreshCmd": "cat(var_dic_list()) "
    }
   },
   "types_to_exclude": [
    "module",
    "function",
    "builtin_function_or_method",
    "instance",
    "_Feature"
   ],
   "window_display": false
  }
 },
 "nbformat": 4,
 "nbformat_minor": 2
}
