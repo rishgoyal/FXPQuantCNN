{
 "cells": [
  {
   "cell_type": "markdown",
   "metadata": {},
   "source": [
    "# Investigating effect of input scaling on shape of weights\n",
    "\n",
    "The objective here is to understand whether scaling the inputs will change the value of the weights. Concretely, if a network is trained on input data that is scaled to [0, 1], then we would like to know whether the network's weights are also scaled inversely if we scale the data further down by an order of magnitude or further up by an order of magnitude."
   ]
  },
  {
   "cell_type": "code",
   "execution_count": 1,
   "metadata": {},
   "outputs": [
    {
     "name": "stderr",
     "output_type": "stream",
     "text": [
      "Using TensorFlow backend.\n"
     ]
    }
   ],
   "source": [
    "from keras.models import Sequential, Model, load_model\n",
    "from keras import layers\n",
    "import keras\n",
    "from keras.datasets import mnist, cifar10\n",
    "import sys\n",
    "sys.path.append('C:/Users/320060820/experiments/')\n",
    "import os\n",
    "from quantize import FixedPointQuantizer\n",
    "import quantize\n",
    "from train_model import convert_data\n",
    "import copy\n",
    "import itertools\n",
    "\n",
    "import tensorflow as tf\n",
    "import numpy as np\n",
    "%matplotlib inline\n",
    "import matplotlib.pyplot as plt\n",
    "import seaborn as sns\n",
    "\n",
    "# to restart layer numbering\n",
    "from keras import backend as K\n",
    "K.clear_session()"
   ]
  },
  {
   "cell_type": "code",
   "execution_count": 2,
   "metadata": {},
   "outputs": [],
   "source": [
    "save_path = '../../test_models/'\n",
    "model_path = 'cifar_keras/cifar_keras.h5'\n",
    "num_classes = 10\n",
    "batch_size = 32"
   ]
  },
  {
   "cell_type": "markdown",
   "metadata": {},
   "source": [
    "### CIFAR Keras model"
   ]
  },
  {
   "cell_type": "code",
   "execution_count": 3,
   "metadata": {},
   "outputs": [
    {
     "name": "stdout",
     "output_type": "stream",
     "text": [
      "WARNING:tensorflow:From C:\\Users\\320060820\\Anaconda3\\envs\\tf_gpu\\lib\\site-packages\\tensorflow\\python\\framework\\op_def_library.py:263: colocate_with (from tensorflow.python.framework.ops) is deprecated and will be removed in a future version.\n",
      "Instructions for updating:\n",
      "Colocations handled automatically by placer.\n",
      "WARNING:tensorflow:From C:\\Users\\320060820\\Anaconda3\\envs\\tf_gpu\\lib\\site-packages\\keras\\backend\\tensorflow_backend.py:3445: calling dropout (from tensorflow.python.ops.nn_ops) with keep_prob is deprecated and will be removed in a future version.\n",
      "Instructions for updating:\n",
      "Please use `rate` instead of `keep_prob`. Rate should be set to `rate = 1 - keep_prob`.\n",
      "WARNING:tensorflow:From C:\\Users\\320060820\\Anaconda3\\envs\\tf_gpu\\lib\\site-packages\\tensorflow\\python\\ops\\math_ops.py:3066: to_int32 (from tensorflow.python.ops.math_ops) is deprecated and will be removed in a future version.\n",
      "Instructions for updating:\n",
      "Use tf.cast instead.\n",
      "WARNING:tensorflow:From C:\\Users\\320060820\\Anaconda3\\envs\\tf_gpu\\lib\\site-packages\\tensorflow\\python\\ops\\math_grad.py:102: div (from tensorflow.python.ops.math_ops) is deprecated and will be removed in a future version.\n",
      "Instructions for updating:\n",
      "Deprecated in favor of operator or tf.math.divide.\n"
     ]
    }
   ],
   "source": [
    "model1 = load_model(save_path + model_path)\n",
    "model1_param = quantize.get_model_weights(model1)"
   ]
  },
  {
   "cell_type": "code",
   "execution_count": 4,
   "metadata": {},
   "outputs": [],
   "source": [
    "(x_train, y_train), (x_test, y_test) = cifar10.load_data()\n",
    "\n",
    "x_train = x_train.astype('float32')\n",
    "x_test = x_test.astype('float32')\n",
    "x_train /= 2550.\n",
    "x_test /= 2550.\n",
    "\n",
    "y_train = keras.utils.to_categorical(y_train, num_classes)\n",
    "y_test = keras.utils.to_categorical(y_test, num_classes)\n",
    "\n",
    "epochs = 70"
   ]
  },
  {
   "cell_type": "code",
   "execution_count": 5,
   "metadata": {},
   "outputs": [
    {
     "data": {
      "text/plain": [
       "(0.1, 0.1)"
      ]
     },
     "execution_count": 5,
     "metadata": {},
     "output_type": "execute_result"
    }
   ],
   "source": [
    "x_train.max(), x_test.max()"
   ]
  },
  {
   "cell_type": "code",
   "execution_count": 6,
   "metadata": {},
   "outputs": [],
   "source": [
    "model2 = Sequential()\n",
    "model2.add(layers.Conv2D(32, (3, 3), activation='relu', input_shape=(32, 32, 3)))\n",
    "model2.add(layers.BatchNormalization())\n",
    "model2.add(layers.Conv2D(32, (3, 3), activation='relu'))\n",
    "model2.add(layers.BatchNormalization())\n",
    "model2.add(layers.MaxPooling2D(pool_size=(2, 2)))\n",
    "model2.add(layers.Dropout(0.25))\n",
    "\n",
    "model2.add(layers.Conv2D(64, (3, 3), padding='same', activation='relu'))\n",
    "model2.add(layers.BatchNormalization())\n",
    "model2.add(layers.Conv2D(64, (3, 3), activation='relu'))\n",
    "model2.add(layers.BatchNormalization())\n",
    "model2.add(layers.MaxPooling2D(pool_size=(2, 2)))\n",
    "model2.add(layers.Dropout(0.25))\n",
    "\n",
    "# model.add(layers.Flatten())\n",
    "model2.add(layers.GlobalMaxPooling2D())\n",
    "model2.add(layers.Dropout(0.25))\n",
    "model2.add(layers.Dense(num_classes, activation='softmax'))\n",
    "\n",
    "opt = keras.optimizers.rmsprop(lr=0.0001)\n",
    "\n",
    "model2.compile(loss='categorical_crossentropy',\n",
    "             optimizer = opt,\n",
    "             metrics=['accuracy'])"
   ]
  },
  {
   "cell_type": "code",
   "execution_count": 8,
   "metadata": {
    "scrolled": true
   },
   "outputs": [
    {
     "name": "stdout",
     "output_type": "stream",
     "text": [
      "Train on 50000 samples, validate on 10000 samples\n",
      "Epoch 1/70\n",
      "50000/50000 [==============================] - 22s 446us/step - loss: 3.3977 - acc: 0.1988 - val_loss: 1.8404 - val_acc: 0.3381\n",
      "Epoch 2/70\n",
      "50000/50000 [==============================] - 21s 410us/step - loss: 2.1670 - acc: 0.2669 - val_loss: 1.6746 - val_acc: 0.4110\n",
      "Epoch 3/70\n",
      "50000/50000 [==============================] - 21s 410us/step - loss: 1.9226 - acc: 0.3214 - val_loss: 1.5599 - val_acc: 0.4575\n",
      "Epoch 4/70\n",
      "50000/50000 [==============================] - 21s 411us/step - loss: 1.7686 - acc: 0.3678 - val_loss: 1.4771 - val_acc: 0.4881\n",
      "Epoch 5/70\n",
      "50000/50000 [==============================] - 20s 410us/step - loss: 1.6554 - acc: 0.4055 - val_loss: 1.4248 - val_acc: 0.5134\n",
      "Epoch 6/70\n",
      "50000/50000 [==============================] - 20s 410us/step - loss: 1.5743 - acc: 0.4320 - val_loss: 1.3717 - val_acc: 0.5260\n",
      "Epoch 7/70\n",
      "50000/50000 [==============================] - 21s 410us/step - loss: 1.4994 - acc: 0.4627 - val_loss: 1.3427 - val_acc: 0.5365\n",
      "Epoch 8/70\n",
      "50000/50000 [==============================] - 21s 411us/step - loss: 1.4494 - acc: 0.4820 - val_loss: 1.3167 - val_acc: 0.5434\n",
      "Epoch 9/70\n",
      "50000/50000 [==============================] - 21s 412us/step - loss: 1.3928 - acc: 0.5033 - val_loss: 1.2436 - val_acc: 0.5728\n",
      "Epoch 10/70\n",
      "50000/50000 [==============================] - 21s 412us/step - loss: 1.3587 - acc: 0.5151 - val_loss: 1.2069 - val_acc: 0.5814\n",
      "Epoch 11/70\n",
      "50000/50000 [==============================] - 21s 411us/step - loss: 1.3221 - acc: 0.5288 - val_loss: 1.2369 - val_acc: 0.5632\n",
      "Epoch 12/70\n",
      "50000/50000 [==============================] - 21s 411us/step - loss: 1.2880 - acc: 0.5437 - val_loss: 1.1552 - val_acc: 0.6077\n",
      "Epoch 13/70\n",
      "50000/50000 [==============================] - 21s 411us/step - loss: 1.2568 - acc: 0.5537 - val_loss: 1.1747 - val_acc: 0.5970\n",
      "Epoch 14/70\n",
      "50000/50000 [==============================] - 21s 411us/step - loss: 1.2350 - acc: 0.5635 - val_loss: 1.2289 - val_acc: 0.5562\n",
      "Epoch 15/70\n",
      "50000/50000 [==============================] - 21s 412us/step - loss: 1.2107 - acc: 0.5698 - val_loss: 1.1246 - val_acc: 0.6059\n",
      "Epoch 16/70\n",
      "50000/50000 [==============================] - 21s 410us/step - loss: 1.1946 - acc: 0.5786 - val_loss: 1.0949 - val_acc: 0.6295\n",
      "Epoch 17/70\n",
      "50000/50000 [==============================] - 20s 402us/step - loss: 1.1784 - acc: 0.5808 - val_loss: 1.1022 - val_acc: 0.6138\n",
      "Epoch 18/70\n",
      "50000/50000 [==============================] - 20s 404us/step - loss: 1.1558 - acc: 0.5891 - val_loss: 1.0715 - val_acc: 0.6261\n",
      "Epoch 19/70\n",
      "50000/50000 [==============================] - 21s 414us/step - loss: 1.1361 - acc: 0.5996 - val_loss: 1.1351 - val_acc: 0.5874\n",
      "Epoch 20/70\n",
      "50000/50000 [==============================] - 20s 402us/step - loss: 1.1258 - acc: 0.6008 - val_loss: 1.0544 - val_acc: 0.6310\n",
      "Epoch 21/70\n",
      "50000/50000 [==============================] - 20s 401us/step - loss: 1.1118 - acc: 0.6092 - val_loss: 1.0616 - val_acc: 0.6281\n",
      "Epoch 22/70\n",
      "50000/50000 [==============================] - 20s 401us/step - loss: 1.0976 - acc: 0.6111 - val_loss: 1.0324 - val_acc: 0.6489\n",
      "Epoch 23/70\n",
      "50000/50000 [==============================] - 20s 400us/step - loss: 1.0836 - acc: 0.6180 - val_loss: 0.9736 - val_acc: 0.6615\n",
      "Epoch 24/70\n",
      "50000/50000 [==============================] - 21s 417us/step - loss: 1.0724 - acc: 0.6230 - val_loss: 1.0682 - val_acc: 0.6119\n",
      "Epoch 25/70\n",
      "50000/50000 [==============================] - 21s 412us/step - loss: 1.0671 - acc: 0.6240 - val_loss: 1.0927 - val_acc: 0.6020\n",
      "Epoch 26/70\n",
      "50000/50000 [==============================] - 21s 411us/step - loss: 1.0504 - acc: 0.6287 - val_loss: 0.9768 - val_acc: 0.6604\n",
      "Epoch 27/70\n",
      "50000/50000 [==============================] - 21s 412us/step - loss: 1.0462 - acc: 0.6321 - val_loss: 0.9623 - val_acc: 0.669460 - acc\n",
      "Epoch 28/70\n",
      "50000/50000 [==============================] - 21s 411us/step - loss: 1.0331 - acc: 0.6365 - val_loss: 0.9795 - val_acc: 0.6468\n",
      "Epoch 29/70\n",
      "50000/50000 [==============================] - 21s 413us/step - loss: 1.0235 - acc: 0.6395 - val_loss: 0.9564 - val_acc: 0.6712\n",
      "Epoch 30/70\n",
      "50000/50000 [==============================] - 21s 414us/step - loss: 1.0188 - acc: 0.6410 - val_loss: 0.9517 - val_acc: 0.6784\n",
      "Epoch 31/70\n",
      "50000/50000 [==============================] - 21s 412us/step - loss: 1.0115 - acc: 0.6440 - val_loss: 0.9445 - val_acc: 0.6704\n",
      "Epoch 32/70\n",
      "50000/50000 [==============================] - 21s 411us/step - loss: 0.9995 - acc: 0.6484 - val_loss: 0.9320 - val_acc: 0.6770\n",
      "Epoch 33/70\n",
      "50000/50000 [==============================] - 21s 418us/step - loss: 0.9930 - acc: 0.6512 - val_loss: 0.9602 - val_acc: 0.6699\n",
      "Epoch 34/70\n",
      "50000/50000 [==============================] - 21s 413us/step - loss: 0.9856 - acc: 0.6530 - val_loss: 0.9054 - val_acc: 0.6864\n",
      "Epoch 35/70\n",
      "50000/50000 [==============================] - 21s 411us/step - loss: 0.9813 - acc: 0.6566 - val_loss: 0.9468 - val_acc: 0.6645\n",
      "Epoch 36/70\n",
      "50000/50000 [==============================] - 20s 402us/step - loss: 0.9788 - acc: 0.6560 - val_loss: 0.9761 - val_acc: 0.6569\n",
      "Epoch 37/70\n",
      "50000/50000 [==============================] - 20s 401us/step - loss: 0.9678 - acc: 0.6629 - val_loss: 0.9734 - val_acc: 0.6576\n",
      "Epoch 38/70\n",
      "50000/50000 [==============================] - 20s 401us/step - loss: 0.9579 - acc: 0.6665 - val_loss: 0.9165 - val_acc: 0.6773\n",
      "Epoch 39/70\n",
      "50000/50000 [==============================] - 20s 402us/step - loss: 0.9523 - acc: 0.6657 - val_loss: 0.9114 - val_acc: 0.6784\n",
      "Epoch 40/70\n",
      "50000/50000 [==============================] - 20s 405us/step - loss: 0.9426 - acc: 0.6698 - val_loss: 0.8658 - val_acc: 0.6965\n",
      "Epoch 41/70\n",
      "50000/50000 [==============================] - 20s 408us/step - loss: 0.9408 - acc: 0.6702 - val_loss: 0.8584 - val_acc: 0.7041\n",
      "Epoch 42/70\n",
      "50000/50000 [==============================] - 20s 404us/step - loss: 0.9391 - acc: 0.6689 - val_loss: 0.9236 - val_acc: 0.6707\n",
      "Epoch 43/70\n",
      "50000/50000 [==============================] - 20s 405us/step - loss: 0.9327 - acc: 0.6725 - val_loss: 0.9011 - val_acc: 0.6796\n",
      "Epoch 44/70\n",
      "50000/50000 [==============================] - 20s 407us/step - loss: 0.9284 - acc: 0.6740 - val_loss: 0.8364 - val_acc: 0.7112\n",
      "Epoch 45/70\n",
      "50000/50000 [==============================] - 20s 408us/step - loss: 0.9190 - acc: 0.6771 - val_loss: 0.8617 - val_acc: 0.6988\n",
      "Epoch 46/70\n",
      "50000/50000 [==============================] - 20s 404us/step - loss: 0.9144 - acc: 0.6792 - val_loss: 1.1960 - val_acc: 0.57938 - ETA: 1s - loss: 0.9161 -  - ETA: 0s - loss: 0.9147\n",
      "Epoch 47/70\n",
      "50000/50000 [==============================] - 20s 405us/step - loss: 0.9100 - acc: 0.6808 - val_loss: 0.9399 - val_acc: 0.6676\n",
      "Epoch 48/70\n",
      "50000/50000 [==============================] - 20s 403us/step - loss: 0.9114 - acc: 0.6805 - val_loss: 0.8286 - val_acc: 0.7120\n",
      "Epoch 49/70\n",
      "50000/50000 [==============================] - 20s 409us/step - loss: 0.9015 - acc: 0.6819 - val_loss: 0.8824 - val_acc: 0.6847\n",
      "Epoch 50/70\n",
      "50000/50000 [==============================] - 20s 409us/step - loss: 0.8969 - acc: 0.6890 - val_loss: 0.9456 - val_acc: 0.6648\n",
      "Epoch 51/70\n",
      "50000/50000 [==============================] - 21s 415us/step - loss: 0.8926 - acc: 0.6893 - val_loss: 0.9592 - val_acc: 0.6606\n",
      "Epoch 52/70\n",
      "50000/50000 [==============================] - 21s 414us/step - loss: 0.8933 - acc: 0.6879 - val_loss: 0.8815 - val_acc: 0.6951\n",
      "Epoch 53/70\n",
      "50000/50000 [==============================] - 21s 415us/step - loss: 0.8801 - acc: 0.6914 - val_loss: 0.9663 - val_acc: 0.6628\n",
      "Epoch 54/70\n",
      "50000/50000 [==============================] - 21s 411us/step - loss: 0.8823 - acc: 0.6933 - val_loss: 0.9034 - val_acc: 0.6729\n",
      "Epoch 55/70\n",
      "50000/50000 [==============================] - 21s 414us/step - loss: 0.8741 - acc: 0.6940 - val_loss: 0.8277 - val_acc: 0.7093\n",
      "Epoch 56/70\n",
      "50000/50000 [==============================] - 21s 411us/step - loss: 0.8719 - acc: 0.6955 - val_loss: 0.8127 - val_acc: 0.7157\n",
      "Epoch 57/70\n",
      "50000/50000 [==============================] - 21s 416us/step - loss: 0.8755 - acc: 0.6943 - val_loss: 0.8198 - val_acc: 0.7128\n",
      "Epoch 58/70\n",
      "50000/50000 [==============================] - 21s 412us/step - loss: 0.8655 - acc: 0.6972 - val_loss: 0.8813 - val_acc: 0.6909\n",
      "Epoch 59/70\n",
      "50000/50000 [==============================] - 21s 414us/step - loss: 0.8627 - acc: 0.6998 - val_loss: 0.8805 - val_acc: 0.6884\n",
      "Epoch 60/70\n",
      "50000/50000 [==============================] - 21s 411us/step - loss: 0.8582 - acc: 0.6990 - val_loss: 0.8267 - val_acc: 0.7084\n",
      "Epoch 61/70\n",
      "50000/50000 [==============================] - 20s 409us/step - loss: 0.8531 - acc: 0.7023 - val_loss: 0.8587 - val_acc: 0.6937\n",
      "Epoch 62/70\n",
      "50000/50000 [==============================] - 21s 412us/step - loss: 0.8560 - acc: 0.6990 - val_loss: 0.8005 - val_acc: 0.7187\n",
      "Epoch 63/70\n",
      "50000/50000 [==============================] - 20s 410us/step - loss: 0.8567 - acc: 0.6987 - val_loss: 0.8995 - val_acc: 0.6793\n",
      "Epoch 64/70\n",
      "50000/50000 [==============================] - 21s 411us/step - loss: 0.8444 - acc: 0.7040 - val_loss: 0.8532 - val_acc: 0.7010\n",
      "Epoch 65/70\n",
      "50000/50000 [==============================] - 21s 412us/step - loss: 0.8489 - acc: 0.7040 - val_loss: 0.8430 - val_acc: 0.7029\n",
      "Epoch 66/70\n",
      "50000/50000 [==============================] - 20s 409us/step - loss: 0.8413 - acc: 0.7028 - val_loss: 0.7626 - val_acc: 0.7347\n",
      "Epoch 67/70\n",
      "50000/50000 [==============================] - 21s 416us/step - loss: 0.8411 - acc: 0.7059 - val_loss: 0.8201 - val_acc: 0.7049\n",
      "Epoch 68/70\n",
      "50000/50000 [==============================] - 20s 409us/step - loss: 0.8354 - acc: 0.7077 - val_loss: 0.8975 - val_acc: 0.6895\n",
      "Epoch 69/70\n",
      "50000/50000 [==============================] - 21s 417us/step - loss: 0.8380 - acc: 0.7076 - val_loss: 0.8494 - val_acc: 0.7004\n",
      "Epoch 70/70\n",
      "50000/50000 [==============================] - 21s 413us/step - loss: 0.8312 - acc: 0.7094 - val_loss: 0.9526 - val_acc: 0.6648\n"
     ]
    }
   ],
   "source": [
    "history = model2.fit(x_train, y_train, \n",
    "                    epochs=epochs, \n",
    "                    batch_size=batch_size, \n",
    "                    shuffle=True, \n",
    "                    validation_data=(x_test, y_test))"
   ]
  },
  {
   "cell_type": "code",
   "execution_count": 11,
   "metadata": {},
   "outputs": [
    {
     "data": {
      "image/png": "[encoded data removed]",
      "text/plain": [
       "<Figure size 432x288 with 1 Axes>"
      ]
     },
     "metadata": {
      "needs_background": "light"
     },
     "output_type": "display_data"
    }
   ],
   "source": [
    "plt.hist(quantize.get_model_weights(model2), bins=100);\n",
    "plt.hist(model1_param, bins=100);"
   ]
  },
  {
   "cell_type": "markdown",
   "metadata": {},
   "source": [
    "### MNIST dataset"
   ]
  },
  {
   "cell_type": "code",
   "execution_count": 13,
   "metadata": {},
   "outputs": [],
   "source": [
    "K.clear_session()\n",
    "model3 = load_model(save_path + 'mnist_custom/mnist_keras.h5')\n",
    "model3_param = quantize.get_model_weights(model3)"
   ]
  },
  {
   "cell_type": "code",
   "execution_count": 20,
   "metadata": {},
   "outputs": [],
   "source": [
    "batch_size = 64\n",
    "(x_train, y_train), (x_test, y_test) = mnist.load_data()\n",
    "\n",
    "x_train = x_train.astype('float32')\n",
    "x_test = x_test.astype('float32')\n",
    "x_train /= 2550.\n",
    "x_test /= 2550.\n",
    "\n",
    "x_train = x_train.reshape(-1, 28, 28, 1)\n",
    "x_test = x_test.reshape(-1, 28, 28, 1)\n",
    "\n",
    "y_train = keras.utils.to_categorical(y_train, num_classes)\n",
    "y_test = keras.utils.to_categorical(y_test, num_classes)"
   ]
  },
  {
   "cell_type": "code",
   "execution_count": 21,
   "metadata": {},
   "outputs": [
    {
     "data": {
      "text/plain": [
       "(0.1, 0.1)"
      ]
     },
     "execution_count": 21,
     "metadata": {},
     "output_type": "execute_result"
    }
   ],
   "source": [
    "x_train.max(), x_test.max()"
   ]
  },
  {
   "cell_type": "code",
   "execution_count": 22,
   "metadata": {},
   "outputs": [],
   "source": [
    "model4 = Sequential()\n",
    "model4.add(layers.Conv2D(32, (3, 3), activation='relu', input_shape=(28, 28, 1)))\n",
    "model4.add(layers.BatchNormalization())\n",
    "model4.add(layers.Conv2D(32, (3, 3), activation='relu'))\n",
    "model4.add(layers.BatchNormalization())\n",
    "model4.add(layers.MaxPooling2D(pool_size=(2, 2)))\n",
    "model4.add(layers.Dropout(0.25))\n",
    "\n",
    "model4.add(layers.Conv2D(64, (3, 3), padding='same', activation='relu'))\n",
    "model4.add(layers.BatchNormalization())\n",
    "model4.add(layers.Conv2D(64, (3, 3), activation='relu'))\n",
    "model4.add(layers.BatchNormalization())\n",
    "model4.add(layers.MaxPooling2D(pool_size=(2, 2)))\n",
    "model4.add(layers.Dropout(0.25))\n",
    "\n",
    "# pmo4del.add(layers.Flatten())\n",
    "model4.add(layers.GlobalMaxPooling2D())\n",
    "model4.add(layers.Dropout(0.25))\n",
    "model4.add(layers.Dense(num_classes, activation='softmax'))\n",
    "\n",
    "opt = keras.optimizers.rmsprop(lr=0.0001)\n",
    "\n",
    "model4.compile(loss='categorical_crossentropy',\n",
    "             optimizer = opt,\n",
    "             metrics=['accuracy'])"
   ]
  },
  {
   "cell_type": "code",
   "execution_count": 23,
   "metadata": {},
   "outputs": [
    {
     "name": "stdout",
     "output_type": "stream",
     "text": [
      "Train on 60000 samples, validate on 10000 samples\n",
      "Epoch 1/20\n",
      "60000/60000 [==============================] - 17s 276us/step - loss: 2.5237 - acc: 0.4670 - val_loss: 0.2471 - val_acc: 0.9385\n",
      "Epoch 2/20\n",
      "60000/60000 [==============================] - 16s 261us/step - loss: 0.8136 - acc: 0.7648 - val_loss: 0.1309 - val_acc: 0.9630\n",
      "Epoch 3/20\n",
      "60000/60000 [==============================] - 16s 260us/step - loss: 0.4819 - acc: 0.8599 - val_loss: 0.0926 - val_acc: 0.9760\n",
      "Epoch 4/20\n",
      "60000/60000 [==============================] - 16s 262us/step - loss: 0.3460 - acc: 0.9005 - val_loss: 0.0733 - val_acc: 0.9784\n",
      "Epoch 5/20\n",
      "60000/60000 [==============================] - 15s 256us/step - loss: 0.2627 - acc: 0.9232 - val_loss: 0.0709 - val_acc: 0.9796s: 0.2633 - acc:\n",
      "Epoch 6/20\n",
      "60000/60000 [==============================] - 15s 256us/step - loss: 0.2214 - acc: 0.9361 - val_loss: 0.0521 - val_acc: 0.9842\n",
      "Epoch 7/20\n",
      "60000/60000 [==============================] - 15s 256us/step - loss: 0.1849 - acc: 0.9468 - val_loss: 0.0544 - val_acc: 0.9836\n",
      "Epoch 8/20\n",
      "60000/60000 [==============================] - 16s 262us/step - loss: 0.1596 - acc: 0.9546 - val_loss: 0.0442 - val_acc: 0.9863\n",
      "Epoch 9/20\n",
      "60000/60000 [==============================] - 15s 254us/step - loss: 0.1418 - acc: 0.9600 - val_loss: 0.0501 - val_acc: 0.9841\n",
      "Epoch 10/20\n",
      "60000/60000 [==============================] - 15s 254us/step - loss: 0.1305 - acc: 0.9634 - val_loss: 0.0392 - val_acc: 0.98850.1303 - acc: 0.\n",
      "Epoch 11/20\n",
      "60000/60000 [==============================] - 15s 254us/step - loss: 0.1163 - acc: 0.9674 - val_loss: 0.0379 - val_acc: 0.9890\n",
      "Epoch 12/20\n",
      "60000/60000 [==============================] - 15s 254us/step - loss: 0.1085 - acc: 0.9695 - val_loss: 0.0344 - val_acc: 0.9903s: 0.1086 - acc: 0\n",
      "Epoch 13/20\n",
      "60000/60000 [==============================] - 15s 254us/step - loss: 0.1040 - acc: 0.9708 - val_loss: 0.0295 - val_acc: 0.9908\n",
      "Epoch 14/20\n",
      "60000/60000 [==============================] - 15s 254us/step - loss: 0.0987 - acc: 0.9721 - val_loss: 0.0318 - val_acc: 0.9900s - los - ETA: 4s - loss: 0.0992 - acc: 0 - ETA: 4s - loss: 0. - ETA: 3s - loss: 0.09\n",
      "Epoch 15/20\n",
      "60000/60000 [==============================] - 15s 254us/step - loss: 0.0928 - acc: 0.9738 - val_loss: 0.0318 - val_acc: 0.9895- loss: 0.0928 - acc:\n",
      "Epoch 16/20\n",
      "60000/60000 [==============================] - 15s 254us/step - loss: 0.0858 - acc: 0.9755 - val_loss: 0.0338 - val_acc: 0.9884\n",
      "Epoch 17/20\n",
      "60000/60000 [==============================] - 15s 254us/step - loss: 0.0809 - acc: 0.9767 - val_loss: 0.0299 - val_acc: 0.9905\n",
      "Epoch 18/20\n",
      "60000/60000 [==============================] - 15s 254us/step - loss: 0.0830 - acc: 0.9769 - val_loss: 0.0294 - val_acc: 0.99142 - acc - ETA: 5s - loss: 0.0811 - acc: 0. - ETA: 5s - loss: - ETA: 1s - loss: 0.0827 - acc: 0. - ETA: 1s - loss: \n",
      "Epoch 19/20\n",
      "60000/60000 [==============================] - 15s 254us/step - loss: 0.0751 - acc: 0.9786 - val_loss: 0.0281 - val_acc: 0.9902\n",
      "Epoch 20/20\n",
      "60000/60000 [==============================] - 15s 254us/step - loss: 0.0750 - acc: 0.9790 - val_loss: 0.0268 - val_acc: 0.9913\n"
     ]
    }
   ],
   "source": [
    "history = model4.fit(x_train, y_train,\n",
    "                    epochs=20,\n",
    "                    batch_size=batch_size,\n",
    "                    shuffle=True, \n",
    "                    validation_data=(x_test, y_test))"
   ]
  },
  {
   "cell_type": "code",
   "execution_count": 24,
   "metadata": {},
   "outputs": [
    {
     "data": {
      "image/png": "[encoded data removed]",
      "text/plain": [
       "<Figure size 432x288 with 1 Axes>"
      ]
     },
     "metadata": {
      "needs_background": "light"
     },
     "output_type": "display_data"
    }
   ],
   "source": [
    "plt.hist(quantize.get_model_weights(model4), bins=100);\n",
    "plt.hist(model3_param, bins=100);"
   ]
  },
  {
   "cell_type": "code",
   "execution_count": null,
   "metadata": {},
   "outputs": [],
   "source": []
  }
 ],
 "metadata": {
  "kernelspec": {
   "display_name": "Python 3",
   "language": "python",
   "name": "python3"
  },
  "language_info": {
   "codemirror_mode": {
    "name": "ipython",
    "version": 3
   },
   "file_extension": ".py",
   "mimetype": "text/x-python",
   "name": "python",
   "nbconvert_exporter": "python",
   "pygments_lexer": "ipython3",
   "version": "3.7.3"
  }
 },
 "nbformat": 4,
 "nbformat_minor": 2
}
