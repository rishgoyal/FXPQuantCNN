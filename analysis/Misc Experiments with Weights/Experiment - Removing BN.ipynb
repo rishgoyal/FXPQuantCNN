{
 "cells": [
  {
   "cell_type": "code",
   "execution_count": 1,
   "metadata": {},
   "outputs": [
    {
     "name": "stderr",
     "output_type": "stream",
     "text": [
      "Using TensorFlow backend.\n"
     ]
    }
   ],
   "source": [
    "from keras.models import Model, load_model, model_from_json\n",
    "import keras\n",
    "from keras.datasets import cifar10, mnist\n",
    "from keras import regularizers, callbacks\n",
    "import sys\n",
    "sys.path.append('C:/Users/320060820/Documents/prep_experiments/model_quantization')\n",
    "from train_model import *\n",
    "from inception_model import get_model\n",
    "import copy\n",
    "\n",
    "import tensorflow as tf\n",
    "import numpy as np\n",
    "%matplotlib inline\n",
    "import matplotlib.pyplot as plt\n",
    "import math\n",
    "\n",
    "from keras.layers import Activation\n",
    "from keras.utils.generic_utils import get_custom_objects\n",
    "\n",
    "# to restart layer numbering\n",
    "from keras import backend as K\n",
    "K.clear_session()"
   ]
  },
  {
   "cell_type": "code",
   "execution_count": 2,
   "metadata": {},
   "outputs": [
    {
     "name": "stdout",
     "output_type": "stream",
     "text": [
      "WARNING:tensorflow:From C:\\Users\\320060820\\Anaconda3\\envs\\tf_gpu\\lib\\site-packages\\tensorflow\\python\\framework\\op_def_library.py:263: colocate_with (from tensorflow.python.framework.ops) is deprecated and will be removed in a future version.\n",
      "Instructions for updating:\n",
      "Colocations handled automatically by placer.\n"
     ]
    }
   ],
   "source": [
    "TRAIN = True\n",
    "save_path = '../../saved models/'\n",
    "num_classes = 10\n",
    "epochs = 30\n",
    "reduced_training_size_factor = 10\n",
    "batch_size = 64\n",
    "\n",
    "(x_train, y_train), (x_test, y_test) = mnist.load_data()\n",
    "\n",
    "x_train = x_train.reshape(-1, 28, 28, 1)\n",
    "x_test = x_test.reshape(-1, 28, 28, 1)\n",
    "\n",
    "train_data, test_data = (x_train, y_train), (x_test, y_test)\n",
    "\n",
    "kernels = [20, 16, 32, 64]\n",
    "model = get_model(input_shape=(96, 96, 1), nb_classes=10, \n",
    "                          nb_fabrics=49, scale_factor=96//96, nb_inception_modules=3,\n",
    "                          resampling='conv', kernels=kernels, reg=None, batch_norm=False, pool_layer='average')"
   ]
  },
  {
   "cell_type": "code",
   "execution_count": 3,
   "metadata": {
    "scrolled": true
   },
   "outputs": [
    {
     "name": "stdout",
     "output_type": "stream",
     "text": [
      "__________________________________________________________________________________________________\n",
      "Layer (type)                    Output Shape         Param #     Connected to                     \n",
      "==================================================================================================\n",
      "input_1 (InputLayer)            (None, 96, 96, 1)    0                                            \n",
      "__________________________________________________________________________________________________\n",
      "conv2d_1 (Conv2D)               (None, 48, 48, 20)   200         input_1[0][0]                    \n",
      "__________________________________________________________________________________________________\n",
      "conv2d_5 (Conv2D)               (None, 48, 48, 16)   336         conv2d_1[0][0]                   \n",
      "__________________________________________________________________________________________________\n",
      "conv2d_3 (Conv2D)               (None, 48, 48, 16)   336         conv2d_1[0][0]                   \n",
      "__________________________________________________________________________________________________\n",
      "conv2d_6 (Conv2D)               (None, 48, 48, 16)   2320        conv2d_5[0][0]                   \n",
      "__________________________________________________________________________________________________\n",
      "average_pooling2d_1 (AveragePoo (None, 24, 24, 20)   0           conv2d_1[0][0]                   \n",
      "__________________________________________________________________________________________________\n",
      "conv2d_2 (Conv2D)               (None, 24, 24, 16)   336         conv2d_1[0][0]                   \n",
      "__________________________________________________________________________________________________\n",
      "conv2d_4 (Conv2D)               (None, 24, 24, 16)   2320        conv2d_3[0][0]                   \n",
      "__________________________________________________________________________________________________\n",
      "conv2d_7 (Conv2D)               (None, 24, 24, 16)   2320        conv2d_6[0][0]                   \n",
      "__________________________________________________________________________________________________\n",
      "conv2d_8 (Conv2D)               (None, 24, 24, 16)   336         average_pooling2d_1[0][0]        \n",
      "__________________________________________________________________________________________________\n",
      "concatenate_1 (Concatenate)     (None, 24, 24, 64)   0           conv2d_2[0][0]                   \n",
      "                                                                 conv2d_4[0][0]                   \n",
      "                                                                 conv2d_7[0][0]                   \n",
      "                                                                 conv2d_8[0][0]                   \n",
      "__________________________________________________________________________________________________\n",
      "conv2d_12 (Conv2D)              (None, 24, 24, 32)   2080        concatenate_1[0][0]              \n",
      "__________________________________________________________________________________________________\n",
      "conv2d_10 (Conv2D)              (None, 24, 24, 32)   2080        concatenate_1[0][0]              \n",
      "__________________________________________________________________________________________________\n",
      "conv2d_13 (Conv2D)              (None, 24, 24, 32)   9248        conv2d_12[0][0]                  \n",
      "__________________________________________________________________________________________________\n",
      "average_pooling2d_2 (AveragePoo (None, 12, 12, 64)   0           concatenate_1[0][0]              \n",
      "__________________________________________________________________________________________________\n",
      "conv2d_9 (Conv2D)               (None, 12, 12, 32)   2080        concatenate_1[0][0]              \n",
      "__________________________________________________________________________________________________\n",
      "conv2d_11 (Conv2D)              (None, 12, 12, 32)   9248        conv2d_10[0][0]                  \n",
      "__________________________________________________________________________________________________\n",
      "conv2d_14 (Conv2D)              (None, 12, 12, 32)   9248        conv2d_13[0][0]                  \n",
      "__________________________________________________________________________________________________\n",
      "conv2d_15 (Conv2D)              (None, 12, 12, 32)   2080        average_pooling2d_2[0][0]        \n",
      "__________________________________________________________________________________________________\n",
      "concatenate_2 (Concatenate)     (None, 12, 12, 128)  0           conv2d_9[0][0]                   \n",
      "                                                                 conv2d_11[0][0]                  \n",
      "                                                                 conv2d_14[0][0]                  \n",
      "                                                                 conv2d_15[0][0]                  \n",
      "__________________________________________________________________________________________________\n",
      "conv2d_19 (Conv2D)              (None, 12, 12, 64)   8256        concatenate_2[0][0]              \n",
      "__________________________________________________________________________________________________\n",
      "conv2d_17 (Conv2D)              (None, 12, 12, 64)   8256        concatenate_2[0][0]              \n",
      "__________________________________________________________________________________________________\n",
      "conv2d_20 (Conv2D)              (None, 12, 12, 64)   36928       conv2d_19[0][0]                  \n",
      "__________________________________________________________________________________________________\n",
      "average_pooling2d_3 (AveragePoo (None, 6, 6, 128)    0           concatenate_2[0][0]              \n",
      "__________________________________________________________________________________________________\n",
      "conv2d_16 (Conv2D)              (None, 6, 6, 64)     8256        concatenate_2[0][0]              \n",
      "__________________________________________________________________________________________________\n",
      "conv2d_18 (Conv2D)              (None, 6, 6, 64)     36928       conv2d_17[0][0]                  \n",
      "__________________________________________________________________________________________________\n",
      "conv2d_21 (Conv2D)              (None, 6, 6, 64)     36928       conv2d_20[0][0]                  \n",
      "__________________________________________________________________________________________________\n",
      "conv2d_22 (Conv2D)              (None, 6, 6, 64)     8256        average_pooling2d_3[0][0]        \n",
      "__________________________________________________________________________________________________\n",
      "concatenate_3 (Concatenate)     (None, 6, 6, 256)    0           conv2d_16[0][0]                  \n",
      "                                                                 conv2d_18[0][0]                  \n",
      "                                                                 conv2d_21[0][0]                  \n",
      "                                                                 conv2d_22[0][0]                  \n",
      "__________________________________________________________________________________________________\n",
      "global_average_pooling2d_1 (Glo (None, 256)          0           concatenate_3[0][0]              \n",
      "__________________________________________________________________________________________________\n",
      "binary (Dense)                  (None, 10)           2570        global_average_pooling2d_1[0][0] \n",
      "==================================================================================================\n",
      "Total params: 190,946\n",
      "Trainable params: 190,946\n",
      "Non-trainable params: 0\n",
      "__________________________________________________________________________________________________\n"
     ]
    }
   ],
   "source": [
    "model.summary()"
   ]
  },
  {
   "cell_type": "code",
   "execution_count": 4,
   "metadata": {
    "scrolled": true
   },
   "outputs": [
    {
     "name": "stdout",
     "output_type": "stream",
     "text": [
      "WARNING:tensorflow:From C:\\Users\\320060820\\Anaconda3\\envs\\tf_gpu\\lib\\site-packages\\tensorflow\\python\\ops\\math_ops.py:3066: to_int32 (from tensorflow.python.ops.math_ops) is deprecated and will be removed in a future version.\n",
      "Instructions for updating:\n",
      "Use tf.cast instead.\n",
      "Train on 6000 samples, validate on 1000 samples\n",
      "Epoch 1/30\n",
      "6000/6000 [==============================] - 9s 1ms/step - loss: 1.8793 - acc: 0.3063 - val_loss: 1.0052 - val_acc: 0.6580\n",
      "Epoch 2/30\n",
      "6000/6000 [==============================] - 6s 1ms/step - loss: 0.6388 - acc: 0.8003 - val_loss: 0.5783 - val_acc: 0.8250\n",
      "Epoch 3/30\n",
      "6000/6000 [==============================] - 6s 1ms/step - loss: 0.3571 - acc: 0.8920 - val_loss: 0.5023 - val_acc: 0.8520\n",
      "Epoch 4/30\n",
      "6000/6000 [==============================] - 6s 1ms/step - loss: 0.2521 - acc: 0.9282 - val_loss: 0.3114 - val_acc: 0.9020\n",
      "Epoch 5/30\n",
      "6000/6000 [==============================] - 6s 1ms/step - loss: 0.1926 - acc: 0.9440 - val_loss: 0.2327 - val_acc: 0.9250\n",
      "Epoch 6/30\n",
      "6000/6000 [==============================] - 6s 1ms/step - loss: 0.1487 - acc: 0.9542 - val_loss: 0.2523 - val_acc: 0.9220\n",
      "Epoch 7/30\n",
      "6000/6000 [==============================] - 6s 1ms/step - loss: 0.1437 - acc: 0.9550 - val_loss: 0.3310 - val_acc: 0.9020\n",
      "Epoch 8/30\n",
      "6000/6000 [==============================] - 6s 1ms/step - loss: 0.1286 - acc: 0.9612 - val_loss: 0.2790 - val_acc: 0.9140\n",
      "Epoch 9/30\n",
      "6000/6000 [==============================] - 6s 1ms/step - loss: 0.1190 - acc: 0.9652 - val_loss: 0.2440 - val_acc: 0.9290\n",
      "Epoch 10/30\n",
      "6000/6000 [==============================] - 7s 1ms/step - loss: 0.1067 - acc: 0.9680 - val_loss: 0.2712 - val_acc: 0.9290\n",
      "Epoch 11/30\n",
      "6000/6000 [==============================] - 6s 1ms/step - loss: 0.0894 - acc: 0.9737 - val_loss: 0.3185 - val_acc: 0.9140\n",
      "Epoch 12/30\n",
      "6000/6000 [==============================] - 6s 1ms/step - loss: 0.0753 - acc: 0.9762 - val_loss: 0.2258 - val_acc: 0.9380\n",
      "Epoch 13/30\n",
      "6000/6000 [==============================] - 7s 1ms/step - loss: 0.0683 - acc: 0.9787 - val_loss: 0.3203 - val_acc: 0.9180\n",
      "Epoch 14/30\n",
      "6000/6000 [==============================] - 6s 1ms/step - loss: 0.0570 - acc: 0.9807 - val_loss: 0.3406 - val_acc: 0.9170\n",
      "Epoch 15/30\n",
      "6000/6000 [==============================] - 7s 1ms/step - loss: 0.0569 - acc: 0.9805 - val_loss: 0.3958 - val_acc: 0.9190\n",
      "Epoch 16/30\n",
      "6000/6000 [==============================] - 6s 1ms/step - loss: 0.0674 - acc: 0.9770 - val_loss: 0.3869 - val_acc: 0.9230\n",
      "Epoch 17/30\n",
      "6000/6000 [==============================] - 6s 1ms/step - loss: 0.0406 - acc: 0.9855 - val_loss: 0.2842 - val_acc: 0.9370\n",
      "Epoch 18/30\n",
      "6000/6000 [==============================] - 7s 1ms/step - loss: 0.0349 - acc: 0.9887 - val_loss: 0.3069 - val_acc: 0.9260\n",
      "Epoch 19/30\n",
      "6000/6000 [==============================] - 6s 1ms/step - loss: 0.0342 - acc: 0.9882 - val_loss: 0.3495 - val_acc: 0.9260\n",
      "Epoch 20/30\n",
      "6000/6000 [==============================] - 7s 1ms/step - loss: 0.0400 - acc: 0.9847 - val_loss: 0.3241 - val_acc: 0.9260\n",
      "Epoch 21/30\n",
      "6000/6000 [==============================] - 7s 1ms/step - loss: 0.0379 - acc: 0.9857 - val_loss: 0.3573 - val_acc: 0.9140\n",
      "Epoch 22/30\n",
      "6000/6000 [==============================] - 6s 1ms/step - loss: 0.0346 - acc: 0.9883 - val_loss: 0.3851 - val_acc: 0.9280\n",
      "Epoch 23/30\n",
      "6000/6000 [==============================] - 7s 1ms/step - loss: 0.0527 - acc: 0.9837 - val_loss: 0.3305 - val_acc: 0.9260\n",
      "Epoch 24/30\n",
      "6000/6000 [==============================] - 6s 1ms/step - loss: 0.0423 - acc: 0.9840 - val_loss: 0.2381 - val_acc: 0.9340\n",
      "Epoch 25/30\n",
      "6000/6000 [==============================] - 6s 1ms/step - loss: 0.0299 - acc: 0.9908 - val_loss: 0.2884 - val_acc: 0.9330\n",
      "Epoch 26/30\n",
      "6000/6000 [==============================] - 6s 1ms/step - loss: 0.0255 - acc: 0.9917 - val_loss: 0.4091 - val_acc: 0.9330\n",
      "Epoch 27/30\n",
      "6000/6000 [==============================] - 7s 1ms/step - loss: 0.0383 - acc: 0.9880 - val_loss: 0.2867 - val_acc: 0.9290\n",
      "Epoch 28/30\n",
      "6000/6000 [==============================] - 6s 1ms/step - loss: 0.0420 - acc: 0.9870 - val_loss: 0.4001 - val_acc: 0.9200\n",
      "Epoch 29/30\n",
      "6000/6000 [==============================] - 6s 1ms/step - loss: 0.0291 - acc: 0.9902 - val_loss: 0.3118 - val_acc: 0.9390\n",
      "Epoch 30/30\n",
      "6000/6000 [==============================] - 6s 1ms/step - loss: 0.0199 - acc: 0.9932 - val_loss: 0.2685 - val_acc: 0.9410\n",
      "Test loss: 0.26854079287173227\n",
      "Test accuracy: 0.941\n"
     ]
    }
   ],
   "source": [
    "train_data, test_data, trained_model, history = train_model(\n",
    "                    model, train_data, test_data, epochs, \n",
    "                    batch_size, num_classes, reduced_training_size_factor, rgb=False)\n",
    "trained_model.save(save_path + 'v3_no_batchnorm.h5')\n",
    "x_train_resize, y_train = train_data\n",
    "x_test_resize, y_test = test_data"
   ]
  },
  {
   "cell_type": "code",
   "execution_count": 5,
   "metadata": {},
   "outputs": [
    {
     "data": {
      "image/png": "[encoded data removed]",
      "text/plain": [
       "<Figure size 720x504 with 1 Axes>"
      ]
     },
     "metadata": {
      "needs_background": "light"
     },
     "output_type": "display_data"
    }
   ],
   "source": [
    "plt.figure(figsize=(10, 7))\n",
    "plt.plot(np.arange(1, epochs+1), history.history['acc'], 'o-',label='acc')\n",
    "plt.plot(np.arange(1, epochs+1), history.history['val_acc'], 'o-', label='val_acc')\n",
    "plt.legend()\n",
    "plt.grid()"
   ]
  },
  {
   "cell_type": "markdown",
   "metadata": {},
   "source": [
    "Having removed BN, we find that the network overfits to a certain degree. Additionally the validation accuracy saturates around 94%. With BN, this accuracy goes upto 97 or even 98%. "
   ]
  },
  {
   "cell_type": "code",
   "execution_count": 6,
   "metadata": {},
   "outputs": [],
   "source": [
    "def get_weights_without_biases(model):\n",
    "    \"\"\"\n",
    "    Get weights of the convolution layers excluding biases\n",
    "    \"\"\"\n",
    "    weights_list = model.layers[1].get_weights()[0].flatten() # accesses all weights in the first convolutional layer\n",
    "    for layer in model.layers[2:]:\n",
    "        if layer.weights and 'kernel' in layer.weights[0].name:\n",
    "            weights_list = np.append(weights_list, layer.get_weights()[0].flatten())\n",
    "    \n",
    "    return weights_list"
   ]
  },
  {
   "cell_type": "code",
   "execution_count": null,
   "metadata": {},
   "outputs": [],
   "source": [
    "model_batchnorm = load_model(save_path + 'v3_original_model.h5')\n",
    "ww = get_weights_without_biases(model_batchnorm)\n",
    "w = get_weights_without_biases(trained_model)"
   ]
  },
  {
   "cell_type": "code",
   "execution_count": 11,
   "metadata": {},
   "outputs": [
    {
     "data": {
      "text/plain": [
       "Text(0.5, 1.0, 'With batch normalization')"
      ]
     },
     "execution_count": 11,
     "metadata": {},
     "output_type": "execute_result"
    },
    {
     "data": {
      "image/png": "[encoded data removed]",
      "text/plain": [
       "<Figure size 1080x360 with 2 Axes>"
      ]
     },
     "metadata": {
      "needs_background": "light"
     },
     "output_type": "display_data"
    }
   ],
   "source": [
    "fig = plt.figure(figsize=(15, 5))\n",
    "fig.add_subplot(1, 2, 1)\n",
    "plt.hist(w, bins=100);\n",
    "plt.title('Without batch normalization')\n",
    "\n",
    "fig.add_subplot(1, 2, 2)\n",
    "plt.hist(ww, bins=100);\n",
    "plt.title('With batch normalization')"
   ]
  },
  {
   "cell_type": "markdown",
   "metadata": {},
   "source": [
    "Weights are centered around zero with batch normalization, while removing it creates issues for the weights. Indeed, using batch norm not only helps with training the network, but would also be more useful for quantization purposes. "
   ]
  },
  {
   "cell_type": "code",
   "execution_count": null,
   "metadata": {},
   "outputs": [],
   "source": []
  }
 ],
 "metadata": {
  "kernelspec": {
   "display_name": "Python 3",
   "language": "python",
   "name": "python3"
  },
  "language_info": {
   "codemirror_mode": {
    "name": "ipython",
    "version": 3
   },
   "file_extension": ".py",
   "mimetype": "text/x-python",
   "name": "python",
   "nbconvert_exporter": "python",
   "pygments_lexer": "ipython3",
   "version": "3.7.3"
  }
 },
 "nbformat": 4,
 "nbformat_minor": 2
}
