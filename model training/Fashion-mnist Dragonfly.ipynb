{
 "cells": [
  {
   "cell_type": "code",
   "execution_count": 1,
   "metadata": {},
   "outputs": [
    {
     "name": "stderr",
     "output_type": "stream",
     "text": [
      "Using TensorFlow backend.\n"
     ]
    }
   ],
   "source": [
    "from keras.models import Model, load_model, model_from_json\n",
    "import keras\n",
    "from keras.datasets import cifar10\n",
    "from keras import regularizers, callbacks\n",
    "import sys\n",
    "sys.path.append('C:/Users/320060820/experiments/')\n",
    "from train_model import *\n",
    "from model_gen.inception_model import get_model\n",
    "import copy\n",
    "\n",
    "import tensorflow as tf\n",
    "import numpy as np\n",
    "%matplotlib inline\n",
    "import matplotlib.pyplot as plt\n",
    "import math\n",
    "\n",
    "from keras.layers import Activation\n",
    "from keras.utils.generic_utils import get_custom_objects\n",
    "\n",
    "# to restart layer numbering\n",
    "from keras import backend as K\n",
    "K.clear_session()"
   ]
  },
  {
   "cell_type": "code",
   "execution_count": 2,
   "metadata": {},
   "outputs": [],
   "source": [
    "from datasets.fashion_mnist.utils import mnist_reader"
   ]
  },
  {
   "cell_type": "code",
   "execution_count": 3,
   "metadata": {},
   "outputs": [],
   "source": [
    "x_train, y_train = mnist_reader.load_mnist('../datasets/fashion_mnist/data/fashion', kind='train')\n",
    "x_test, y_test = mnist_reader.load_mnist('../datasets/fashion_mnist/data/fashion', kind='t10k')"
   ]
  },
  {
   "cell_type": "code",
   "execution_count": 4,
   "metadata": {},
   "outputs": [],
   "source": [
    "x_train = x_train.astype('float32')\n",
    "x_test = x_test.astype('float32')\n",
    "x_train /= 255.\n",
    "x_test /= 255.\n",
    "\n",
    "y_train = keras.utils.to_categorical(y_train, 10)\n",
    "y_test = keras.utils.to_categorical(y_test, 10)"
   ]
  },
  {
   "cell_type": "code",
   "execution_count": 5,
   "metadata": {},
   "outputs": [],
   "source": [
    "x_train = x_train.reshape(x_train.shape[0], 28, 28, 1)\n",
    "x_test = x_test.reshape(x_test.shape[0], 28, 28, 1)"
   ]
  },
  {
   "cell_type": "code",
   "execution_count": 6,
   "metadata": {},
   "outputs": [],
   "source": [
    "x_train_resize = np.zeros(shape = (x_train.shape[0], 96, 96, 1))\n",
    "x_test_resize = np.zeros(shape = (x_test.shape[0], 96, 96, 1))"
   ]
  },
  {
   "cell_type": "code",
   "execution_count": 7,
   "metadata": {},
   "outputs": [],
   "source": [
    "for i in range(0, x_train.shape[0]):\n",
    "    x_train_resize[i, :, :, :] = resize(x_train[i, :, :, :], (96, 96, 1))\n",
    "for i in range(0, x_test.shape[0]):\n",
    "    x_test_resize[i, :, :, :]=resize(x_test[i, :, :, :], (96, 96, 1))\n",
    "\n",
    "x_train_resize = np.reshape(x_train_resize, (len(x_train_resize), 96, 96, 1))  \n",
    "x_test_resize = np.reshape(x_test_resize, (len(x_test_resize), 96, 96, 1))"
   ]
  },
  {
   "cell_type": "code",
   "execution_count": 8,
   "metadata": {},
   "outputs": [
    {
     "name": "stdout",
     "output_type": "stream",
     "text": [
      "WARNING:tensorflow:From C:\\Users\\320060820\\Anaconda3\\envs\\tf_gpu\\lib\\site-packages\\tensorflow\\python\\framework\\op_def_library.py:263: colocate_with (from tensorflow.python.framework.ops) is deprecated and will be removed in a future version.\n",
      "Instructions for updating:\n",
      "Colocations handled automatically by placer.\n",
      "WARNING:tensorflow:From C:\\Users\\320060820\\Anaconda3\\envs\\tf_gpu\\lib\\site-packages\\keras\\backend\\tensorflow_backend.py:3445: calling dropout (from tensorflow.python.ops.nn_ops) with keep_prob is deprecated and will be removed in a future version.\n",
      "Instructions for updating:\n",
      "Please use `rate` instead of `keep_prob`. Rate should be set to `rate = 1 - keep_prob`.\n"
     ]
    }
   ],
   "source": [
    "model = get_model((96, 96, 1), 10, nb_fabrics=49, scale_factor=96//96, resampling='conv', pool_layer='max', dropout=True)"
   ]
  },
  {
   "cell_type": "code",
   "execution_count": 9,
   "metadata": {},
   "outputs": [
    {
     "name": "stdout",
     "output_type": "stream",
     "text": [
      "WARNING:tensorflow:From C:\\Users\\320060820\\Anaconda3\\envs\\tf_gpu\\lib\\site-packages\\tensorflow\\python\\ops\\math_ops.py:3066: to_int32 (from tensorflow.python.ops.math_ops) is deprecated and will be removed in a future version.\n",
      "Instructions for updating:\n",
      "Use tf.cast instead.\n",
      "WARNING:tensorflow:From C:\\Users\\320060820\\Anaconda3\\envs\\tf_gpu\\lib\\site-packages\\tensorflow\\python\\ops\\math_grad.py:102: div (from tensorflow.python.ops.math_ops) is deprecated and will be removed in a future version.\n",
      "Instructions for updating:\n",
      "Deprecated in favor of operator or tf.math.divide.\n",
      "Train on 60000 samples, validate on 10000 samples\n",
      "Epoch 1/30\n",
      "60000/60000 [==============================] - 97s 2ms/step - loss: 0.8133 - acc: 0.7542 - val_loss: 1.2236 - val_acc: 0.5932\n",
      "Epoch 2/30\n",
      "60000/60000 [==============================] - 93s 2ms/step - loss: 0.4021 - acc: 0.8568 - val_loss: 0.8907 - val_acc: 0.7258\n",
      "Epoch 3/30\n",
      "60000/60000 [==============================] - 93s 2ms/step - loss: 0.3552 - acc: 0.8742 - val_loss: 0.3255 - val_acc: 0.8828\n",
      "Epoch 4/30\n",
      "60000/60000 [==============================] - 93s 2ms/step - loss: 0.3386 - acc: 0.8790 - val_loss: 0.3383 - val_acc: 0.8742\n",
      "Epoch 5/30\n",
      "60000/60000 [==============================] - 93s 2ms/step - loss: 0.3140 - acc: 0.8892 - val_loss: 0.3237 - val_acc: 0.8867\n",
      "Epoch 6/30\n",
      "60000/60000 [==============================] - 93s 2ms/step - loss: 0.3001 - acc: 0.8946 - val_loss: 0.2658 - val_acc: 0.9071\n",
      "Epoch 7/30\n",
      "60000/60000 [==============================] - 93s 2ms/step - loss: 0.2917 - acc: 0.8963 - val_loss: 0.3095 - val_acc: 0.8943\n",
      "Epoch 8/30\n",
      "60000/60000 [==============================] - 93s 2ms/step - loss: 0.2794 - acc: 0.9011 - val_loss: 0.2777 - val_acc: 0.9004\n",
      "Epoch 9/30\n",
      "60000/60000 [==============================] - 93s 2ms/step - loss: 0.2689 - acc: 0.9053 - val_loss: 0.2570 - val_acc: 0.9070\n",
      "Epoch 10/30\n",
      "60000/60000 [==============================] - 93s 2ms/step - loss: 0.2637 - acc: 0.9073 - val_loss: 0.2846 - val_acc: 0.9010\n",
      "Epoch 11/30\n",
      "60000/60000 [==============================] - 93s 2ms/step - loss: 0.2501 - acc: 0.9114 - val_loss: 0.3718 - val_acc: 0.8758\n",
      "Epoch 12/30\n",
      "60000/60000 [==============================] - 93s 2ms/step - loss: 0.2453 - acc: 0.9135 - val_loss: 0.4651 - val_acc: 0.8502\n",
      "Epoch 13/30\n",
      "60000/60000 [==============================] - 93s 2ms/step - loss: 0.2360 - acc: 0.9169 - val_loss: 0.2545 - val_acc: 0.9128\n",
      "Epoch 14/30\n",
      "60000/60000 [==============================] - 93s 2ms/step - loss: 0.2282 - acc: 0.9198 - val_loss: 0.2415 - val_acc: 0.9145\n",
      "Epoch 15/30\n",
      "60000/60000 [==============================] - 93s 2ms/step - loss: 0.2217 - acc: 0.9215 - val_loss: 0.2715 - val_acc: 0.9102\n",
      "Epoch 16/30\n",
      "60000/60000 [==============================] - 93s 2ms/step - loss: 0.2163 - acc: 0.9243 - val_loss: 0.2705 - val_acc: 0.9075\n",
      "Epoch 17/30\n",
      "60000/60000 [==============================] - 93s 2ms/step - loss: 0.2068 - acc: 0.9269 - val_loss: 0.2539 - val_acc: 0.9113\n",
      "Epoch 18/30\n",
      "60000/60000 [==============================] - 93s 2ms/step - loss: 0.2058 - acc: 0.9281 - val_loss: 0.2342 - val_acc: 0.9169\n",
      "Epoch 19/30\n",
      "60000/60000 [==============================] - 93s 2ms/step - loss: 0.1948 - acc: 0.9318 - val_loss: 0.2670 - val_acc: 0.9068\n",
      "Epoch 20/30\n",
      "60000/60000 [==============================] - 93s 2ms/step - loss: 0.1893 - acc: 0.9328 - val_loss: 0.2846 - val_acc: 0.9119\n",
      "Epoch 21/30\n",
      "60000/60000 [==============================] - 93s 2ms/step - loss: 0.1873 - acc: 0.9345 - val_loss: 0.2409 - val_acc: 0.9172\n",
      "Epoch 22/30\n",
      "60000/60000 [==============================] - 93s 2ms/step - loss: 0.1836 - acc: 0.9350 - val_loss: 0.2399 - val_acc: 0.9195\n",
      "Epoch 23/30\n",
      "60000/60000 [==============================] - 93s 2ms/step - loss: 0.1755 - acc: 0.9391 - val_loss: 0.2523 - val_acc: 0.9179\n",
      "Epoch 24/30\n",
      "60000/60000 [==============================] - 93s 2ms/step - loss: 0.1731 - acc: 0.9388 - val_loss: 0.2407 - val_acc: 0.9200\n",
      "Epoch 25/30\n",
      "60000/60000 [==============================] - 93s 2ms/step - loss: 0.1669 - acc: 0.9414 - val_loss: 0.2399 - val_acc: 0.9219\n",
      "Epoch 26/30\n",
      "60000/60000 [==============================] - 93s 2ms/step - loss: 0.1607 - acc: 0.9413 - val_loss: 0.2925 - val_acc: 0.9128\n",
      "Epoch 27/30\n",
      "60000/60000 [==============================] - 93s 2ms/step - loss: 0.1561 - acc: 0.9446 - val_loss: 0.3313 - val_acc: 0.9067\n",
      "Epoch 28/30\n",
      "60000/60000 [==============================] - 93s 2ms/step - loss: 0.1577 - acc: 0.9446 - val_loss: 0.2525 - val_acc: 0.9180\n",
      "Epoch 29/30\n",
      "60000/60000 [==============================] - 93s 2ms/step - loss: 0.1487 - acc: 0.9471 - val_loss: 0.2753 - val_acc: 0.9145\n",
      "Epoch 30/30\n",
      "60000/60000 [==============================] - 93s 2ms/step - loss: 0.1437 - acc: 0.9487 - val_loss: 0.3032 - val_acc: 0.9106\n",
      "Test loss: 0.3032170760437846\n",
      "Test accuracy: 0.9106\n"
     ]
    }
   ],
   "source": [
    "train_data, test_data = (x_train_resize, y_train), (x_test_resize, y_test)\n",
    "train_data, test_data, trained_model, history = train_model(\n",
    "                    model, train_data, test_data, 30, \n",
    "                    64, 10, 1, rgb=False)"
   ]
  },
  {
   "cell_type": "code",
   "execution_count": null,
   "metadata": {},
   "outputs": [],
   "source": []
  },
  {
   "cell_type": "code",
   "execution_count": 10,
   "metadata": {},
   "outputs": [],
   "source": [
    "trained_model.save('../test_models/fashion_df/fashion_df.h5')\n",
    "trained_model.save_weights('../test_models/fashion_df/fashion_df_w.h5')"
   ]
  },
  {
   "cell_type": "code",
   "execution_count": null,
   "metadata": {},
   "outputs": [],
   "source": []
  }
 ],
 "metadata": {
  "kernelspec": {
   "display_name": "Python 3",
   "language": "python",
   "name": "python3"
  },
  "language_info": {
   "codemirror_mode": {
    "name": "ipython",
    "version": 3
   },
   "file_extension": ".py",
   "mimetype": "text/x-python",
   "name": "python",
   "nbconvert_exporter": "python",
   "pygments_lexer": "ipython3",
   "version": "3.7.3"
  },
  "varInspector": {
   "cols": {
    "lenName": 16,
    "lenType": 16,
    "lenVar": 40
   },
   "kernels_config": {
    "python": {
     "delete_cmd_postfix": "",
     "delete_cmd_prefix": "del ",
     "library": "var_list.py",
     "varRefreshCmd": "print(var_dic_list())"
    },
    "r": {
     "delete_cmd_postfix": ") ",
     "delete_cmd_prefix": "rm(",
     "library": "var_list.r",
     "varRefreshCmd": "cat(var_dic_list()) "
    }
   },
   "types_to_exclude": [
    "module",
    "function",
    "builtin_function_or_method",
    "instance",
    "_Feature"
   ],
   "window_display": false
  }
 },
 "nbformat": 4,
 "nbformat_minor": 2
}
