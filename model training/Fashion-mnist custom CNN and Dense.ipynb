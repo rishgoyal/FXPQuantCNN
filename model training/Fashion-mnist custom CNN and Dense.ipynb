{
 "cells": [
  {
   "cell_type": "code",
   "execution_count": 3,
   "metadata": {},
   "outputs": [
    {
     "name": "stderr",
     "output_type": "stream",
     "text": [
      "Using TensorFlow backend.\n"
     ]
    }
   ],
   "source": [
    "import keras\n",
    "from keras import models, layers, optimizers\n",
    "from keras.datasets import mnist, cifar10\n",
    "import sys\n",
    "sys.path.append('C:/Users/320060820/experiments/')\n",
    "import os\n",
    "from model_gen import keras_cnn\n",
    "import copy\n",
    "\n",
    "import tensorflow as tf\n",
    "import numpy as np\n",
    "%matplotlib inline\n",
    "import matplotlib.pyplot as plt\n",
    "import seaborn as sns\n",
    "\n",
    "# to restart layer numbering\n",
    "from keras import backend as K\n",
    "K.clear_session()"
   ]
  },
  {
   "cell_type": "code",
   "execution_count": 2,
   "metadata": {},
   "outputs": [],
   "source": [
    "from datasets.fashion_mnist.utils import mnist_reader"
   ]
  },
  {
   "cell_type": "code",
   "execution_count": 3,
   "metadata": {},
   "outputs": [],
   "source": [
    "x_train, y_train = mnist_reader.load_mnist('../datasets/fashion_mnist/data/fashion', kind='train')\n",
    "x_test, y_test = mnist_reader.load_mnist('../datasets/fashion_mnist/data/fashion', kind='t10k')"
   ]
  },
  {
   "cell_type": "code",
   "execution_count": 4,
   "metadata": {},
   "outputs": [],
   "source": [
    "x_train = x_train.astype('float32')\n",
    "x_test = x_test.astype('float32')\n",
    "x_train /= 255.\n",
    "x_test /= 255.\n",
    "\n",
    "y_train = keras.utils.to_categorical(y_train, 10)\n",
    "y_test = keras.utils.to_categorical(y_test, 10)"
   ]
  },
  {
   "cell_type": "code",
   "execution_count": 5,
   "metadata": {},
   "outputs": [
    {
     "data": {
      "text/plain": [
       "(60000, 784)"
      ]
     },
     "execution_count": 5,
     "metadata": {},
     "output_type": "execute_result"
    }
   ],
   "source": [
    "x_train.shape"
   ]
  },
  {
   "cell_type": "code",
   "execution_count": 6,
   "metadata": {},
   "outputs": [],
   "source": [
    "x_train = x_train.reshape(x_train.shape[0], 28, 28, 1)\n",
    "x_test = x_test.reshape(x_test.shape[0], 28, 28, 1)"
   ]
  },
  {
   "cell_type": "code",
   "execution_count": 7,
   "metadata": {},
   "outputs": [
    {
     "name": "stdout",
     "output_type": "stream",
     "text": [
      "WARNING:tensorflow:From C:\\Users\\320060820\\Anaconda3\\envs\\tf_gpu\\lib\\site-packages\\tensorflow\\python\\framework\\op_def_library.py:263: colocate_with (from tensorflow.python.framework.ops) is deprecated and will be removed in a future version.\n",
      "Instructions for updating:\n",
      "Colocations handled automatically by placer.\n",
      "WARNING:tensorflow:From C:\\Users\\320060820\\Anaconda3\\envs\\tf_gpu\\lib\\site-packages\\keras\\backend\\tensorflow_backend.py:3445: calling dropout (from tensorflow.python.ops.nn_ops) with keep_prob is deprecated and will be removed in a future version.\n",
      "Instructions for updating:\n",
      "Please use `rate` instead of `keep_prob`. Rate should be set to `rate = 1 - keep_prob`.\n"
     ]
    }
   ],
   "source": [
    "K.clear_session()\n",
    "model = models.Sequential()\n",
    "model.add(layers.Conv2D(32, (3, 3), activation='relu', input_shape=(28, 28, 1)))\n",
    "model.add(layers.BatchNormalization())\n",
    "model.add(layers.Conv2D(32, (3, 3), activation='relu'))\n",
    "model.add(layers.BatchNormalization())\n",
    "model.add(layers.MaxPooling2D(pool_size=(2, 2)))\n",
    "model.add(layers.Dropout(0.25))\n",
    "\n",
    "model.add(layers.Conv2D(64, (3, 3), padding='same', activation='relu'))\n",
    "model.add(layers.BatchNormalization())\n",
    "model.add(layers.Conv2D(64, (3, 3), activation='relu'))\n",
    "model.add(layers.BatchNormalization())\n",
    "model.add(layers.MaxPooling2D(pool_size=(2, 2)))\n",
    "model.add(layers.Dropout(0.25))\n",
    "\n",
    "model.add(layers.GlobalMaxPooling2D())\n",
    "model.add(layers.Dropout(0.25))\n",
    "model.add(layers.Dense(10, activation='softmax'))\n",
    "\n",
    "opt = optimizers.rmsprop(lr=0.0001)\n",
    "\n",
    "model.compile(loss='categorical_crossentropy', \n",
    "                optimizer = opt,\n",
    "                metrics=['accuracy'])"
   ]
  },
  {
   "cell_type": "code",
   "execution_count": 8,
   "metadata": {},
   "outputs": [
    {
     "name": "stdout",
     "output_type": "stream",
     "text": [
      "WARNING:tensorflow:From C:\\Users\\320060820\\Anaconda3\\envs\\tf_gpu\\lib\\site-packages\\tensorflow\\python\\ops\\math_ops.py:3066: to_int32 (from tensorflow.python.ops.math_ops) is deprecated and will be removed in a future version.\n",
      "Instructions for updating:\n",
      "Use tf.cast instead.\n",
      "WARNING:tensorflow:From C:\\Users\\320060820\\Anaconda3\\envs\\tf_gpu\\lib\\site-packages\\tensorflow\\python\\ops\\math_grad.py:102: div (from tensorflow.python.ops.math_ops) is deprecated and will be removed in a future version.\n",
      "Instructions for updating:\n",
      "Deprecated in favor of operator or tf.math.divide.\n",
      "Train on 60000 samples, validate on 10000 samples\n",
      "Epoch 1/20\n",
      "60000/60000 [==============================] - 21s 355us/step - loss: 1.8261 - acc: 0.5462 - val_loss: 0.5970 - val_acc: 0.7856\n",
      "Epoch 2/20\n",
      "60000/60000 [==============================] - 20s 329us/step - loss: 0.8856 - acc: 0.7057 - val_loss: 0.4922 - val_acc: 0.8222\n",
      "Epoch 3/20\n",
      "60000/60000 [==============================] - 20s 331us/step - loss: 0.7093 - acc: 0.7538 - val_loss: 0.4523 - val_acc: 0.8358\n",
      "Epoch 4/20\n",
      "60000/60000 [==============================] - 20s 331us/step - loss: 0.6142 - acc: 0.7861 - val_loss: 0.4149 - val_acc: 0.8527\n",
      "Epoch 5/20\n",
      "60000/60000 [==============================] - 20s 331us/step - loss: 0.5471 - acc: 0.8061 - val_loss: 0.3896 - val_acc: 0.8640\n",
      "Epoch 6/20\n",
      "60000/60000 [==============================] - 20s 329us/step - loss: 0.5079 - acc: 0.8219 - val_loss: 0.3786 - val_acc: 0.8643\n",
      "Epoch 7/20\n",
      "60000/60000 [==============================] - 20s 330us/step - loss: 0.4752 - acc: 0.8324 - val_loss: 0.3704 - val_acc: 0.8704\n",
      "Epoch 8/20\n",
      "60000/60000 [==============================] - 20s 330us/step - loss: 0.4502 - acc: 0.8400 - val_loss: 0.3518 - val_acc: 0.8761\n",
      "Epoch 9/20\n",
      "60000/60000 [==============================] - 20s 330us/step - loss: 0.4300 - acc: 0.8482 - val_loss: 0.3429 - val_acc: 0.8747\n",
      "Epoch 10/20\n",
      "60000/60000 [==============================] - 20s 329us/step - loss: 0.4190 - acc: 0.8511 - val_loss: 0.3407 - val_acc: 0.8748\n",
      "Epoch 11/20\n",
      "60000/60000 [==============================] - 20s 330us/step - loss: 0.4048 - acc: 0.8568 - val_loss: 0.3208 - val_acc: 0.8841\n",
      "Epoch 12/20\n",
      "60000/60000 [==============================] - 20s 330us/step - loss: 0.3920 - acc: 0.8629 - val_loss: 0.3198 - val_acc: 0.8849\n",
      "Epoch 13/20\n",
      "60000/60000 [==============================] - 20s 331us/step - loss: 0.3826 - acc: 0.8643 - val_loss: 0.3125 - val_acc: 0.8857\n",
      "Epoch 14/20\n",
      "60000/60000 [==============================] - 20s 331us/step - loss: 0.3777 - acc: 0.8663 - val_loss: 0.3027 - val_acc: 0.8894\n",
      "Epoch 15/20\n",
      "60000/60000 [==============================] - 20s 330us/step - loss: 0.3679 - acc: 0.8699 - val_loss: 0.3038 - val_acc: 0.8888\n",
      "Epoch 16/20\n",
      "60000/60000 [==============================] - 20s 331us/step - loss: 0.3604 - acc: 0.8730 - val_loss: 0.3055 - val_acc: 0.8909\n",
      "Epoch 17/20\n",
      "60000/60000 [==============================] - 20s 330us/step - loss: 0.3564 - acc: 0.8744 - val_loss: 0.3403 - val_acc: 0.8787\n",
      "Epoch 18/20\n",
      "60000/60000 [==============================] - 20s 334us/step - loss: 0.3511 - acc: 0.8769 - val_loss: 0.3056 - val_acc: 0.8884\n",
      "Epoch 19/20\n",
      "60000/60000 [==============================] - 20s 328us/step - loss: 0.3497 - acc: 0.8762 - val_loss: 0.3048 - val_acc: 0.8910\n",
      "Epoch 20/20\n",
      "60000/60000 [==============================] - 20s 333us/step - loss: 0.3416 - acc: 0.8787 - val_loss: 0.2890 - val_acc: 0.8950\n"
     ]
    }
   ],
   "source": [
    "history = model.fit(x_train, y_train,\n",
    "                    epochs=20,\n",
    "                    batch_size=32,\n",
    "                    shuffle=True, \n",
    "                    validation_data=(x_test, y_test))"
   ]
  },
  {
   "cell_type": "code",
   "execution_count": 9,
   "metadata": {},
   "outputs": [],
   "source": [
    "model.save('../test_models/fashion_keras/fashion_keras.h5')\n",
    "model.save_weights('../test_models/fashion_keras/fashion_keras_w.h5')"
   ]
  },
  {
   "cell_type": "code",
   "execution_count": 9,
   "metadata": {},
   "outputs": [],
   "source": [
    "K.clear_session()\n",
    "mmm = keras.models.load_model('../test_models/mnist_df/v3_original_model.h5')"
   ]
  },
  {
   "cell_type": "code",
   "execution_count": 10,
   "metadata": {},
   "outputs": [],
   "source": [
    "mmm.save_weights('../test_models/mnist_df/v3_original_model_w.h5')"
   ]
  },
  {
   "cell_type": "code",
   "execution_count": null,
   "metadata": {},
   "outputs": [],
   "source": []
  }
 ],
 "metadata": {
  "kernelspec": {
   "display_name": "Python 3",
   "language": "python",
   "name": "python3"
  },
  "language_info": {
   "codemirror_mode": {
    "name": "ipython",
    "version": 3
   },
   "file_extension": ".py",
   "mimetype": "text/x-python",
   "name": "python",
   "nbconvert_exporter": "python",
   "pygments_lexer": "ipython3",
   "version": "3.7.3"
  }
 },
 "nbformat": 4,
 "nbformat_minor": 2
}
