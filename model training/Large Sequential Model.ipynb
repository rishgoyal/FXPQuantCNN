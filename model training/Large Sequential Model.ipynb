{
 "cells": [
  {
   "cell_type": "code",
   "execution_count": 1,
   "metadata": {
    "ExecuteTime": {
     "end_time": "2019-08-28T06:56:38.738791Z",
     "start_time": "2019-08-28T06:56:35.346865Z"
    }
   },
   "outputs": [
    {
     "name": "stderr",
     "output_type": "stream",
     "text": [
      "Using TensorFlow backend.\n"
     ]
    }
   ],
   "source": [
    "from keras.models import Sequential, Model, load_model, model_from_json\n",
    "from keras import layers\n",
    "from keras.layers import Activation\n",
    "from keras.layers import Input\n",
    "import keras\n",
    "from keras.datasets import mnist\n",
    "import sys\n",
    "sys.path.append('C:/Users/320060820/experiments/')\n",
    "# from inception_model import get_model\n",
    "import copy\n",
    "\n",
    "import tensorflow as tf\n",
    "import numpy as np\n",
    "%matplotlib inline\n",
    "import matplotlib.pyplot as plt\n",
    "\n",
    "from keras import backend as K"
   ]
  },
  {
   "cell_type": "code",
   "execution_count": 2,
   "metadata": {
    "ExecuteTime": {
     "end_time": "2019-08-21T11:21:29.597752Z",
     "start_time": "2019-08-21T11:21:29.244660Z"
    }
   },
   "outputs": [],
   "source": [
    "from test_models.mnist_custom import data\n",
    "train_data, test_data = data.get_data()"
   ]
  },
  {
   "cell_type": "code",
   "execution_count": 3,
   "metadata": {
    "ExecuteTime": {
     "end_time": "2019-08-21T11:21:32.429953Z",
     "start_time": "2019-08-21T11:21:32.427929Z"
    }
   },
   "outputs": [],
   "source": [
    "epochs = 20\n",
    "batch_size = 64"
   ]
  },
  {
   "cell_type": "code",
   "execution_count": 34,
   "metadata": {
    "ExecuteTime": {
     "end_time": "2019-08-21T08:15:45.896178Z",
     "start_time": "2019-08-21T08:15:45.148155Z"
    }
   },
   "outputs": [],
   "source": [
    "input_shape = (28, 28, 1)\n",
    "num_outputs = 10\n",
    "K.clear_session()\n",
    "model = Sequential()\n",
    "num_stages = 4\n",
    "num_kernels = 32\n",
    "\n",
    "for i in range(num_stages):\n",
    "    if i == 0:\n",
    "        model.add(layers.Conv2D(num_kernels, (3, 3), activation='relu', input_shape=input_shape))\n",
    "    else:\n",
    "        model.add(layers.Conv2D(num_kernels, (3, 3), padding='same', activation='relu'))\n",
    "    model.add(layers.BatchNormalization())\n",
    "    model.add(layers.Conv2D(num_kernels, (3, 3), padding='same', activation='relu'))\n",
    "    model.add(layers.BatchNormalization())\n",
    "    model.add(layers.MaxPooling2D(pool_size=(2, 2), padding='same'))\n",
    "    model.add(layers.Dropout(0.25))\n",
    "    \n",
    "    if (i + 1) * 2 == num_stages:\n",
    "        num_kernels *= 2\n",
    "\n",
    "model.add(layers.GlobalMaxPooling2D())\n",
    "model.add(layers.Dropout(0.25))\n",
    "model.add(layers.Dense(num_outputs))\n",
    "model.add(layers.Activation('softmax'))\n",
    "\n",
    "opt = keras.optimizers.rmsprop(lr=0.0001)\n",
    "\n",
    "model.compile(loss='categorical_crossentropy', \n",
    "                        optimizer = opt,\n",
    "                        metrics=['accuracy'])"
   ]
  },
  {
   "cell_type": "code",
   "execution_count": 36,
   "metadata": {
    "ExecuteTime": {
     "end_time": "2019-08-21T08:15:46.175370Z",
     "start_time": "2019-08-21T08:15:46.168388Z"
    },
    "scrolled": true
   },
   "outputs": [
    {
     "name": "stdout",
     "output_type": "stream",
     "text": [
      "_________________________________________________________________\n",
      "Layer (type)                 Output Shape              Param #   \n",
      "=================================================================\n",
      "conv2d_1 (Conv2D)            (None, 26, 26, 32)        320       \n",
      "_________________________________________________________________\n",
      "batch_normalization_1 (Batch (None, 26, 26, 32)        128       \n",
      "_________________________________________________________________\n",
      "conv2d_2 (Conv2D)            (None, 26, 26, 32)        9248      \n",
      "_________________________________________________________________\n",
      "batch_normalization_2 (Batch (None, 26, 26, 32)        128       \n",
      "_________________________________________________________________\n",
      "max_pooling2d_1 (MaxPooling2 (None, 13, 13, 32)        0         \n",
      "_________________________________________________________________\n",
      "dropout_1 (Dropout)          (None, 13, 13, 32)        0         \n",
      "_________________________________________________________________\n",
      "conv2d_3 (Conv2D)            (None, 13, 13, 32)        9248      \n",
      "_________________________________________________________________\n",
      "batch_normalization_3 (Batch (None, 13, 13, 32)        128       \n",
      "_________________________________________________________________\n",
      "conv2d_4 (Conv2D)            (None, 13, 13, 32)        9248      \n",
      "_________________________________________________________________\n",
      "batch_normalization_4 (Batch (None, 13, 13, 32)        128       \n",
      "_________________________________________________________________\n",
      "max_pooling2d_2 (MaxPooling2 (None, 7, 7, 32)          0         \n",
      "_________________________________________________________________\n",
      "dropout_2 (Dropout)          (None, 7, 7, 32)          0         \n",
      "_________________________________________________________________\n",
      "conv2d_5 (Conv2D)            (None, 7, 7, 64)          18496     \n",
      "_________________________________________________________________\n",
      "batch_normalization_5 (Batch (None, 7, 7, 64)          256       \n",
      "_________________________________________________________________\n",
      "conv2d_6 (Conv2D)            (None, 7, 7, 64)          36928     \n",
      "_________________________________________________________________\n",
      "batch_normalization_6 (Batch (None, 7, 7, 64)          256       \n",
      "_________________________________________________________________\n",
      "max_pooling2d_3 (MaxPooling2 (None, 4, 4, 64)          0         \n",
      "_________________________________________________________________\n",
      "dropout_3 (Dropout)          (None, 4, 4, 64)          0         \n",
      "_________________________________________________________________\n",
      "conv2d_7 (Conv2D)            (None, 4, 4, 64)          36928     \n",
      "_________________________________________________________________\n",
      "batch_normalization_7 (Batch (None, 4, 4, 64)          256       \n",
      "_________________________________________________________________\n",
      "conv2d_8 (Conv2D)            (None, 4, 4, 64)          36928     \n",
      "_________________________________________________________________\n",
      "batch_normalization_8 (Batch (None, 4, 4, 64)          256       \n",
      "_________________________________________________________________\n",
      "max_pooling2d_4 (MaxPooling2 (None, 2, 2, 64)          0         \n",
      "_________________________________________________________________\n",
      "dropout_4 (Dropout)          (None, 2, 2, 64)          0         \n",
      "_________________________________________________________________\n",
      "global_max_pooling2d_1 (Glob (None, 64)                0         \n",
      "_________________________________________________________________\n",
      "dropout_5 (Dropout)          (None, 64)                0         \n",
      "_________________________________________________________________\n",
      "dense_1 (Dense)              (None, 10)                650       \n",
      "_________________________________________________________________\n",
      "activation_1 (Activation)    (None, 10)                0         \n",
      "=================================================================\n",
      "Total params: 159,530\n",
      "Trainable params: 158,762\n",
      "Non-trainable params: 768\n",
      "_________________________________________________________________\n"
     ]
    }
   ],
   "source": [
    "model.summary()"
   ]
  },
  {
   "cell_type": "code",
   "execution_count": 37,
   "metadata": {
    "ExecuteTime": {
     "end_time": "2019-08-21T08:22:49.036374Z",
     "start_time": "2019-08-21T08:15:52.455567Z"
    },
    "scrolled": true
   },
   "outputs": [
    {
     "name": "stdout",
     "output_type": "stream",
     "text": [
      "Train on 60000 samples, validate on 10000 samples\n",
      "Epoch 1/20\n",
      "60000/60000 [==============================] - 22s 366us/step - loss: 2.1382 - acc: 0.5224 - val_loss: 0.1786 - val_acc: 0.9465\n",
      "Epoch 2/20\n",
      "60000/60000 [==============================] - 21s 344us/step - loss: 0.2911 - acc: 0.9112 - val_loss: 0.0986 - val_acc: 0.9697\n",
      "Epoch 3/20\n",
      "60000/60000 [==============================] - 21s 345us/step - loss: 0.1614 - acc: 0.9523 - val_loss: 0.0638 - val_acc: 0.9802\n",
      "Epoch 4/20\n",
      "60000/60000 [==============================] - 21s 345us/step - loss: 0.1148 - acc: 0.9662 - val_loss: 0.0469 - val_acc: 0.9849\n",
      "Epoch 5/20\n",
      "60000/60000 [==============================] - 21s 345us/step - loss: 0.0924 - acc: 0.9725 - val_loss: 0.0370 - val_acc: 0.9885\n",
      "Epoch 6/20\n",
      "60000/60000 [==============================] - 21s 346us/step - loss: 0.0794 - acc: 0.9770 - val_loss: 0.0307 - val_acc: 0.9901\n",
      "Epoch 7/20\n",
      "60000/60000 [==============================] - 21s 346us/step - loss: 0.0684 - acc: 0.9803 - val_loss: 0.0274 - val_acc: 0.9917\n",
      "Epoch 8/20\n",
      "60000/60000 [==============================] - 21s 345us/step - loss: 0.0610 - acc: 0.9824 - val_loss: 0.0279 - val_acc: 0.9913\n",
      "Epoch 9/20\n",
      "60000/60000 [==============================] - 21s 345us/step - loss: 0.0533 - acc: 0.9844 - val_loss: 0.0242 - val_acc: 0.9929\n",
      "Epoch 10/20\n",
      "60000/60000 [==============================] - 21s 346us/step - loss: 0.0525 - acc: 0.9850 - val_loss: 0.0261 - val_acc: 0.9917\n",
      "Epoch 11/20\n",
      "60000/60000 [==============================] - 21s 345us/step - loss: 0.0482 - acc: 0.9860 - val_loss: 0.0235 - val_acc: 0.9927\n",
      "Epoch 12/20\n",
      "60000/60000 [==============================] - 21s 345us/step - loss: 0.0441 - acc: 0.9870 - val_loss: 0.0187 - val_acc: 0.9946\n",
      "Epoch 13/20\n",
      "60000/60000 [==============================] - 21s 347us/step - loss: 0.0389 - acc: 0.9883 - val_loss: 0.0193 - val_acc: 0.9941\n",
      "Epoch 14/20\n",
      "60000/60000 [==============================] - 21s 345us/step - loss: 0.0373 - acc: 0.9892 - val_loss: 0.0175 - val_acc: 0.9943\n",
      "Epoch 15/20\n",
      "60000/60000 [==============================] - 21s 346us/step - loss: 0.0380 - acc: 0.9893 - val_loss: 0.0209 - val_acc: 0.9941\n",
      "Epoch 16/20\n",
      "60000/60000 [==============================] - 21s 345us/step - loss: 0.0343 - acc: 0.9895 - val_loss: 0.0176 - val_acc: 0.9951\n",
      "Epoch 17/20\n",
      "60000/60000 [==============================] - 21s 344us/step - loss: 0.0322 - acc: 0.9908 - val_loss: 0.0198 - val_acc: 0.9938\n",
      "Epoch 18/20\n",
      "60000/60000 [==============================] - 21s 345us/step - loss: 0.0318 - acc: 0.9911 - val_loss: 0.0150 - val_acc: 0.9956\n",
      "Epoch 19/20\n",
      "60000/60000 [==============================] - 21s 346us/step - loss: 0.0313 - acc: 0.9907 - val_loss: 0.0184 - val_acc: 0.9953\n",
      "Epoch 20/20\n",
      "60000/60000 [==============================] - 21s 345us/step - loss: 0.0271 - acc: 0.9921 - val_loss: 0.0164 - val_acc: 0.9956\n"
     ]
    }
   ],
   "source": [
    "history = model.fit(train_data[0], train_data[1],\n",
    "                    epochs=epochs,\n",
    "                    batch_size=batch_size,\n",
    "                    shuffle=True,\n",
    "                    validation_data=test_data)"
   ]
  },
  {
   "cell_type": "code",
   "execution_count": 38,
   "metadata": {
    "ExecuteTime": {
     "end_time": "2019-08-21T08:25:14.700848Z",
     "start_time": "2019-08-21T08:25:14.048594Z"
    }
   },
   "outputs": [],
   "source": [
    "model.save('C:/Users/320060820/experiments/test_models/mnist_custom/mnist_keras_large.h5')"
   ]
  },
  {
   "cell_type": "code",
   "execution_count": 39,
   "metadata": {
    "ExecuteTime": {
     "end_time": "2019-08-21T08:25:31.686465Z",
     "start_time": "2019-08-21T08:25:31.629586Z"
    }
   },
   "outputs": [],
   "source": [
    "model.save_weights('C:/Users/320060820/experiments/test_models/mnist_custom/mnist_keras_large_w.h5')"
   ]
  },
  {
   "cell_type": "code",
   "execution_count": null,
   "metadata": {},
   "outputs": [],
   "source": []
  },
  {
   "cell_type": "code",
   "execution_count": 4,
   "metadata": {
    "ExecuteTime": {
     "end_time": "2019-08-21T11:21:42.140997Z",
     "start_time": "2019-08-21T11:21:40.047558Z"
    }
   },
   "outputs": [
    {
     "name": "stdout",
     "output_type": "stream",
     "text": [
      "WARNING:tensorflow:From C:\\Users\\320060820\\Anaconda3\\envs\\tf_gpu\\lib\\site-packages\\tensorflow\\python\\framework\\op_def_library.py:263: colocate_with (from tensorflow.python.framework.ops) is deprecated and will be removed in a future version.\n",
      "Instructions for updating:\n",
      "Colocations handled automatically by placer.\n",
      "WARNING:tensorflow:From C:\\Users\\320060820\\Anaconda3\\envs\\tf_gpu\\lib\\site-packages\\keras\\backend\\tensorflow_backend.py:3445: calling dropout (from tensorflow.python.ops.nn_ops) with keep_prob is deprecated and will be removed in a future version.\n",
      "Instructions for updating:\n",
      "Please use `rate` instead of `keep_prob`. Rate should be set to `rate = 1 - keep_prob`.\n"
     ]
    }
   ],
   "source": [
    "from model_gen import keras_cnn\n",
    "input_shape = (28, 28, 1)\n",
    "num_outputs = 10\n",
    "num_kernels = 32\n",
    "num_stages = 7\n",
    "model_arch = keras_cnn.KerasCNNLarge(input_shape, num_outputs, num_kernels, num_stages, pool_layer_interval = 2)\n",
    "model = model_arch.get_float_model()"
   ]
  },
  {
   "cell_type": "code",
   "execution_count": 5,
   "metadata": {
    "ExecuteTime": {
     "end_time": "2019-08-21T10:59:29.517145Z",
     "start_time": "2019-08-21T10:59:29.513167Z"
    }
   },
   "outputs": [],
   "source": [
    "epochs = 10"
   ]
  },
  {
   "cell_type": "code",
   "execution_count": 5,
   "metadata": {
    "ExecuteTime": {
     "end_time": "2019-08-21T11:21:44.383996Z",
     "start_time": "2019-08-21T11:21:44.378012Z"
    },
    "scrolled": true
   },
   "outputs": [
    {
     "name": "stdout",
     "output_type": "stream",
     "text": [
      "_________________________________________________________________\n",
      "Layer (type)                 Output Shape              Param #   \n",
      "=================================================================\n",
      "conv2d_1 (Conv2D)            (None, 26, 26, 32)        320       \n",
      "_________________________________________________________________\n",
      "batch_normalization_1 (Batch (None, 26, 26, 32)        128       \n",
      "_________________________________________________________________\n",
      "conv2d_2 (Conv2D)            (None, 26, 26, 32)        9248      \n",
      "_________________________________________________________________\n",
      "batch_normalization_2 (Batch (None, 26, 26, 32)        128       \n",
      "_________________________________________________________________\n",
      "conv2d_3 (Conv2D)            (None, 26, 26, 32)        9248      \n",
      "_________________________________________________________________\n",
      "batch_normalization_3 (Batch (None, 26, 26, 32)        128       \n",
      "_________________________________________________________________\n",
      "conv2d_4 (Conv2D)            (None, 26, 26, 32)        9248      \n",
      "_________________________________________________________________\n",
      "batch_normalization_4 (Batch (None, 26, 26, 32)        128       \n",
      "_________________________________________________________________\n",
      "max_pooling2d_1 (MaxPooling2 (None, 13, 13, 32)        0         \n",
      "_________________________________________________________________\n",
      "dropout_1 (Dropout)          (None, 13, 13, 32)        0         \n",
      "_________________________________________________________________\n",
      "conv2d_5 (Conv2D)            (None, 13, 13, 32)        9248      \n",
      "_________________________________________________________________\n",
      "batch_normalization_5 (Batch (None, 13, 13, 32)        128       \n",
      "_________________________________________________________________\n",
      "conv2d_6 (Conv2D)            (None, 13, 13, 32)        9248      \n",
      "_________________________________________________________________\n",
      "batch_normalization_6 (Batch (None, 13, 13, 32)        128       \n",
      "_________________________________________________________________\n",
      "conv2d_7 (Conv2D)            (None, 13, 13, 64)        18496     \n",
      "_________________________________________________________________\n",
      "batch_normalization_7 (Batch (None, 13, 13, 64)        256       \n",
      "_________________________________________________________________\n",
      "conv2d_8 (Conv2D)            (None, 13, 13, 64)        36928     \n",
      "_________________________________________________________________\n",
      "batch_normalization_8 (Batch (None, 13, 13, 64)        256       \n",
      "_________________________________________________________________\n",
      "max_pooling2d_2 (MaxPooling2 (None, 7, 7, 64)          0         \n",
      "_________________________________________________________________\n",
      "dropout_2 (Dropout)          (None, 7, 7, 64)          0         \n",
      "_________________________________________________________________\n",
      "conv2d_9 (Conv2D)            (None, 7, 7, 64)          36928     \n",
      "_________________________________________________________________\n",
      "batch_normalization_9 (Batch (None, 7, 7, 64)          256       \n",
      "_________________________________________________________________\n",
      "conv2d_10 (Conv2D)           (None, 7, 7, 64)          36928     \n",
      "_________________________________________________________________\n",
      "batch_normalization_10 (Batc (None, 7, 7, 64)          256       \n",
      "_________________________________________________________________\n",
      "conv2d_11 (Conv2D)           (None, 7, 7, 64)          36928     \n",
      "_________________________________________________________________\n",
      "batch_normalization_11 (Batc (None, 7, 7, 64)          256       \n",
      "_________________________________________________________________\n",
      "conv2d_12 (Conv2D)           (None, 7, 7, 64)          36928     \n",
      "_________________________________________________________________\n",
      "batch_normalization_12 (Batc (None, 7, 7, 64)          256       \n",
      "_________________________________________________________________\n",
      "max_pooling2d_3 (MaxPooling2 (None, 4, 4, 64)          0         \n",
      "_________________________________________________________________\n",
      "dropout_3 (Dropout)          (None, 4, 4, 64)          0         \n",
      "_________________________________________________________________\n",
      "conv2d_13 (Conv2D)           (None, 4, 4, 64)          36928     \n",
      "_________________________________________________________________\n",
      "batch_normalization_13 (Batc (None, 4, 4, 64)          256       \n",
      "_________________________________________________________________\n",
      "conv2d_14 (Conv2D)           (None, 4, 4, 64)          36928     \n",
      "_________________________________________________________________\n",
      "batch_normalization_14 (Batc (None, 4, 4, 64)          256       \n",
      "_________________________________________________________________\n",
      "global_max_pooling2d_1 (Glob (None, 64)                0         \n",
      "_________________________________________________________________\n",
      "dropout_4 (Dropout)          (None, 64)                0         \n",
      "_________________________________________________________________\n",
      "dense_1 (Dense)              (None, 10)                650       \n",
      "_________________________________________________________________\n",
      "activation_1 (Activation)    (None, 10)                0         \n",
      "=================================================================\n",
      "Total params: 327,018\n",
      "Trainable params: 325,610\n",
      "Non-trainable params: 1,408\n",
      "_________________________________________________________________\n"
     ]
    }
   ],
   "source": [
    "model.summary()"
   ]
  },
  {
   "cell_type": "code",
   "execution_count": 6,
   "metadata": {
    "ExecuteTime": {
     "end_time": "2019-08-21T11:35:37.504762Z",
     "start_time": "2019-08-21T11:21:57.143854Z"
    },
    "scrolled": true
   },
   "outputs": [
    {
     "name": "stdout",
     "output_type": "stream",
     "text": [
      "WARNING:tensorflow:From C:\\Users\\320060820\\Anaconda3\\envs\\tf_gpu\\lib\\site-packages\\tensorflow\\python\\ops\\math_ops.py:3066: to_int32 (from tensorflow.python.ops.math_ops) is deprecated and will be removed in a future version.\n",
      "Instructions for updating:\n",
      "Use tf.cast instead.\n",
      "WARNING:tensorflow:From C:\\Users\\320060820\\Anaconda3\\envs\\tf_gpu\\lib\\site-packages\\tensorflow\\python\\ops\\math_grad.py:102: div (from tensorflow.python.ops.math_ops) is deprecated and will be removed in a future version.\n",
      "Instructions for updating:\n",
      "Deprecated in favor of operator or tf.math.divide.\n",
      "Train on 60000 samples, validate on 10000 samples\n",
      "Epoch 1/20\n",
      "60000/60000 [==============================] - 44s 729us/step - loss: 1.4151 - acc: 0.6418 - val_loss: 0.1448 - val_acc: 0.9535\n",
      "Epoch 2/20\n",
      "60000/60000 [==============================] - 41s 675us/step - loss: 0.1406 - acc: 0.9585 - val_loss: 0.0500 - val_acc: 0.9836\n",
      "Epoch 3/20\n",
      "60000/60000 [==============================] - 41s 684us/step - loss: 0.0852 - acc: 0.9751 - val_loss: 0.0468 - val_acc: 0.9857\n",
      "Epoch 4/20\n",
      "60000/60000 [==============================] - 41s 681us/step - loss: 0.0614 - acc: 0.9819 - val_loss: 0.0398 - val_acc: 0.9868\n",
      "Epoch 5/20\n",
      "60000/60000 [==============================] - 41s 686us/step - loss: 0.0476 - acc: 0.9859 - val_loss: 0.0354 - val_acc: 0.9903\n",
      "Epoch 6/20\n",
      "60000/60000 [==============================] - 41s 687us/step - loss: 0.0408 - acc: 0.9879 - val_loss: 0.0271 - val_acc: 0.9919\n",
      "Epoch 7/20\n",
      "60000/60000 [==============================] - 41s 684us/step - loss: 0.0370 - acc: 0.9893 - val_loss: 0.0212 - val_acc: 0.9930\n",
      "Epoch 8/20\n",
      "60000/60000 [==============================] - 41s 683us/step - loss: 0.0339 - acc: 0.9906 - val_loss: 0.0267 - val_acc: 0.9924\n",
      "Epoch 9/20\n",
      "60000/60000 [==============================] - 41s 685us/step - loss: 0.0287 - acc: 0.9919 - val_loss: 0.0239 - val_acc: 0.9926\n",
      "Epoch 10/20\n",
      "60000/60000 [==============================] - 41s 682us/step - loss: 0.0256 - acc: 0.9922 - val_loss: 0.0218 - val_acc: 0.9931\n",
      "Epoch 11/20\n",
      "60000/60000 [==============================] - 40s 675us/step - loss: 0.0244 - acc: 0.9926 - val_loss: 0.0220 - val_acc: 0.9928\n",
      "Epoch 12/20\n",
      "60000/60000 [==============================] - 41s 677us/step - loss: 0.0231 - acc: 0.9933 - val_loss: 0.0221 - val_acc: 0.9938\n",
      "Epoch 13/20\n",
      "60000/60000 [==============================] - 41s 681us/step - loss: 0.0211 - acc: 0.9939 - val_loss: 0.0223 - val_acc: 0.9942\n",
      "Epoch 14/20\n",
      "60000/60000 [==============================] - 41s 680us/step - loss: 0.0194 - acc: 0.9942 - val_loss: 0.0190 - val_acc: 0.9948\n",
      "Epoch 15/20\n",
      "60000/60000 [==============================] - 41s 684us/step - loss: 0.0193 - acc: 0.9944 - val_loss: 0.0211 - val_acc: 0.9934\n",
      "Epoch 16/20\n",
      "60000/60000 [==============================] - 41s 680us/step - loss: 0.0167 - acc: 0.9950 - val_loss: 0.0245 - val_acc: 0.9937\n",
      "Epoch 17/20\n",
      "60000/60000 [==============================] - 40s 672us/step - loss: 0.0171 - acc: 0.9949 - val_loss: 0.0234 - val_acc: 0.9933\n",
      "Epoch 18/20\n",
      "60000/60000 [==============================] - 40s 672us/step - loss: 0.0148 - acc: 0.9954 - val_loss: 0.0222 - val_acc: 0.9933\n",
      "Epoch 19/20\n",
      "60000/60000 [==============================] - 41s 681us/step - loss: 0.0155 - acc: 0.9954 - val_loss: 0.0222 - val_acc: 0.9945\n",
      "Epoch 20/20\n",
      "60000/60000 [==============================] - 40s 672us/step - loss: 0.0139 - acc: 0.9957 - val_loss: 0.0213 - val_acc: 0.9950\n"
     ]
    }
   ],
   "source": [
    "history = model.fit(train_data[0], train_data[1],\n",
    "                    epochs=epochs,\n",
    "                    batch_size=batch_size,\n",
    "                    shuffle=True,\n",
    "                    validation_data=test_data)"
   ]
  },
  {
   "cell_type": "code",
   "execution_count": 9,
   "metadata": {
    "ExecuteTime": {
     "end_time": "2019-08-21T11:36:20.124122Z",
     "start_time": "2019-08-21T11:36:20.030362Z"
    }
   },
   "outputs": [],
   "source": [
    "model.save('C:/Users/320060820/experiments/test_models/mnist_custom/mnist_keras_large.h5')"
   ]
  },
  {
   "cell_type": "code",
   "execution_count": 10,
   "metadata": {
    "ExecuteTime": {
     "end_time": "2019-08-21T11:36:20.247773Z",
     "start_time": "2019-08-21T11:36:20.187942Z"
    }
   },
   "outputs": [],
   "source": [
    "model.save_weights('C:/Users/320060820/experiments/test_models/mnist_custom/mnist_keras_large_w.h5')"
   ]
  },
  {
   "cell_type": "code",
   "execution_count": null,
   "metadata": {},
   "outputs": [],
   "source": []
  },
  {
   "cell_type": "code",
   "execution_count": 2,
   "metadata": {
    "ExecuteTime": {
     "end_time": "2019-08-27T17:22:46.793341Z",
     "start_time": "2019-08-27T17:22:40.625863Z"
    }
   },
   "outputs": [],
   "source": [
    "epochs = 30\n",
    "batch_size = 32\n",
    "from test_models.cifar_keras import data\n",
    "train_data, test_data = data.get_data()"
   ]
  },
  {
   "cell_type": "code",
   "execution_count": 3,
   "metadata": {
    "ExecuteTime": {
     "end_time": "2019-08-27T17:22:49.140097Z",
     "start_time": "2019-08-27T17:22:46.881107Z"
    }
   },
   "outputs": [
    {
     "name": "stdout",
     "output_type": "stream",
     "text": [
      "WARNING:tensorflow:From C:\\Users\\320060820\\Anaconda3\\envs\\tf_gpu\\lib\\site-packages\\tensorflow\\python\\framework\\op_def_library.py:263: colocate_with (from tensorflow.python.framework.ops) is deprecated and will be removed in a future version.\n",
      "Instructions for updating:\n",
      "Colocations handled automatically by placer.\n",
      "WARNING:tensorflow:From C:\\Users\\320060820\\Anaconda3\\envs\\tf_gpu\\lib\\site-packages\\keras\\backend\\tensorflow_backend.py:3445: calling dropout (from tensorflow.python.ops.nn_ops) with keep_prob is deprecated and will be removed in a future version.\n",
      "Instructions for updating:\n",
      "Please use `rate` instead of `keep_prob`. Rate should be set to `rate = 1 - keep_prob`.\n"
     ]
    }
   ],
   "source": [
    "from model_gen import keras_cnn\n",
    "input_shape = (32, 32, 3)\n",
    "num_outputs = 10\n",
    "num_kernels = 32\n",
    "num_stages = 7\n",
    "model_arch = keras_cnn.KerasCNNLarge(input_shape, num_outputs, num_kernels, num_stages, pool_layer_interval = 2)\n",
    "model = model_arch.get_float_model()"
   ]
  },
  {
   "cell_type": "code",
   "execution_count": 4,
   "metadata": {
    "ExecuteTime": {
     "end_time": "2019-08-27T17:47:57.709708Z",
     "start_time": "2019-08-27T17:22:49.280690Z"
    },
    "scrolled": true
   },
   "outputs": [
    {
     "name": "stdout",
     "output_type": "stream",
     "text": [
      "WARNING:tensorflow:From C:\\Users\\320060820\\Anaconda3\\envs\\tf_gpu\\lib\\site-packages\\tensorflow\\python\\ops\\math_ops.py:3066: to_int32 (from tensorflow.python.ops.math_ops) is deprecated and will be removed in a future version.\n",
      "Instructions for updating:\n",
      "Use tf.cast instead.\n",
      "WARNING:tensorflow:From C:\\Users\\320060820\\Anaconda3\\envs\\tf_gpu\\lib\\site-packages\\tensorflow\\python\\ops\\math_grad.py:102: div (from tensorflow.python.ops.math_ops) is deprecated and will be removed in a future version.\n",
      "Instructions for updating:\n",
      "Deprecated in favor of operator or tf.math.divide.\n",
      "Train on 50000 samples, validate on 10000 samples\n",
      "Epoch 1/30\n",
      "50000/50000 [==============================] - 53s 1ms/step - loss: 2.5002 - acc: 0.2473 - val_loss: 1.7346 - val_acc: 0.3823\n",
      "Epoch 2/30\n",
      "50000/50000 [==============================] - 50s 998us/step - loss: 1.7470 - acc: 0.4050 - val_loss: 1.5021 - val_acc: 0.4902\n",
      "Epoch 3/30\n",
      "50000/50000 [==============================] - 50s 999us/step - loss: 1.4984 - acc: 0.4929 - val_loss: 1.2915 - val_acc: 0.5345\n",
      "Epoch 4/30\n",
      "50000/50000 [==============================] - 50s 1ms/step - loss: 1.3266 - acc: 0.5528 - val_loss: 1.1342 - val_acc: 0.6015\n",
      "Epoch 5/30\n",
      "50000/50000 [==============================] - 50s 1ms/step - loss: 1.1854 - acc: 0.5933 - val_loss: 0.9713 - val_acc: 0.6580\n",
      "Epoch 6/30\n",
      "50000/50000 [==============================] - 50s 1ms/step - loss: 1.0764 - acc: 0.6293 - val_loss: 0.9823 - val_acc: 0.6559\n",
      "Epoch 7/30\n",
      "50000/50000 [==============================] - 50s 1ms/step - loss: 0.9927 - acc: 0.6599 - val_loss: 0.8451 - val_acc: 0.6967\n",
      "Epoch 8/30\n",
      "50000/50000 [==============================] - 50s 1ms/step - loss: 0.9137 - acc: 0.6867 - val_loss: 0.8898 - val_acc: 0.6963\n",
      "Epoch 9/30\n",
      "50000/50000 [==============================] - 50s 1ms/step - loss: 0.8585 - acc: 0.7058 - val_loss: 0.8056 - val_acc: 0.7203\n",
      "Epoch 10/30\n",
      "50000/50000 [==============================] - 50s 1ms/step - loss: 0.8174 - acc: 0.7212 - val_loss: 0.7842 - val_acc: 0.7328\n",
      "Epoch 11/30\n",
      "50000/50000 [==============================] - 50s 1ms/step - loss: 0.7711 - acc: 0.7366 - val_loss: 0.6956 - val_acc: 0.7617\n",
      "Epoch 12/30\n",
      "50000/50000 [==============================] - 50s 1ms/step - loss: 0.7354 - acc: 0.7476 - val_loss: 0.6933 - val_acc: 0.7667\n",
      "Epoch 13/30\n",
      "50000/50000 [==============================] - 50s 1ms/step - loss: 0.6940 - acc: 0.7635 - val_loss: 0.6630 - val_acc: 0.7717\n",
      "Epoch 14/30\n",
      "50000/50000 [==============================] - 50s 1ms/step - loss: 0.6695 - acc: 0.7724 - val_loss: 0.6586 - val_acc: 0.7779\n",
      "Epoch 15/30\n",
      "50000/50000 [==============================] - 50s 1ms/step - loss: 0.6436 - acc: 0.7803 - val_loss: 0.6311 - val_acc: 0.7869: 0\n",
      "Epoch 16/30\n",
      "50000/50000 [==============================] - 50s 1ms/step - loss: 0.6162 - acc: 0.7900 - val_loss: 0.6413 - val_acc: 0.7825\n",
      "Epoch 17/30\n",
      "50000/50000 [==============================] - 50s 1ms/step - loss: 0.5949 - acc: 0.7976 - val_loss: 0.6473 - val_acc: 0.7823\n",
      "Epoch 18/30\n",
      "50000/50000 [==============================] - 50s 1ms/step - loss: 0.5747 - acc: 0.8044 - val_loss: 0.5959 - val_acc: 0.7968\n",
      "Epoch 19/30\n",
      "50000/50000 [==============================] - 50s 1ms/step - loss: 0.5551 - acc: 0.8102 - val_loss: 0.5976 - val_acc: 0.7988\n",
      "Epoch 20/30\n",
      "50000/50000 [==============================] - 50s 1ms/step - loss: 0.5410 - acc: 0.8174 - val_loss: 0.5640 - val_acc: 0.8122\n",
      "Epoch 21/30\n",
      "50000/50000 [==============================] - 51s 1ms/step - loss: 0.5186 - acc: 0.8241 - val_loss: 0.5746 - val_acc: 0.8126\n",
      "Epoch 22/30\n",
      "50000/50000 [==============================] - 50s 1ms/step - loss: 0.5053 - acc: 0.8278 - val_loss: 0.5873 - val_acc: 0.8048\n",
      "Epoch 23/30\n",
      "50000/50000 [==============================] - 50s 1ms/step - loss: 0.4894 - acc: 0.8352 - val_loss: 0.5787 - val_acc: 0.8081\n",
      "Epoch 24/30\n",
      "50000/50000 [==============================] - 50s 1ms/step - loss: 0.4746 - acc: 0.8388 - val_loss: 0.5435 - val_acc: 0.8213\n",
      "Epoch 25/30\n",
      "50000/50000 [==============================] - 50s 1ms/step - loss: 0.4618 - acc: 0.8426 - val_loss: 0.5674 - val_acc: 0.8145\n",
      "Epoch 26/30\n",
      "50000/50000 [==============================] - 50s 1ms/step - loss: 0.4497 - acc: 0.8476 - val_loss: 0.5632 - val_acc: 0.8197\n",
      "Epoch 27/30\n",
      "50000/50000 [==============================] - 50s 1ms/step - loss: 0.4407 - acc: 0.8493 - val_loss: 0.5611 - val_acc: 0.8179\n",
      "Epoch 28/30\n",
      "50000/50000 [==============================] - 50s 1ms/step - loss: 0.4263 - acc: 0.8545 - val_loss: 0.5537 - val_acc: 0.8217\n",
      "Epoch 29/30\n",
      "50000/50000 [==============================] - 50s 1ms/step - loss: 0.4167 - acc: 0.8578 - val_loss: 0.5193 - val_acc: 0.8324\n",
      "Epoch 30/30\n",
      "50000/50000 [==============================] - 50s 1ms/step - loss: 0.4043 - acc: 0.8624 - val_loss: 0.5561 - val_acc: 0.8243\n"
     ]
    }
   ],
   "source": [
    "history = model.fit(train_data[0], train_data[1],\n",
    "                    epochs=epochs,\n",
    "                    batch_size=batch_size,\n",
    "                    shuffle=True,\n",
    "                    validation_data=test_data)"
   ]
  },
  {
   "cell_type": "code",
   "execution_count": 5,
   "metadata": {
    "ExecuteTime": {
     "end_time": "2019-08-27T17:49:25.556464Z",
     "start_time": "2019-08-27T17:49:24.090386Z"
    }
   },
   "outputs": [],
   "source": [
    "model.save('C:/Users/320060820/experiments/test_models/cifar_keras/cifar_seq_large.h5')"
   ]
  },
  {
   "cell_type": "code",
   "execution_count": 6,
   "metadata": {
    "ExecuteTime": {
     "end_time": "2019-08-27T17:49:25.711051Z",
     "start_time": "2019-08-27T17:49:25.651211Z"
    }
   },
   "outputs": [],
   "source": [
    "model.save_weights('C:/Users/320060820/experiments/test_models/cifar_keras/cifar_seq_large_w.h5')"
   ]
  },
  {
   "cell_type": "code",
   "execution_count": null,
   "metadata": {},
   "outputs": [],
   "source": []
  },
  {
   "cell_type": "code",
   "execution_count": 2,
   "metadata": {
    "ExecuteTime": {
     "end_time": "2019-08-28T06:56:47.606070Z",
     "start_time": "2019-08-28T06:56:44.245063Z"
    }
   },
   "outputs": [],
   "source": [
    "epochs = 20\n",
    "batch_size = 32\n",
    "from test_models.svhn_keras import data\n",
    "train_data, test_data = data.get_data()"
   ]
  },
  {
   "cell_type": "code",
   "execution_count": 3,
   "metadata": {
    "ExecuteTime": {
     "end_time": "2019-08-25T10:09:10.060726Z",
     "start_time": "2019-08-25T10:09:07.825703Z"
    }
   },
   "outputs": [
    {
     "name": "stdout",
     "output_type": "stream",
     "text": [
      "WARNING:tensorflow:From C:\\Users\\320060820\\Anaconda3\\envs\\tf_gpu\\lib\\site-packages\\tensorflow\\python\\framework\\op_def_library.py:263: colocate_with (from tensorflow.python.framework.ops) is deprecated and will be removed in a future version.\n",
      "Instructions for updating:\n",
      "Colocations handled automatically by placer.\n",
      "WARNING:tensorflow:From C:\\Users\\320060820\\Anaconda3\\envs\\tf_gpu\\lib\\site-packages\\keras\\backend\\tensorflow_backend.py:3445: calling dropout (from tensorflow.python.ops.nn_ops) with keep_prob is deprecated and will be removed in a future version.\n",
      "Instructions for updating:\n",
      "Please use `rate` instead of `keep_prob`. Rate should be set to `rate = 1 - keep_prob`.\n"
     ]
    }
   ],
   "source": [
    "from model_gen import keras_cnn\n",
    "input_shape = (32, 32, 3)\n",
    "num_outputs = 10\n",
    "num_kernels = 32\n",
    "num_stages = 7\n",
    "model_arch = keras_cnn.KerasCNNLarge(input_shape, num_outputs, num_kernels, num_stages, pool_layer_interval = 2)\n",
    "model = model_arch.get_float_model()"
   ]
  },
  {
   "cell_type": "code",
   "execution_count": 4,
   "metadata": {
    "ExecuteTime": {
     "end_time": "2019-08-25T10:34:50.089371Z",
     "start_time": "2019-08-25T10:09:10.132536Z"
    }
   },
   "outputs": [
    {
     "name": "stdout",
     "output_type": "stream",
     "text": [
      "WARNING:tensorflow:From C:\\Users\\320060820\\Anaconda3\\envs\\tf_gpu\\lib\\site-packages\\tensorflow\\python\\ops\\math_ops.py:3066: to_int32 (from tensorflow.python.ops.math_ops) is deprecated and will be removed in a future version.\n",
      "Instructions for updating:\n",
      "Use tf.cast instead.\n",
      "WARNING:tensorflow:From C:\\Users\\320060820\\Anaconda3\\envs\\tf_gpu\\lib\\site-packages\\tensorflow\\python\\ops\\math_grad.py:102: div (from tensorflow.python.ops.math_ops) is deprecated and will be removed in a future version.\n",
      "Instructions for updating:\n",
      "Deprecated in favor of operator or tf.math.divide.\n",
      "Train on 73257 samples, validate on 26032 samples\n",
      "Epoch 1/20\n",
      "73257/73257 [==============================] - 80s 1ms/step - loss: 2.4615 - acc: 0.2685 - val_loss: 1.2328 - val_acc: 0.6031\n",
      "Epoch 2/20\n",
      "73257/73257 [==============================] - 78s 1ms/step - loss: 0.9461 - acc: 0.7064 - val_loss: 0.4684 - val_acc: 0.8563\n",
      "Epoch 3/20\n",
      "73257/73257 [==============================] - 77s 1ms/step - loss: 0.4999 - acc: 0.8489 - val_loss: 0.3471 - val_acc: 0.8952\n",
      "Epoch 4/20\n",
      "73257/73257 [==============================] - 77s 1ms/step - loss: 0.3875 - acc: 0.8852 - val_loss: 0.2749 - val_acc: 0.9205\n",
      "Epoch 5/20\n",
      "73257/73257 [==============================] - 77s 1ms/step - loss: 0.3292 - acc: 0.9032 - val_loss: 0.2618 - val_acc: 0.9257\n",
      "Epoch 6/20\n",
      "73257/73257 [==============================] - 77s 1ms/step - loss: 0.2953 - acc: 0.9137 - val_loss: 0.2505 - val_acc: 0.9298\n",
      "Epoch 7/20\n",
      "73257/73257 [==============================] - 77s 1ms/step - loss: 0.2652 - acc: 0.9233 - val_loss: 0.2428 - val_acc: 0.9314\n",
      "Epoch 8/20\n",
      "73257/73257 [==============================] - 77s 1ms/step - loss: 0.2504 - acc: 0.9274 - val_loss: 0.1983 - val_acc: 0.9454\n",
      "Epoch 9/20\n",
      "73257/73257 [==============================] - 77s 1ms/step - loss: 0.2340 - acc: 0.9334 - val_loss: 0.2051 - val_acc: 0.9438\n",
      "Epoch 10/20\n",
      "73257/73257 [==============================] - 77s 1ms/step - loss: 0.2199 - acc: 0.9379 - val_loss: 0.1965 - val_acc: 0.9467\n",
      "Epoch 11/20\n",
      "73257/73257 [==============================] - 77s 1ms/step - loss: 0.2109 - acc: 0.9406 - val_loss: 0.1921 - val_acc: 0.9496\n",
      "Epoch 12/20\n",
      "73257/73257 [==============================] - 76s 1ms/step - loss: 0.2006 - acc: 0.9438 - val_loss: 0.1783 - val_acc: 0.9533\n",
      "Epoch 13/20\n",
      "73257/73257 [==============================] - 76s 1ms/step - loss: 0.1942 - acc: 0.9458 - val_loss: 0.2061 - val_acc: 0.9459\n",
      "Epoch 14/20\n",
      "73257/73257 [==============================] - 77s 1ms/step - loss: 0.1865 - acc: 0.9480 - val_loss: 0.2017 - val_acc: 0.9477\n",
      "Epoch 15/20\n",
      "73257/73257 [==============================] - 77s 1ms/step - loss: 0.1760 - acc: 0.9506 - val_loss: 0.1789 - val_acc: 0.9551\n",
      "Epoch 16/20\n",
      "73257/73257 [==============================] - 76s 1ms/step - loss: 0.1687 - acc: 0.9532 - val_loss: 0.1979 - val_acc: 0.9501\n",
      "Epoch 17/20\n",
      "73257/73257 [==============================] - 76s 1ms/step - loss: 0.1648 - acc: 0.9541 - val_loss: 0.1851 - val_acc: 0.9535\n",
      "Epoch 18/20\n",
      "73257/73257 [==============================] - 76s 1ms/step - loss: 0.1574 - acc: 0.9568 - val_loss: 0.1793 - val_acc: 0.9552\n",
      "Epoch 19/20\n",
      "73257/73257 [==============================] - 76s 1ms/step - loss: 0.1563 - acc: 0.9568 - val_loss: 0.1861 - val_acc: 0.9534\n",
      "Epoch 20/20\n",
      "73257/73257 [==============================] - 76s 1ms/step - loss: 0.1504 - acc: 0.9584 - val_loss: 0.1771 - val_acc: 0.9545\n"
     ]
    }
   ],
   "source": [
    "history = model.fit(train_data[0], train_data[1],\n",
    "                    epochs=epochs,\n",
    "                    batch_size=batch_size,\n",
    "                    shuffle=True,\n",
    "                    validation_data=test_data)"
   ]
  },
  {
   "cell_type": "code",
   "execution_count": 5,
   "metadata": {
    "ExecuteTime": {
     "end_time": "2019-08-25T10:36:30.806070Z",
     "start_time": "2019-08-25T10:36:29.332001Z"
    }
   },
   "outputs": [],
   "source": [
    "model.save('C:/Users/320060820/experiments/test_models/svhn_keras/svhn_seq_large_2.h5')"
   ]
  },
  {
   "cell_type": "code",
   "execution_count": 6,
   "metadata": {
    "ExecuteTime": {
     "end_time": "2019-08-25T10:36:30.950648Z",
     "start_time": "2019-08-25T10:36:30.877844Z"
    }
   },
   "outputs": [],
   "source": [
    "model.save_weights('C:/Users/320060820/experiments/test_models/svhn_keras/svhn_seq_large_w_2.h5')"
   ]
  },
  {
   "cell_type": "code",
   "execution_count": null,
   "metadata": {},
   "outputs": [],
   "source": []
  },
  {
   "cell_type": "code",
   "execution_count": 3,
   "metadata": {
    "ExecuteTime": {
     "end_time": "2019-08-28T06:56:52.466070Z",
     "start_time": "2019-08-28T06:56:51.866675Z"
    }
   },
   "outputs": [],
   "source": [
    "from test_models.fashion_keras import data\n",
    "train_data, test_data = data.get_data()"
   ]
  },
  {
   "cell_type": "code",
   "execution_count": 14,
   "metadata": {
    "ExecuteTime": {
     "end_time": "2019-08-28T07:09:23.612742Z",
     "start_time": "2019-08-28T07:09:23.609750Z"
    }
   },
   "outputs": [],
   "source": [
    "epochs = 20\n",
    "batch_size = 64"
   ]
  },
  {
   "cell_type": "code",
   "execution_count": 15,
   "metadata": {
    "ExecuteTime": {
     "end_time": "2019-08-28T07:09:25.241419Z",
     "start_time": "2019-08-28T07:09:23.839136Z"
    }
   },
   "outputs": [],
   "source": [
    "from model_gen import keras_cnn\n",
    "input_shape = (28, 28, 1)\n",
    "num_outputs = 10\n",
    "num_kernels = 32\n",
    "num_stages = 7\n",
    "model_arch = keras_cnn.KerasCNNLarge(input_shape, num_outputs, num_kernels, num_stages, pool_layer_interval = 2)\n",
    "model = model_arch.get_float_model()"
   ]
  },
  {
   "cell_type": "code",
   "execution_count": 16,
   "metadata": {
    "ExecuteTime": {
     "end_time": "2019-08-28T07:09:25.320178Z",
     "start_time": "2019-08-28T07:09:25.310207Z"
    },
    "scrolled": true
   },
   "outputs": [
    {
     "name": "stdout",
     "output_type": "stream",
     "text": [
      "_________________________________________________________________\n",
      "Layer (type)                 Output Shape              Param #   \n",
      "=================================================================\n",
      "conv2d_1 (Conv2D)            (None, 26, 26, 32)        320       \n",
      "_________________________________________________________________\n",
      "batch_normalization_1 (Batch (None, 26, 26, 32)        128       \n",
      "_________________________________________________________________\n",
      "conv2d_2 (Conv2D)            (None, 26, 26, 32)        9248      \n",
      "_________________________________________________________________\n",
      "batch_normalization_2 (Batch (None, 26, 26, 32)        128       \n",
      "_________________________________________________________________\n",
      "conv2d_3 (Conv2D)            (None, 26, 26, 32)        9248      \n",
      "_________________________________________________________________\n",
      "batch_normalization_3 (Batch (None, 26, 26, 32)        128       \n",
      "_________________________________________________________________\n",
      "conv2d_4 (Conv2D)            (None, 26, 26, 32)        9248      \n",
      "_________________________________________________________________\n",
      "batch_normalization_4 (Batch (None, 26, 26, 32)        128       \n",
      "_________________________________________________________________\n",
      "max_pooling2d_1 (MaxPooling2 (None, 13, 13, 32)        0         \n",
      "_________________________________________________________________\n",
      "dropout_1 (Dropout)          (None, 13, 13, 32)        0         \n",
      "_________________________________________________________________\n",
      "conv2d_5 (Conv2D)            (None, 13, 13, 32)        9248      \n",
      "_________________________________________________________________\n",
      "batch_normalization_5 (Batch (None, 13, 13, 32)        128       \n",
      "_________________________________________________________________\n",
      "conv2d_6 (Conv2D)            (None, 13, 13, 32)        9248      \n",
      "_________________________________________________________________\n",
      "batch_normalization_6 (Batch (None, 13, 13, 32)        128       \n",
      "_________________________________________________________________\n",
      "conv2d_7 (Conv2D)            (None, 13, 13, 64)        18496     \n",
      "_________________________________________________________________\n",
      "batch_normalization_7 (Batch (None, 13, 13, 64)        256       \n",
      "_________________________________________________________________\n",
      "conv2d_8 (Conv2D)            (None, 13, 13, 64)        36928     \n",
      "_________________________________________________________________\n",
      "batch_normalization_8 (Batch (None, 13, 13, 64)        256       \n",
      "_________________________________________________________________\n",
      "max_pooling2d_2 (MaxPooling2 (None, 7, 7, 64)          0         \n",
      "_________________________________________________________________\n",
      "dropout_2 (Dropout)          (None, 7, 7, 64)          0         \n",
      "_________________________________________________________________\n",
      "conv2d_9 (Conv2D)            (None, 7, 7, 64)          36928     \n",
      "_________________________________________________________________\n",
      "batch_normalization_9 (Batch (None, 7, 7, 64)          256       \n",
      "_________________________________________________________________\n",
      "conv2d_10 (Conv2D)           (None, 7, 7, 64)          36928     \n",
      "_________________________________________________________________\n",
      "batch_normalization_10 (Batc (None, 7, 7, 64)          256       \n",
      "_________________________________________________________________\n",
      "conv2d_11 (Conv2D)           (None, 7, 7, 64)          36928     \n",
      "_________________________________________________________________\n",
      "batch_normalization_11 (Batc (None, 7, 7, 64)          256       \n",
      "_________________________________________________________________\n",
      "conv2d_12 (Conv2D)           (None, 7, 7, 64)          36928     \n",
      "_________________________________________________________________\n",
      "batch_normalization_12 (Batc (None, 7, 7, 64)          256       \n",
      "_________________________________________________________________\n",
      "max_pooling2d_3 (MaxPooling2 (None, 4, 4, 64)          0         \n",
      "_________________________________________________________________\n",
      "dropout_3 (Dropout)          (None, 4, 4, 64)          0         \n",
      "_________________________________________________________________\n",
      "conv2d_13 (Conv2D)           (None, 4, 4, 64)          36928     \n",
      "_________________________________________________________________\n",
      "batch_normalization_13 (Batc (None, 4, 4, 64)          256       \n",
      "_________________________________________________________________\n",
      "conv2d_14 (Conv2D)           (None, 4, 4, 64)          36928     \n",
      "_________________________________________________________________\n",
      "batch_normalization_14 (Batc (None, 4, 4, 64)          256       \n",
      "_________________________________________________________________\n",
      "global_max_pooling2d_1 (Glob (None, 64)                0         \n",
      "_________________________________________________________________\n",
      "dropout_4 (Dropout)          (None, 64)                0         \n",
      "_________________________________________________________________\n",
      "dense_1 (Dense)              (None, 10)                650       \n",
      "_________________________________________________________________\n",
      "activation_1 (Activation)    (None, 10)                0         \n",
      "=================================================================\n",
      "Total params: 327,018\n",
      "Trainable params: 325,610\n",
      "Non-trainable params: 1,408\n",
      "_________________________________________________________________\n"
     ]
    }
   ],
   "source": [
    "model.summary()"
   ]
  },
  {
   "cell_type": "code",
   "execution_count": 17,
   "metadata": {
    "ExecuteTime": {
     "end_time": "2019-08-28T07:22:57.579777Z",
     "start_time": "2019-08-28T07:09:25.390990Z"
    },
    "scrolled": true
   },
   "outputs": [
    {
     "name": "stdout",
     "output_type": "stream",
     "text": [
      "Train on 60000 samples, validate on 10000 samples\n",
      "Epoch 1/20\n",
      "60000/60000 [==============================] - 42s 705us/step - loss: 1.4549 - acc: 0.5650 - val_loss: 0.5919 - val_acc: 0.7962\n",
      "Epoch 2/20\n",
      "60000/60000 [==============================] - 40s 671us/step - loss: 0.5617 - acc: 0.7938 - val_loss: 0.5447 - val_acc: 0.7998\n",
      "Epoch 3/20\n",
      "60000/60000 [==============================] - 40s 673us/step - loss: 0.4315 - acc: 0.8435 - val_loss: 0.3685 - val_acc: 0.8641\n",
      "Epoch 4/20\n",
      "60000/60000 [==============================] - 41s 677us/step - loss: 0.3660 - acc: 0.8683 - val_loss: 0.3171 - val_acc: 0.8865\n",
      "Epoch 5/20\n",
      "60000/60000 [==============================] - 40s 674us/step - loss: 0.3274 - acc: 0.8825 - val_loss: 0.3146 - val_acc: 0.8890\n",
      "Epoch 6/20\n",
      "60000/60000 [==============================] - 40s 675us/step - loss: 0.3045 - acc: 0.8919 - val_loss: 0.2798 - val_acc: 0.8999\n",
      "Epoch 7/20\n",
      "60000/60000 [==============================] - 40s 674us/step - loss: 0.2829 - acc: 0.8991 - val_loss: 0.2745 - val_acc: 0.9015\n",
      "Epoch 8/20\n",
      "60000/60000 [==============================] - 41s 680us/step - loss: 0.2654 - acc: 0.9046 - val_loss: 0.2553 - val_acc: 0.9097\n",
      "Epoch 9/20\n",
      "60000/60000 [==============================] - 41s 685us/step - loss: 0.2510 - acc: 0.9112 - val_loss: 0.2671 - val_acc: 0.9070\n",
      "Epoch 10/20\n",
      "60000/60000 [==============================] - 41s 684us/step - loss: 0.2427 - acc: 0.9140 - val_loss: 0.2521 - val_acc: 0.9118\n",
      "Epoch 11/20\n",
      "60000/60000 [==============================] - 40s 670us/step - loss: 0.2302 - acc: 0.9176 - val_loss: 0.2432 - val_acc: 0.9129\n",
      "Epoch 12/20\n",
      "60000/60000 [==============================] - 40s 674us/step - loss: 0.2223 - acc: 0.9204 - val_loss: 0.2481 - val_acc: 0.9151\n",
      "Epoch 13/20\n",
      "60000/60000 [==============================] - 40s 672us/step - loss: 0.2164 - acc: 0.9221 - val_loss: 0.2326 - val_acc: 0.9180\n",
      "Epoch 14/20\n",
      "60000/60000 [==============================] - 40s 670us/step - loss: 0.2071 - acc: 0.9256 - val_loss: 0.2934 - val_acc: 0.9040\n",
      "Epoch 15/20\n",
      "60000/60000 [==============================] - 40s 670us/step - loss: 0.2011 - acc: 0.9271 - val_loss: 0.2362 - val_acc: 0.9163\n",
      "Epoch 16/20\n",
      "60000/60000 [==============================] - 40s 673us/step - loss: 0.1943 - acc: 0.9293 - val_loss: 0.2285 - val_acc: 0.9243\n",
      "Epoch 17/20\n",
      "60000/60000 [==============================] - 40s 674us/step - loss: 0.1893 - acc: 0.9322 - val_loss: 0.2217 - val_acc: 0.9249\n",
      "Epoch 18/20\n",
      "60000/60000 [==============================] - 40s 669us/step - loss: 0.1864 - acc: 0.9317 - val_loss: 0.2561 - val_acc: 0.9105\n",
      "Epoch 19/20\n",
      "60000/60000 [==============================] - 40s 674us/step - loss: 0.1821 - acc: 0.9343 - val_loss: 0.2177 - val_acc: 0.9263\n",
      "Epoch 20/20\n",
      "60000/60000 [==============================] - 40s 668us/step - loss: 0.1741 - acc: 0.9364 - val_loss: 0.2253 - val_acc: 0.9247\n"
     ]
    }
   ],
   "source": [
    "history = model.fit(train_data[0], train_data[1],\n",
    "                    epochs=epochs,\n",
    "                    batch_size=batch_size,\n",
    "                    shuffle=True,\n",
    "                    validation_data=test_data)"
   ]
  },
  {
   "cell_type": "code",
   "execution_count": 18,
   "metadata": {
    "ExecuteTime": {
     "end_time": "2019-08-28T07:23:24.267460Z",
     "start_time": "2019-08-28T07:23:22.790371Z"
    }
   },
   "outputs": [],
   "source": [
    "model.save('C:/Users/320060820/experiments/test_models/fashion_keras/fashion_seq_large.h5')"
   ]
  },
  {
   "cell_type": "code",
   "execution_count": 19,
   "metadata": {
    "ExecuteTime": {
     "end_time": "2019-08-28T07:23:24.401067Z",
     "start_time": "2019-08-28T07:23:24.341226Z"
    }
   },
   "outputs": [],
   "source": [
    "model.save_weights('C:/Users/320060820/experiments/test_models/fashion_keras/fashion_seq_large_w.h5')"
   ]
  },
  {
   "cell_type": "code",
   "execution_count": null,
   "metadata": {},
   "outputs": [],
   "source": []
  }
 ],
 "metadata": {
  "kernelspec": {
   "display_name": "Python 3",
   "language": "python",
   "name": "python3"
  },
  "language_info": {
   "codemirror_mode": {
    "name": "ipython",
    "version": 3
   },
   "file_extension": ".py",
   "mimetype": "text/x-python",
   "name": "python",
   "nbconvert_exporter": "python",
   "pygments_lexer": "ipython3",
   "version": "3.7.3"
  },
  "varInspector": {
   "cols": {
    "lenName": 16,
    "lenType": 16,
    "lenVar": 40
   },
   "kernels_config": {
    "python": {
     "delete_cmd_postfix": "",
     "delete_cmd_prefix": "del ",
     "library": "var_list.py",
     "varRefreshCmd": "print(var_dic_list())"
    },
    "r": {
     "delete_cmd_postfix": ") ",
     "delete_cmd_prefix": "rm(",
     "library": "var_list.r",
     "varRefreshCmd": "cat(var_dic_list()) "
    }
   },
   "types_to_exclude": [
    "module",
    "function",
    "builtin_function_or_method",
    "instance",
    "_Feature"
   ],
   "window_display": false
  }
 },
 "nbformat": 4,
 "nbformat_minor": 2
}
