{
 "cells": [
  {
   "cell_type": "code",
   "execution_count": 1,
   "metadata": {
    "ExecuteTime": {
     "end_time": "2019-08-22T07:30:54.200723Z",
     "start_time": "2019-08-22T07:30:51.210006Z"
    }
   },
   "outputs": [
    {
     "name": "stderr",
     "output_type": "stream",
     "text": [
      "Using TensorFlow backend.\n"
     ]
    }
   ],
   "source": [
    "from keras.models import Model, load_model, model_from_json\n",
    "import keras\n",
    "import sys\n",
    "sys.path.append('C:/Users/320060820/experiments/')\n",
    "from model_gen import inception_cnn\n",
    "import copy\n",
    "\n",
    "import tensorflow as tf\n",
    "import numpy as np\n",
    "%matplotlib inline\n",
    "import matplotlib.pyplot as plt\n",
    "\n",
    "# to restart layer numbering\n",
    "from keras import backend as K\n",
    "K.clear_session()"
   ]
  },
  {
   "cell_type": "code",
   "execution_count": 2,
   "metadata": {
    "ExecuteTime": {
     "end_time": "2019-08-22T07:31:54.377178Z",
     "start_time": "2019-08-22T07:30:54.210799Z"
    }
   },
   "outputs": [],
   "source": [
    "from test_models.mnist_df import data\n",
    "train_data, test_data = data.get_data(train=True)"
   ]
  },
  {
   "cell_type": "code",
   "execution_count": 6,
   "metadata": {
    "ExecuteTime": {
     "end_time": "2019-08-22T08:04:42.350389Z",
     "start_time": "2019-08-22T08:04:40.495375Z"
    }
   },
   "outputs": [],
   "source": [
    "input_shape = (96, 96, 1)\n",
    "num_outputs = 10 # number of classes\n",
    "epochs = 20\n",
    "batch_size = 64\n",
    "name = 'mnist_df'\n",
    "\n",
    "model_arch = inception_cnn.InceptionCNN(input_shape, num_outputs, dropout=True, \n",
    "                                        pool_layer_type='max')\n",
    "model = model_arch.get_float_model()"
   ]
  },
  {
   "cell_type": "code",
   "execution_count": 7,
   "metadata": {
    "ExecuteTime": {
     "end_time": "2019-08-22T08:28:27.380836Z",
     "start_time": "2019-08-22T08:04:42.373295Z"
    }
   },
   "outputs": [
    {
     "name": "stdout",
     "output_type": "stream",
     "text": [
      "Train on 60000 samples, validate on 10000 samples\n",
      "Epoch 1/15\n",
      "60000/60000 [==============================] - 99s 2ms/step - loss: 0.6008 - acc: 0.8613 - val_loss: 0.0930 - val_acc: 0.9703\n",
      "Epoch 2/15\n",
      "60000/60000 [==============================] - 95s 2ms/step - loss: 0.1059 - acc: 0.9679 - val_loss: 0.1447 - val_acc: 0.9540\n",
      "Epoch 3/15\n",
      "60000/60000 [==============================] - 95s 2ms/step - loss: 0.0846 - acc: 0.9743 - val_loss: 0.5801 - val_acc: 0.8298\n",
      "Epoch 4/15\n",
      "60000/60000 [==============================] - 95s 2ms/step - loss: 0.0759 - acc: 0.9772 - val_loss: 0.0671 - val_acc: 0.9792\n",
      "Epoch 5/15\n",
      "60000/60000 [==============================] - 95s 2ms/step - loss: 0.0762 - acc: 0.9774 - val_loss: 0.0581 - val_acc: 0.9836\n",
      "Epoch 6/15\n",
      "60000/60000 [==============================] - 95s 2ms/step - loss: 0.0739 - acc: 0.9791 - val_loss: 0.0726 - val_acc: 0.9798\n",
      "Epoch 7/15\n",
      "60000/60000 [==============================] - 95s 2ms/step - loss: 0.0769 - acc: 0.9785 - val_loss: 0.2321 - val_acc: 0.9369\n",
      "Epoch 8/15\n",
      "60000/60000 [==============================] - 94s 2ms/step - loss: 0.0735 - acc: 0.9797 - val_loss: 0.1124 - val_acc: 0.9679\n",
      "Epoch 9/15\n",
      "60000/60000 [==============================] - 95s 2ms/step - loss: 0.0710 - acc: 0.9804 - val_loss: 0.0512 - val_acc: 0.9868\n",
      "Epoch 10/15\n",
      "60000/60000 [==============================] - 95s 2ms/step - loss: 0.0644 - acc: 0.9833 - val_loss: 0.0564 - val_acc: 0.9841\n",
      "Epoch 11/15\n",
      "60000/60000 [==============================] - 95s 2ms/step - loss: 0.0600 - acc: 0.9839 - val_loss: 0.0441 - val_acc: 0.9879\n",
      "Epoch 12/15\n",
      "60000/60000 [==============================] - 95s 2ms/step - loss: 0.0596 - acc: 0.9842 - val_loss: 0.0390 - val_acc: 0.9890\n",
      "Epoch 13/15\n",
      "60000/60000 [==============================] - 95s 2ms/step - loss: 0.0591 - acc: 0.9849 - val_loss: 0.0454 - val_acc: 0.9888\n",
      "Epoch 14/15\n",
      "60000/60000 [==============================] - 94s 2ms/step - loss: 0.0569 - acc: 0.9858 - val_loss: 0.0498 - val_acc: 0.9884\n",
      "Epoch 15/15\n",
      "60000/60000 [==============================] - 93s 2ms/step - loss: 0.0503 - acc: 0.9874 - val_loss: 0.1638 - val_acc: 0.9586\n"
     ]
    }
   ],
   "source": [
    "history = model.fit(train_data[0], train_data[1],\n",
    "                    epochs=15,\n",
    "                    batch_size=batch_size,\n",
    "                    shuffle=True,\n",
    "                    validation_data=test_data)"
   ]
  },
  {
   "cell_type": "code",
   "execution_count": 8,
   "metadata": {
    "ExecuteTime": {
     "end_time": "2019-08-22T08:29:34.736958Z",
     "start_time": "2019-08-22T08:29:30.860741Z"
    }
   },
   "outputs": [],
   "source": [
    "model.save('C:/Users/320060820/experiments/test_models/mnist_df/mnist_df_maxpool.h5')\n",
    "model.save_weights('C:/Users/320060820/experiments/test_models/mnist_df/mnist_df_maxpool_w.h5')"
   ]
  },
  {
   "cell_type": "code",
   "execution_count": null,
   "metadata": {},
   "outputs": [],
   "source": []
  }
 ],
 "metadata": {
  "kernelspec": {
   "display_name": "Python 3",
   "language": "python",
   "name": "python3"
  },
  "language_info": {
   "codemirror_mode": {
    "name": "ipython",
    "version": 3
   },
   "file_extension": ".py",
   "mimetype": "text/x-python",
   "name": "python",
   "nbconvert_exporter": "python",
   "pygments_lexer": "ipython3",
   "version": "3.7.3"
  },
  "varInspector": {
   "cols": {
    "lenName": 16,
    "lenType": 16,
    "lenVar": 40
   },
   "kernels_config": {
    "python": {
     "delete_cmd_postfix": "",
     "delete_cmd_prefix": "del ",
     "library": "var_list.py",
     "varRefreshCmd": "print(var_dic_list())"
    },
    "r": {
     "delete_cmd_postfix": ") ",
     "delete_cmd_prefix": "rm(",
     "library": "var_list.r",
     "varRefreshCmd": "cat(var_dic_list()) "
    }
   },
   "types_to_exclude": [
    "module",
    "function",
    "builtin_function_or_method",
    "instance",
    "_Feature"
   ],
   "window_display": false
  }
 },
 "nbformat": 4,
 "nbformat_minor": 2
}
