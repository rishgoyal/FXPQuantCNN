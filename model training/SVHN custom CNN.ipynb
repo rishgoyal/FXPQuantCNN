{
 "cells": [
  {
   "cell_type": "code",
   "execution_count": 1,
   "metadata": {},
   "outputs": [
    {
     "name": "stderr",
     "output_type": "stream",
     "text": [
      "Using TensorFlow backend.\n"
     ]
    }
   ],
   "source": [
    "import keras\n",
    "from keras import models, layers, optimizers\n",
    "from keras.datasets import mnist, cifar10\n",
    "import sys\n",
    "sys.path.append('C:/Users/320060820/experiments/')\n",
    "import os\n",
    "from model_gen import keras_cnn\n",
    "import copy\n",
    "\n",
    "import tensorflow as tf\n",
    "import numpy as np\n",
    "%matplotlib inline\n",
    "import matplotlib.pyplot as plt\n",
    "import seaborn as sns\n",
    "\n",
    "# to restart layer numbering\n",
    "from keras import backend as K\n",
    "K.clear_session()"
   ]
  },
  {
   "cell_type": "code",
   "execution_count": 2,
   "metadata": {},
   "outputs": [],
   "source": [
    "import scipy.io as sio"
   ]
  },
  {
   "cell_type": "code",
   "execution_count": 3,
   "metadata": {},
   "outputs": [],
   "source": [
    "train_data = sio.loadmat('../datasets/svhn/train_32x32.mat')\n",
    "test_data = sio.loadmat('../datasets/svhn/test_32x32.mat')"
   ]
  },
  {
   "cell_type": "code",
   "execution_count": 4,
   "metadata": {},
   "outputs": [],
   "source": [
    "(x_train, y_train), (x_test, y_test) = (train_data['X'], train_data['y']), (test_data['X'], test_data['y'])"
   ]
  },
  {
   "cell_type": "code",
   "execution_count": 5,
   "metadata": {},
   "outputs": [],
   "source": [
    "y_train[y_train == 10] = 0\n",
    "y_test[y_test == 10] = 0"
   ]
  },
  {
   "cell_type": "code",
   "execution_count": 6,
   "metadata": {},
   "outputs": [],
   "source": [
    "x_train = x_train.astype('float32')\n",
    "x_test = x_test.astype('float32')\n",
    "x_train /= 255.\n",
    "x_test /= 255.\n",
    "\n",
    "x_train = x_train[np.newaxis,...]\n",
    "x_train = np.swapaxes(x_train,0,4).squeeze()\n",
    "\n",
    "x_test = x_test[np.newaxis,...]\n",
    "x_test = np.swapaxes(x_test,0,4).squeeze()\n",
    "\n",
    "y_train = keras.utils.to_categorical(y_train, 10)\n",
    "y_test = keras.utils.to_categorical(y_test, 10)"
   ]
  },
  {
   "cell_type": "code",
   "execution_count": 7,
   "metadata": {},
   "outputs": [
    {
     "name": "stdout",
     "output_type": "stream",
     "text": [
      "WARNING:tensorflow:From C:\\Users\\320060820\\Anaconda3\\envs\\tf_gpu\\lib\\site-packages\\tensorflow\\python\\framework\\op_def_library.py:263: colocate_with (from tensorflow.python.framework.ops) is deprecated and will be removed in a future version.\n",
      "Instructions for updating:\n",
      "Colocations handled automatically by placer.\n",
      "WARNING:tensorflow:From C:\\Users\\320060820\\Anaconda3\\envs\\tf_gpu\\lib\\site-packages\\keras\\backend\\tensorflow_backend.py:3445: calling dropout (from tensorflow.python.ops.nn_ops) with keep_prob is deprecated and will be removed in a future version.\n",
      "Instructions for updating:\n",
      "Please use `rate` instead of `keep_prob`. Rate should be set to `rate = 1 - keep_prob`.\n"
     ]
    }
   ],
   "source": [
    "K.clear_session()\n",
    "model = models.Sequential()\n",
    "model.add(layers.Conv2D(32, (3, 3), activation='relu', input_shape=(32, 32, 3)))\n",
    "model.add(layers.BatchNormalization())\n",
    "model.add(layers.Conv2D(32, (3, 3), activation='relu'))\n",
    "model.add(layers.BatchNormalization())\n",
    "model.add(layers.MaxPooling2D(pool_size=(2, 2)))\n",
    "model.add(layers.Dropout(0.25))\n",
    "\n",
    "model.add(layers.Conv2D(64, (3, 3), padding='same', activation='relu'))\n",
    "model.add(layers.BatchNormalization())\n",
    "model.add(layers.Conv2D(64, (3, 3), activation='relu'))\n",
    "model.add(layers.BatchNormalization())\n",
    "model.add(layers.MaxPooling2D(pool_size=(2, 2)))\n",
    "model.add(layers.Dropout(0.25))\n",
    "\n",
    "model.add(layers.GlobalMaxPooling2D())\n",
    "model.add(layers.Dropout(0.25))\n",
    "model.add(layers.Dense(10, activation='softmax'))\n",
    "\n",
    "opt = optimizers.rmsprop(lr=0.0001)\n",
    "\n",
    "model.compile(loss='categorical_crossentropy', \n",
    "                optimizer = opt,\n",
    "                metrics=['accuracy'])"
   ]
  },
  {
   "cell_type": "code",
   "execution_count": 8,
   "metadata": {
    "scrolled": true
   },
   "outputs": [
    {
     "name": "stdout",
     "output_type": "stream",
     "text": [
      "WARNING:tensorflow:From C:\\Users\\320060820\\Anaconda3\\envs\\tf_gpu\\lib\\site-packages\\tensorflow\\python\\ops\\math_ops.py:3066: to_int32 (from tensorflow.python.ops.math_ops) is deprecated and will be removed in a future version.\n",
      "Instructions for updating:\n",
      "Use tf.cast instead.\n",
      "WARNING:tensorflow:From C:\\Users\\320060820\\Anaconda3\\envs\\tf_gpu\\lib\\site-packages\\tensorflow\\python\\ops\\math_grad.py:102: div (from tensorflow.python.ops.math_ops) is deprecated and will be removed in a future version.\n",
      "Instructions for updating:\n",
      "Deprecated in favor of operator or tf.math.divide.\n",
      "Train on 73257 samples, validate on 26032 samples\n",
      "Epoch 1/50\n",
      "73257/73257 [==============================] - 32s 439us/step - loss: 2.9962 - acc: 0.1463 - val_loss: 2.1709 - val_acc: 0.2497\n",
      "Epoch 2/50\n",
      "73257/73257 [==============================] - 31s 421us/step - loss: 2.3606 - acc: 0.2110 - val_loss: 1.9690 - val_acc: 0.3356\n",
      "Epoch 3/50\n",
      "73257/73257 [==============================] - 31s 417us/step - loss: 2.0843 - acc: 0.2872 - val_loss: 1.7709 - val_acc: 0.4461\n",
      "Epoch 4/50\n",
      "73257/73257 [==============================] - 31s 417us/step - loss: 1.8531 - acc: 0.3636 - val_loss: 1.5106 - val_acc: 0.5468\n",
      "Epoch 5/50\n",
      "73257/73257 [==============================] - 31s 418us/step - loss: 1.6517 - acc: 0.4408 - val_loss: 1.2656 - val_acc: 0.6623\n",
      "Epoch 6/50\n",
      "73257/73257 [==============================] - 30s 416us/step - loss: 1.4728 - acc: 0.5044 - val_loss: 1.1224 - val_acc: 0.7071\n",
      "Epoch 7/50\n",
      "73257/73257 [==============================] - 30s 416us/step - loss: 1.3130 - acc: 0.5654 - val_loss: 0.9597 - val_acc: 0.7654\n",
      "Epoch 8/50\n",
      "73257/73257 [==============================] - 31s 417us/step - loss: 1.1816 - acc: 0.6147 - val_loss: 0.8686 - val_acc: 0.7788\n",
      "Epoch 9/50\n",
      "73257/73257 [==============================] - 31s 419us/step - loss: 1.0743 - acc: 0.6532 - val_loss: 0.7494 - val_acc: 0.8168\n",
      "Epoch 10/50\n",
      "73257/73257 [==============================] - 31s 419us/step - loss: 0.9951 - acc: 0.6830 - val_loss: 0.7036 - val_acc: 0.8321\n",
      "Epoch 11/50\n",
      "73257/73257 [==============================] - 31s 419us/step - loss: 0.9330 - acc: 0.7034 - val_loss: 0.6524 - val_acc: 0.8385\n",
      "Epoch 12/50\n",
      "73257/73257 [==============================] - 31s 419us/step - loss: 0.8767 - acc: 0.7230 - val_loss: 0.5971 - val_acc: 0.8525\n",
      "Epoch 13/50\n",
      "73257/73257 [==============================] - 31s 420us/step - loss: 0.8337 - acc: 0.7362 - val_loss: 0.5551 - val_acc: 0.8570\n",
      "Epoch 14/50\n",
      "73257/73257 [==============================] - 31s 418us/step - loss: 0.8110 - acc: 0.7443 - val_loss: 0.5365 - val_acc: 0.8684\n",
      "Epoch 15/50\n",
      "73257/73257 [==============================] - 31s 419us/step - loss: 0.7810 - acc: 0.7564 - val_loss: 0.5290 - val_acc: 0.8706\n",
      "Epoch 16/50\n",
      "73257/73257 [==============================] - 31s 419us/step - loss: 0.7468 - acc: 0.7666 - val_loss: 0.5237 - val_acc: 0.8735\n",
      "Epoch 17/50\n",
      "73257/73257 [==============================] - 31s 419us/step - loss: 0.7278 - acc: 0.7740 - val_loss: 0.5173 - val_acc: 0.8644\n",
      "Epoch 18/50\n",
      "73257/73257 [==============================] - 31s 418us/step - loss: 0.7045 - acc: 0.7822 - val_loss: 0.4924 - val_acc: 0.8756\n",
      "Epoch 19/50\n",
      "73257/73257 [==============================] - 31s 418us/step - loss: 0.6870 - acc: 0.7872 - val_loss: 0.4657 - val_acc: 0.8822\n",
      "Epoch 20/50\n",
      "73257/73257 [==============================] - 31s 419us/step - loss: 0.6771 - acc: 0.7913 - val_loss: 0.4737 - val_acc: 0.8791\n",
      "Epoch 21/50\n",
      "73257/73257 [==============================] - 31s 420us/step - loss: 0.6596 - acc: 0.7962 - val_loss: 0.4501 - val_acc: 0.8919\n",
      "Epoch 22/50\n",
      "73257/73257 [==============================] - 31s 419us/step - loss: 0.6465 - acc: 0.7985 - val_loss: 0.4305 - val_acc: 0.8921\n",
      "Epoch 23/50\n",
      "73257/73257 [==============================] - 31s 419us/step - loss: 0.6363 - acc: 0.8023 - val_loss: 0.4195 - val_acc: 0.8951\n",
      "Epoch 24/50\n",
      "73257/73257 [==============================] - 31s 418us/step - loss: 0.6274 - acc: 0.8065 - val_loss: 0.4025 - val_acc: 0.8979\n",
      "Epoch 25/50\n",
      "73257/73257 [==============================] - 31s 420us/step - loss: 0.6163 - acc: 0.8110 - val_loss: 0.4149 - val_acc: 0.8950\n",
      "Epoch 26/50\n",
      "73257/73257 [==============================] - 31s 419us/step - loss: 0.6047 - acc: 0.8148 - val_loss: 0.4121 - val_acc: 0.8968\n",
      "Epoch 27/50\n",
      "73257/73257 [==============================] - 31s 420us/step - loss: 0.5974 - acc: 0.8168 - val_loss: 0.4318 - val_acc: 0.8894\n",
      "Epoch 28/50\n",
      "73257/73257 [==============================] - 31s 427us/step - loss: 0.5877 - acc: 0.8193 - val_loss: 0.4189 - val_acc: 0.8953\n",
      "Epoch 29/50\n",
      "73257/73257 [==============================] - 32s 433us/step - loss: 0.5819 - acc: 0.8214 - val_loss: 0.3955 - val_acc: 0.8974\n",
      "Epoch 30/50\n",
      "73257/73257 [==============================] - 31s 419us/step - loss: 0.5731 - acc: 0.8232 - val_loss: 0.3867 - val_acc: 0.9025\n",
      "Epoch 31/50\n",
      "73257/73257 [==============================] - 31s 418us/step - loss: 0.5661 - acc: 0.8260 - val_loss: 0.3909 - val_acc: 0.8959\n",
      "Epoch 32/50\n",
      "73257/73257 [==============================] - 31s 419us/step - loss: 0.5644 - acc: 0.8267 - val_loss: 0.3691 - val_acc: 0.9033\n",
      "Epoch 33/50\n",
      "73257/73257 [==============================] - 31s 420us/step - loss: 0.5556 - acc: 0.8299 - val_loss: 0.3631 - val_acc: 0.9039\n",
      "Epoch 34/50\n",
      "73257/73257 [==============================] - 31s 420us/step - loss: 0.5515 - acc: 0.8320 - val_loss: 0.3515 - val_acc: 0.9079\n",
      "Epoch 35/50\n",
      "73257/73257 [==============================] - 31s 419us/step - loss: 0.5462 - acc: 0.8331 - val_loss: 0.3589 - val_acc: 0.9029\n",
      "Epoch 36/50\n",
      "73257/73257 [==============================] - 31s 418us/step - loss: 0.5431 - acc: 0.8341 - val_loss: 0.3652 - val_acc: 0.9091\n",
      "Epoch 37/50\n",
      "73257/73257 [==============================] - 31s 419us/step - loss: 0.5348 - acc: 0.8356 - val_loss: 0.3579 - val_acc: 0.9040\n",
      "Epoch 38/50\n",
      "73257/73257 [==============================] - 31s 420us/step - loss: 0.5363 - acc: 0.8353 - val_loss: 0.3771 - val_acc: 0.8997\n",
      "Epoch 39/50\n",
      "73257/73257 [==============================] - 31s 420us/step - loss: 0.5298 - acc: 0.8369 - val_loss: 0.3479 - val_acc: 0.9063\n",
      "Epoch 40/50\n",
      "73257/73257 [==============================] - 31s 418us/step - loss: 0.5279 - acc: 0.8383 - val_loss: 0.3587 - val_acc: 0.9022\n",
      "Epoch 41/50\n",
      "73257/73257 [==============================] - 31s 418us/step - loss: 0.5195 - acc: 0.8411 - val_loss: 0.3343 - val_acc: 0.9099\n",
      "Epoch 42/50\n",
      "73257/73257 [==============================] - 31s 417us/step - loss: 0.5204 - acc: 0.8406 - val_loss: 0.3296 - val_acc: 0.9119\n",
      "Epoch 43/50\n",
      "73257/73257 [==============================] - 31s 417us/step - loss: 0.5177 - acc: 0.8403 - val_loss: 0.3181 - val_acc: 0.9138\n",
      "Epoch 44/50\n",
      "73257/73257 [==============================] - 31s 417us/step - loss: 0.5114 - acc: 0.8432 - val_loss: 0.3282 - val_acc: 0.9135\n",
      "Epoch 45/50\n",
      "73257/73257 [==============================] - 31s 417us/step - loss: 0.5105 - acc: 0.8432 - val_loss: 0.3872 - val_acc: 0.8895\n",
      "Epoch 46/50\n",
      "73257/73257 [==============================] - 31s 417us/step - loss: 0.5101 - acc: 0.8430 - val_loss: 0.3275 - val_acc: 0.9116\n",
      "Epoch 47/50\n",
      "73257/73257 [==============================] - 31s 417us/step - loss: 0.5042 - acc: 0.8456 - val_loss: 0.3127 - val_acc: 0.9152\n",
      "Epoch 48/50\n",
      "73257/73257 [==============================] - 31s 418us/step - loss: 0.5008 - acc: 0.8475 - val_loss: 0.3436 - val_acc: 0.9079\n",
      "Epoch 49/50\n",
      "73257/73257 [==============================] - 31s 419us/step - loss: 0.4991 - acc: 0.8475 - val_loss: 0.3249 - val_acc: 0.9119\n",
      "Epoch 50/50\n",
      "73257/73257 [==============================] - 31s 421us/step - loss: 0.4966 - acc: 0.8471 - val_loss: 0.3105 - val_acc: 0.9146\n"
     ]
    }
   ],
   "source": [
    "history = model.fit(x_train, y_train,\n",
    "                    epochs=50,\n",
    "                    batch_size=32,\n",
    "                    shuffle=True, \n",
    "                    validation_data=(x_test, y_test))"
   ]
  },
  {
   "cell_type": "code",
   "execution_count": 9,
   "metadata": {},
   "outputs": [],
   "source": [
    "model.save('../test_models/svhn_keras/svhn_keras.h5')\n",
    "model.save_weights('../test_models/svhn_keras/svhn_keras_w.h5')"
   ]
  },
  {
   "cell_type": "code",
   "execution_count": null,
   "metadata": {},
   "outputs": [],
   "source": []
  }
 ],
 "metadata": {
  "kernelspec": {
   "display_name": "Python 3",
   "language": "python",
   "name": "python3"
  },
  "language_info": {
   "codemirror_mode": {
    "name": "ipython",
    "version": 3
   },
   "file_extension": ".py",
   "mimetype": "text/x-python",
   "name": "python",
   "nbconvert_exporter": "python",
   "pygments_lexer": "ipython3",
   "version": "3.7.3"
  }
 },
 "nbformat": 4,
 "nbformat_minor": 2
}
