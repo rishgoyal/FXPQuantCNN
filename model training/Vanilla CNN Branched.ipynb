{
 "cells": [
  {
   "cell_type": "code",
   "execution_count": 1,
   "metadata": {
    "ExecuteTime": {
     "end_time": "2019-08-21T12:32:39.601692Z",
     "start_time": "2019-08-21T12:32:36.712126Z"
    }
   },
   "outputs": [
    {
     "name": "stderr",
     "output_type": "stream",
     "text": [
      "Using TensorFlow backend.\n"
     ]
    }
   ],
   "source": [
    "from keras.models import Sequential, Model, load_model, model_from_json\n",
    "from keras import layers\n",
    "from keras.layers import Activation\n",
    "from keras.layers import Input\n",
    "import keras\n",
    "from keras.datasets import mnist\n",
    "import sys\n",
    "sys.path.append('C:/Users/320060820/experiments/')\n",
    "# from inception_model import get_model\n",
    "import copy\n",
    "\n",
    "import tensorflow as tf\n",
    "import numpy as np\n",
    "%matplotlib inline\n",
    "import matplotlib.pyplot as plt\n",
    "\n",
    "from keras import backend as K"
   ]
  },
  {
   "cell_type": "code",
   "execution_count": 2,
   "metadata": {
    "ExecuteTime": {
     "end_time": "2019-08-21T12:32:39.975661Z",
     "start_time": "2019-08-21T12:32:39.613630Z"
    }
   },
   "outputs": [],
   "source": [
    "from test_models.mnist_custom import data\n",
    "train_data, test_data = data.get_data()"
   ]
  },
  {
   "cell_type": "code",
   "execution_count": 3,
   "metadata": {
    "ExecuteTime": {
     "end_time": "2019-08-21T12:32:39.997633Z",
     "start_time": "2019-08-21T12:32:39.994629Z"
    }
   },
   "outputs": [],
   "source": [
    "epochs = 20\n",
    "batch_size = 64"
   ]
  },
  {
   "cell_type": "code",
   "execution_count": 4,
   "metadata": {
    "ExecuteTime": {
     "end_time": "2019-08-21T12:32:41.554607Z",
     "start_time": "2019-08-21T12:32:40.018581Z"
    }
   },
   "outputs": [
    {
     "name": "stdout",
     "output_type": "stream",
     "text": [
      "WARNING:tensorflow:From C:\\Users\\320060820\\Anaconda3\\envs\\tf_gpu\\lib\\site-packages\\tensorflow\\python\\framework\\op_def_library.py:263: colocate_with (from tensorflow.python.framework.ops) is deprecated and will be removed in a future version.\n",
      "Instructions for updating:\n",
      "Colocations handled automatically by placer.\n",
      "WARNING:tensorflow:From C:\\Users\\320060820\\Anaconda3\\envs\\tf_gpu\\lib\\site-packages\\keras\\backend\\tensorflow_backend.py:3445: calling dropout (from tensorflow.python.ops.nn_ops) with keep_prob is deprecated and will be removed in a future version.\n",
      "Instructions for updating:\n",
      "Please use `rate` instead of `keep_prob`. Rate should be set to `rate = 1 - keep_prob`.\n"
     ]
    }
   ],
   "source": [
    "input_shape = (28, 28, 1)\n",
    "num_outputs = 10\n",
    "dropout = True\n",
    "pool_layer_type = 'max'\n",
    "\n",
    "from model_gen import branched_cnn\n",
    "\n",
    "model_arch = branched_cnn.BranchedCNN(input_shape, num_outputs, dropout, pool_layer_type)\n",
    "model = model_arch.get_float_model()"
   ]
  },
  {
   "cell_type": "code",
   "execution_count": 5,
   "metadata": {
    "ExecuteTime": {
     "end_time": "2019-08-21T12:51:16.917521Z",
     "start_time": "2019-08-21T12:32:54.021314Z"
    }
   },
   "outputs": [
    {
     "name": "stdout",
     "output_type": "stream",
     "text": [
      "WARNING:tensorflow:From C:\\Users\\320060820\\Anaconda3\\envs\\tf_gpu\\lib\\site-packages\\tensorflow\\python\\ops\\math_ops.py:3066: to_int32 (from tensorflow.python.ops.math_ops) is deprecated and will be removed in a future version.\n",
      "Instructions for updating:\n",
      "Use tf.cast instead.\n",
      "WARNING:tensorflow:From C:\\Users\\320060820\\Anaconda3\\envs\\tf_gpu\\lib\\site-packages\\tensorflow\\python\\ops\\math_grad.py:102: div (from tensorflow.python.ops.math_ops) is deprecated and will be removed in a future version.\n",
      "Instructions for updating:\n",
      "Deprecated in favor of operator or tf.math.divide.\n",
      "Train on 60000 samples, validate on 10000 samples\n",
      "Epoch 1/20\n",
      "60000/60000 [==============================] - 59s 982us/step - loss: 1.1241 - acc: 0.7328 - val_loss: 0.1374 - val_acc: 0.9545\n",
      "Epoch 2/20\n",
      "60000/60000 [==============================] - 55s 924us/step - loss: 0.3055 - acc: 0.9084 - val_loss: 0.0899 - val_acc: 0.9714\n",
      "Epoch 3/20\n",
      "60000/60000 [==============================] - 55s 921us/step - loss: 0.2048 - acc: 0.9388 - val_loss: 0.0737 - val_acc: 0.9753\n",
      "Epoch 4/20\n",
      "60000/60000 [==============================] - 55s 913us/step - loss: 0.1597 - acc: 0.9514 - val_loss: 0.0653 - val_acc: 0.9787\n",
      "Epoch 5/20\n",
      "60000/60000 [==============================] - 55s 914us/step - loss: 0.1362 - acc: 0.9585 - val_loss: 0.0603 - val_acc: 0.9810\n",
      "Epoch 6/20\n",
      "60000/60000 [==============================] - 55s 914us/step - loss: 0.1213 - acc: 0.9619 - val_loss: 0.0510 - val_acc: 0.9831\n",
      "Epoch 7/20\n",
      "60000/60000 [==============================] - 55s 914us/step - loss: 0.1089 - acc: 0.9661 - val_loss: 0.0579 - val_acc: 0.9818\n",
      "Epoch 8/20\n",
      "60000/60000 [==============================] - 55s 915us/step - loss: 0.0932 - acc: 0.9708 - val_loss: 0.0593 - val_acc: 0.9805\n",
      "Epoch 9/20\n",
      "60000/60000 [==============================] - 55s 914us/step - loss: 0.0893 - acc: 0.9718 - val_loss: 0.0715 - val_acc: 0.9794\n",
      "Epoch 10/20\n",
      "60000/60000 [==============================] - 55s 914us/step - loss: 0.0805 - acc: 0.9743 - val_loss: 0.0517 - val_acc: 0.9845\n",
      "Epoch 11/20\n",
      "60000/60000 [==============================] - 55s 914us/step - loss: 0.0707 - acc: 0.9770 - val_loss: 0.0481 - val_acc: 0.9854\n",
      "Epoch 12/20\n",
      "60000/60000 [==============================] - 55s 914us/step - loss: 0.0676 - acc: 0.9790 - val_loss: 0.0495 - val_acc: 0.9835\n",
      "Epoch 13/20\n",
      "60000/60000 [==============================] - 55s 914us/step - loss: 0.0606 - acc: 0.9806 - val_loss: 0.0450 - val_acc: 0.9851\n",
      "Epoch 14/20\n",
      "60000/60000 [==============================] - 55s 914us/step - loss: 0.0556 - acc: 0.9821 - val_loss: 0.0439 - val_acc: 0.9866\n",
      "Epoch 15/20\n",
      "60000/60000 [==============================] - 55s 914us/step - loss: 0.0531 - acc: 0.9826 - val_loss: 0.0464 - val_acc: 0.9849\n",
      "Epoch 16/20\n",
      "60000/60000 [==============================] - 55s 914us/step - loss: 0.0481 - acc: 0.9847 - val_loss: 0.0411 - val_acc: 0.9866\n",
      "Epoch 17/20\n",
      "60000/60000 [==============================] - 55s 913us/step - loss: 0.0415 - acc: 0.9865 - val_loss: 0.0440 - val_acc: 0.9872\n",
      "Epoch 18/20\n",
      "60000/60000 [==============================] - 55s 913us/step - loss: 0.0401 - acc: 0.9869 - val_loss: 0.0362 - val_acc: 0.9884\n",
      "Epoch 19/20\n",
      "60000/60000 [==============================] - 55s 914us/step - loss: 0.0365 - acc: 0.9887 - val_loss: 0.0410 - val_acc: 0.9875\n",
      "Epoch 20/20\n",
      "60000/60000 [==============================] - 55s 914us/step - loss: 0.0369 - acc: 0.9879 - val_loss: 0.0381 - val_acc: 0.9896\n"
     ]
    }
   ],
   "source": [
    "history = model.fit(train_data[0], train_data[1],\n",
    "                    epochs=epochs,\n",
    "                    batch_size=batch_size,\n",
    "                    shuffle=True,\n",
    "                    validation_data=test_data)"
   ]
  },
  {
   "cell_type": "code",
   "execution_count": 6,
   "metadata": {
    "ExecuteTime": {
     "end_time": "2019-08-21T12:51:17.596300Z",
     "start_time": "2019-08-21T12:51:16.938465Z"
    }
   },
   "outputs": [],
   "source": [
    "model.save('C:/Users/320060820/experiments/test_models/mnist_custom/mnist_vanilla_branched.h5')\n",
    "model.save_weights('C:/Users/320060820/experiments/test_models/mnist_custom/mnist_vanilla_branched_w.h5')"
   ]
  },
  {
   "cell_type": "code",
   "execution_count": null,
   "metadata": {},
   "outputs": [],
   "source": []
  }
 ],
 "metadata": {
  "kernelspec": {
   "display_name": "Python 3",
   "language": "python",
   "name": "python3"
  },
  "language_info": {
   "codemirror_mode": {
    "name": "ipython",
    "version": 3
   },
   "file_extension": ".py",
   "mimetype": "text/x-python",
   "name": "python",
   "nbconvert_exporter": "python",
   "pygments_lexer": "ipython3",
   "version": "3.7.3"
  },
  "varInspector": {
   "cols": {
    "lenName": 16,
    "lenType": 16,
    "lenVar": 40
   },
   "kernels_config": {
    "python": {
     "delete_cmd_postfix": "",
     "delete_cmd_prefix": "del ",
     "library": "var_list.py",
     "varRefreshCmd": "print(var_dic_list())"
    },
    "r": {
     "delete_cmd_postfix": ") ",
     "delete_cmd_prefix": "rm(",
     "library": "var_list.r",
     "varRefreshCmd": "cat(var_dic_list()) "
    }
   },
   "types_to_exclude": [
    "module",
    "function",
    "builtin_function_or_method",
    "instance",
    "_Feature"
   ],
   "window_display": false
  }
 },
 "nbformat": 4,
 "nbformat_minor": 2
}
